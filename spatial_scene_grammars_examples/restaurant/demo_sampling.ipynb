{
 "cells": [
  {
   "cell_type": "code",
   "execution_count": 1,
   "metadata": {},
   "outputs": [
    {
     "name": "stderr",
     "output_type": "stream",
     "text": [
      "/home/nepfaff/src/spatial_scene_grammars/.venv/lib/python3.10/site-packages/torch/__init__.py:747: UserWarning: torch.set_default_tensor_type() is deprecated as of PyTorch 2.1, please use torch.set_default_dtype() and torch.set_default_device() as alternatives. (Triggered internally at ../torch/csrc/tensor/python_tensor.cpp:431.)\n",
      "  _C._set_default_tensor_type(t)\n",
      "/home/nepfaff/src/spatial_scene_grammars/.venv/lib/python3.10/site-packages/tqdm/auto.py:21: TqdmWarning: IProgress not found. Please update jupyter and ipywidgets. See https://ipywidgets.readthedocs.io/en/stable/user_install.html\n",
      "  from .autonotebook import tqdm as notebook_tqdm\n"
     ]
    },
    {
     "ename": "ImportError",
     "evalue": "cannot import name 'ConnectMeshcatVisualizer' from 'pydrake.all' (/home/nepfaff/src/spatial_scene_grammars/.venv/lib/python3.10/site-packages/pydrake/all.py)",
     "output_type": "error",
     "traceback": [
      "\u001b[0;31m---------------------------------------------------------------------------\u001b[0m",
      "\u001b[0;31mImportError\u001b[0m                               Traceback (most recent call last)",
      "Cell \u001b[0;32mIn[1], line 15\u001b[0m\n\u001b[1;32m     12\u001b[0m \u001b[38;5;28;01mimport\u001b[39;00m \u001b[38;5;21;01mtorch\u001b[39;00m\n\u001b[1;32m     13\u001b[0m torch\u001b[38;5;241m.\u001b[39mset_default_tensor_type(torch\u001b[38;5;241m.\u001b[39mDoubleTensor)\n\u001b[0;32m---> 15\u001b[0m \u001b[38;5;28;01mfrom\u001b[39;00m \u001b[38;5;21;01mspatial_scene_grammars\u001b[39;00m\u001b[38;5;21;01m.\u001b[39;00m\u001b[38;5;21;01mconstraints\u001b[39;00m \u001b[38;5;28;01mimport\u001b[39;00m \u001b[38;5;241m*\u001b[39m\n\u001b[1;32m     16\u001b[0m \u001b[38;5;28;01mfrom\u001b[39;00m \u001b[38;5;21;01mspatial_scene_grammars\u001b[39;00m\u001b[38;5;21;01m.\u001b[39;00m\u001b[38;5;21;01mnodes\u001b[39;00m \u001b[38;5;28;01mimport\u001b[39;00m \u001b[38;5;241m*\u001b[39m\n\u001b[1;32m     17\u001b[0m \u001b[38;5;28;01mfrom\u001b[39;00m \u001b[38;5;21;01mspatial_scene_grammars\u001b[39;00m\u001b[38;5;21;01m.\u001b[39;00m\u001b[38;5;21;01mrules\u001b[39;00m \u001b[38;5;28;01mimport\u001b[39;00m \u001b[38;5;241m*\u001b[39m\n",
      "File \u001b[0;32m~/src/spatial_scene_grammars/spatial_scene_grammars/constraints.py:4\u001b[0m\n\u001b[1;32m      2\u001b[0m \u001b[38;5;28;01mimport\u001b[39;00m \u001b[38;5;21;01mnetworkx\u001b[39;00m \u001b[38;5;28;01mas\u001b[39;00m \u001b[38;5;21;01mnx\u001b[39;00m\n\u001b[1;32m      3\u001b[0m \u001b[38;5;28;01mimport\u001b[39;00m \u001b[38;5;21;01mtorch\u001b[39;00m\n\u001b[0;32m----> 4\u001b[0m \u001b[38;5;28;01mfrom\u001b[39;00m \u001b[38;5;21;01m.\u001b[39;00m\u001b[38;5;21;01mnodes\u001b[39;00m \u001b[38;5;28;01mimport\u001b[39;00m TerminalNode, Node\n\u001b[1;32m      7\u001b[0m \u001b[38;5;124;03m'''\u001b[39;00m\n\u001b[1;32m      8\u001b[0m \n\u001b[1;32m      9\u001b[0m \u001b[38;5;124;03mClearly, this is gonna be an important and hard part of this system\u001b[39;00m\n\u001b[0;32m   (...)\u001b[0m\n\u001b[1;32m     18\u001b[0m \n\u001b[1;32m     19\u001b[0m \u001b[38;5;124;03m'''\u001b[39;00m\n\u001b[1;32m     21\u001b[0m \u001b[38;5;28;01mclass\u001b[39;00m \u001b[38;5;21;01mConstraint\u001b[39;00m():\n",
      "File \u001b[0;32m~/src/spatial_scene_grammars/spatial_scene_grammars/nodes.py:12\u001b[0m\n\u001b[1;32m      9\u001b[0m \u001b[38;5;28;01mfrom\u001b[39;00m \u001b[38;5;21;01mtorch\u001b[39;00m\u001b[38;5;21;01m.\u001b[39;00m\u001b[38;5;21;01mdistributions\u001b[39;00m\u001b[38;5;21;01m.\u001b[39;00m\u001b[38;5;21;01mutils\u001b[39;00m \u001b[38;5;28;01mimport\u001b[39;00m clamp_probs \u001b[38;5;28;01mas\u001b[39;00m torch_clamp_probs\n\u001b[1;32m     11\u001b[0m \u001b[38;5;28;01mfrom\u001b[39;00m \u001b[38;5;21;01m.\u001b[39;00m\u001b[38;5;21;01mtorch_utils\u001b[39;00m \u001b[38;5;28;01mimport\u001b[39;00m ConstrainedParameter\n\u001b[0;32m---> 12\u001b[0m \u001b[38;5;28;01mfrom\u001b[39;00m \u001b[38;5;21;01m.\u001b[39;00m\u001b[38;5;21;01mrules\u001b[39;00m \u001b[38;5;28;01mimport\u001b[39;00m \u001b[38;5;241m*\u001b[39m\n\u001b[1;32m     14\u001b[0m \u001b[38;5;28;01mimport\u001b[39;00m \u001b[38;5;21;01mpydrake\u001b[39;00m\n\u001b[1;32m     15\u001b[0m \u001b[38;5;28;01mfrom\u001b[39;00m \u001b[38;5;21;01mpydrake\u001b[39;00m\u001b[38;5;21;01m.\u001b[39;00m\u001b[38;5;21;01mall\u001b[39;00m \u001b[38;5;28;01mimport\u001b[39;00m (\n\u001b[1;32m     16\u001b[0m     CoulombFriction,\n\u001b[1;32m     17\u001b[0m     SpatialInertia,\n\u001b[1;32m     18\u001b[0m     UnitInertia\n\u001b[1;32m     19\u001b[0m )\n",
      "File \u001b[0;32m~/src/spatial_scene_grammars/spatial_scene_grammars/rules.py:16\u001b[0m\n\u001b[1;32m      9\u001b[0m \u001b[38;5;28;01mfrom\u001b[39;00m \u001b[38;5;21;01mtorch\u001b[39;00m\u001b[38;5;21;01m.\u001b[39;00m\u001b[38;5;21;01mdistributions\u001b[39;00m \u001b[38;5;28;01mimport\u001b[39;00m constraints\n\u001b[1;32m     11\u001b[0m \u001b[38;5;28;01mfrom\u001b[39;00m \u001b[38;5;21;01mpytorch3d\u001b[39;00m\u001b[38;5;21;01m.\u001b[39;00m\u001b[38;5;21;01mtransforms\u001b[39;00m\u001b[38;5;21;01m.\u001b[39;00m\u001b[38;5;21;01mrotation_conversions\u001b[39;00m \u001b[38;5;28;01mimport\u001b[39;00m (\n\u001b[1;32m     12\u001b[0m     quaternion_to_matrix, matrix_to_quaternion,\n\u001b[1;32m     13\u001b[0m     axis_angle_to_matrix, quaternion_to_axis_angle\n\u001b[1;32m     14\u001b[0m )\n\u001b[0;32m---> 16\u001b[0m \u001b[38;5;28;01mfrom\u001b[39;00m \u001b[38;5;21;01m.\u001b[39;00m\u001b[38;5;21;01mdrake_interop\u001b[39;00m \u001b[38;5;28;01mimport\u001b[39;00m drake_tf_to_torch_tf, torch_tf_to_drake_tf\n\u001b[1;32m     17\u001b[0m \u001b[38;5;28;01mfrom\u001b[39;00m \u001b[38;5;21;01m.\u001b[39;00m\u001b[38;5;21;01mdistributions\u001b[39;00m \u001b[38;5;28;01mimport\u001b[39;00m UniformWithEqualityHandling, BinghamDistribution\n\u001b[1;32m     18\u001b[0m \u001b[38;5;28;01mfrom\u001b[39;00m \u001b[38;5;21;01m.\u001b[39;00m\u001b[38;5;21;01mtorch_utils\u001b[39;00m \u001b[38;5;28;01mimport\u001b[39;00m ConstrainedParameter\n",
      "File \u001b[0;32m~/src/spatial_scene_grammars/spatial_scene_grammars/drake_interop.py:16\u001b[0m\n\u001b[1;32m     14\u001b[0m \u001b[38;5;28;01mimport\u001b[39;00m \u001b[38;5;21;01mpydrake\u001b[39;00m\n\u001b[1;32m     15\u001b[0m \u001b[38;5;28;01mfrom\u001b[39;00m \u001b[38;5;21;01mpydrake\u001b[39;00m\u001b[38;5;21;01m.\u001b[39;00m\u001b[38;5;21;01mcommon\u001b[39;00m\u001b[38;5;21;01m.\u001b[39;00m\u001b[38;5;21;01mcpp_param\u001b[39;00m \u001b[38;5;28;01mimport\u001b[39;00m List \u001b[38;5;28;01mas\u001b[39;00m DrakeBindingList\n\u001b[0;32m---> 16\u001b[0m \u001b[38;5;28;01mfrom\u001b[39;00m \u001b[38;5;21;01mpydrake\u001b[39;00m\u001b[38;5;21;01m.\u001b[39;00m\u001b[38;5;21;01mall\u001b[39;00m \u001b[38;5;28;01mimport\u001b[39;00m (\n\u001b[1;32m     17\u001b[0m     AddMultibodyPlantSceneGraph,\n\u001b[1;32m     18\u001b[0m     AngleAxis,\n\u001b[1;32m     19\u001b[0m     BasicVector,\n\u001b[1;32m     20\u001b[0m     BodyIndex,\n\u001b[1;32m     21\u001b[0m     ConnectMeshcatVisualizer,\n\u001b[1;32m     22\u001b[0m     CoulombFriction,\n\u001b[1;32m     23\u001b[0m     DiagramBuilder,\n\u001b[1;32m     24\u001b[0m     ExternallyAppliedSpatialForce,\n\u001b[1;32m     25\u001b[0m     LeafSystem,\n\u001b[1;32m     26\u001b[0m     InverseKinematics,\n\u001b[1;32m     27\u001b[0m     MeshcatVisualizer,\n\u001b[1;32m     28\u001b[0m     MinimumDistanceConstraint,\n\u001b[1;32m     29\u001b[0m     ModelInstanceIndex,\n\u001b[1;32m     30\u001b[0m     MultibodyPlant,\n\u001b[1;32m     31\u001b[0m     SpatialInertia,\n\u001b[1;32m     32\u001b[0m     Parser,\n\u001b[1;32m     33\u001b[0m     RigidTransform,\n\u001b[1;32m     34\u001b[0m     RotationMatrix,\n\u001b[1;32m     35\u001b[0m     SpatialForce,\n\u001b[1;32m     36\u001b[0m     Simulator,\n\u001b[1;32m     37\u001b[0m     SnoptSolver,\n\u001b[1;32m     38\u001b[0m     Solve,\n\u001b[1;32m     39\u001b[0m     SolverOptions,\n\u001b[1;32m     40\u001b[0m     UnitInertia,\n\u001b[1;32m     41\u001b[0m     Value\n\u001b[1;32m     42\u001b[0m )\n\u001b[1;32m     43\u001b[0m \u001b[38;5;28;01mimport\u001b[39;00m \u001b[38;5;21;01mpydrake\u001b[39;00m\u001b[38;5;21;01m.\u001b[39;00m\u001b[38;5;21;01mgeometry\u001b[39;00m \u001b[38;5;28;01mas\u001b[39;00m \u001b[38;5;21;01mpydrake_geom\u001b[39;00m\n\u001b[1;32m     45\u001b[0m \u001b[38;5;28;01mdef\u001b[39;00m \u001b[38;5;21mtorch_tf_to_drake_tf\u001b[39m(tf):\n",
      "\u001b[0;31mImportError\u001b[0m: cannot import name 'ConnectMeshcatVisualizer' from 'pydrake.all' (/home/nepfaff/src/spatial_scene_grammars/.venv/lib/python3.10/site-packages/pydrake/all.py)"
     ]
    }
   ],
   "source": [
    "%load_ext autoreload\n",
    "%autoreload 2\n",
    "\n",
    "import matplotlib.pyplot as plt\n",
    "import networkx as nx\n",
    "import numpy as np\n",
    "import os\n",
    "import pickle\n",
    "import time\n",
    "from tqdm.notebook import tqdm\n",
    "\n",
    "import torch\n",
    "torch.set_default_tensor_type(torch.DoubleTensor)\n",
    "\n",
    "from spatial_scene_grammars.constraints import *\n",
    "from spatial_scene_grammars.nodes import *\n",
    "from spatial_scene_grammars.rules import *\n",
    "from spatial_scene_grammars.scene_grammar import *\n",
    "from spatial_scene_grammars.visualization import *\n",
    "from spatial_scene_grammars_examples.restaurant.grammar import *\n",
    "from spatial_scene_grammars.parsing import *\n",
    "from spatial_scene_grammars.sampling import *\n",
    "from spatial_scene_grammars.parameter_estimation import *\n",
    "from spatial_scene_grammars.dataset import *\n",
    "\n",
    "import meshcat\n",
    "import meshcat.geometry as meshcat_geom"
   ]
  },
  {
   "cell_type": "code",
   "execution_count": 2,
   "metadata": {},
   "outputs": [
    {
     "name": "stdout",
     "output_type": "stream",
     "text": [
      "You can open the visualizer by visiting the following URL:\n",
      "http://127.0.0.1:7002/static/\n",
      "Meshcat url:  http://127.0.0.1:7002/static/\n"
     ]
    },
    {
     "data": {
      "text/plain": [
       "'\\nfrom IPython.display import HTML\\nHTML(\"\"\"\\n    <div style=\"height: 400px; width: 100%; overflow-x: auto; overflow-y: hidden; resize: both\">\\n    <iframe src=\"{url}\" style=\"width: 100%; height: 100%; border: none\"></iframe>\\n</div>\\n\"\"\".format(url=meshcat_url))\\n'"
      ]
     },
     "execution_count": 2,
     "metadata": {},
     "output_type": "execute_result"
    }
   ],
   "source": [
    "if 'vis' not in globals():\n",
    "    vis = meshcat.Visualizer()\n",
    "vis.delete()\n",
    "base_url = \"http://127.0.0.1\"\n",
    "meshcat_url = base_url + \":\" + vis.url().split(\":\")[-1]\n",
    "print(\"Meshcat url: \", meshcat_url)\n",
    "'''\n",
    "from IPython.display import HTML\n",
    "HTML(\"\"\"\n",
    "    <div style=\"height: 400px; width: 100%; overflow-x: auto; overflow-y: hidden; resize: both\">\n",
    "    <iframe src=\"{url}\" style=\"width: 100%; height: 100%; border: none\"></iframe>\n",
    "</div>\n",
    "\"\"\".format(url=meshcat_url))\n",
    "'''"
   ]
  },
  {
   "cell_type": "code",
   "execution_count": 3,
   "metadata": {},
   "outputs": [
    {
     "name": "stderr",
     "output_type": "stream",
     "text": [
      "WARNING:root:Detaching BinghamDistribution parameters.\n",
      "WARNING:root:Prior over parameters of WorldFrameBinghamRotationRule are Deltas.\n"
     ]
    }
   ],
   "source": [
    "# Set up grammar\n",
    "grammar = SpatialSceneGrammar(\n",
    "    root_node_type = Restaurant,\n",
    "    root_node_tf = drake_tf_to_torch_tf(RigidTransform(p=[0.5, 0., 0.]))\n",
    ")"
   ]
  },
  {
   "cell_type": "code",
   "execution_count": 4,
   "metadata": {},
   "outputs": [
    {
     "name": "stderr",
     "output_type": "stream",
     "text": [
      "[2021-10-02 22:47:47.162] [console] [warning] FindResource ignoring DRAKE_RESOURCE_ROOT='/home/gizatt/drake' because it does not contain a 'drake' subdirectory.\n"
     ]
    },
    {
     "name": "stdout",
     "output_type": "stream",
     "text": [
      "Hashed to  8582718954166209156\n",
      "Hashed to  5627450421532305113\n",
      "Hashed to  5508224886310018529\n",
      "Hashed to  5667577609026173632\n",
      "Hashed to  -7669221360013494326\n",
      "Hashed to  5508224886310018529\n",
      "Hashed to  5627450421532305113\n",
      "Hashed to  5627450421532305113\n",
      "Hashed to  5508224886310018529\n",
      "Hashed to  5627450421532305113\n",
      "Hashed to  5627450421532305113\n",
      "Hashed to  -8605027120741925205\n",
      "Hashed to  8785377224278610461\n",
      "Hashed to  5508224886310018529\n",
      "Hashed to  8785377224278610461\n",
      "Hashed to  -7669221360013494326\n",
      "Hashed to  5627450421532305113\n"
     ]
    }
   ],
   "source": [
    "# Single unconstrained draw\n",
    "torch.random.manual_seed(43)\n",
    "tree = grammar.sample_tree(detach=True)\n",
    "draw_scene_tree_contents_meshcat(tree, zmq_url=vis.window.zmq_url,  prefix=\"contents/sample\")\n",
    "draw_scene_tree_structure_meshcat(tree, zmq_url=vis.window.zmq_url,  prefix=\"structure/sample\")"
   ]
  },
  {
   "cell_type": "code",
   "execution_count": 5,
   "metadata": {},
   "outputs": [
    {
     "name": "stderr",
     "output_type": "stream",
     "text": [
      "WARNING:root:validate_sample disabled in UniformWithEqualityHandling\n",
      "WARNING:root:validate_sample disabled in UniformWithEqualityHandling\n",
      "WARNING:root:validate_sample disabled in UniformWithEqualityHandling\n",
      "WARNING:root:validate_sample disabled in UniformWithEqualityHandling\n",
      "WARNING:root:validate_sample disabled in UniformWithEqualityHandling\n",
      "WARNING:root:validate_sample disabled in UniformWithEqualityHandling\n",
      "WARNING:root:validate_sample disabled in UniformWithEqualityHandling\n",
      "WARNING:root:validate_sample disabled in UniformWithEqualityHandling\n",
      "WARNING:root:validate_sample disabled in UniformWithEqualityHandling\n",
      "WARNING:root:validate_sample disabled in UniformWithEqualityHandling\n",
      "WARNING:root:validate_sample disabled in UniformWithEqualityHandling\n",
      "WARNING:root:validate_sample disabled in UniformWithEqualityHandling\n",
      "WARNING:root:validate_sample disabled in UniformWithEqualityHandling\n",
      "WARNING:root:validate_sample disabled in UniformWithEqualityHandling\n",
      "WARNING:root:validate_sample disabled in UniformWithEqualityHandling\n",
      "WARNING:root:validate_sample disabled in UniformWithEqualityHandling\n",
      "Warmup:   0%|          | 0/30 [00:00, ?it/s]WARNING:root:NormalizeWithPseudoInverse LogAbsDet is super sketchy\n"
     ]
    },
    {
     "name": "stdout",
     "output_type": "stream",
     "text": [
      "Initial trace log prob:  tensor(-2033.5392)\n"
     ]
    },
    {
     "name": "stderr",
     "output_type": "stream",
     "text": [
      "Sample: 100%|██████████| 30/30 [01:28,  2.94s/it, step size=4.01e-03, acc. prob=0.870]\n"
     ]
    }
   ],
   "source": [
    "# Constraints\n",
    "class TablesInRoomConstraint(Constraint):\n",
    "    # XY coord of each table inside of [-5, 5]\n",
    "    def __init__(self):\n",
    "        lb = torch.tensor([-4., -4.])\n",
    "        ub = torch.tensor([4., 4.])\n",
    "        super().__init__(\n",
    "            lower_bound=lb,\n",
    "            upper_bound=ub\n",
    "        )\n",
    "    def eval(self, scene_tree):\n",
    "        xys = [node.translation[:2] for node in scene_tree.nodes if type(node) is Table]\n",
    "        if len(xys) > 0:\n",
    "            return torch.stack(xys, axis=0)\n",
    "        else:\n",
    "            return torch.empty(size=(0, 2))\n",
    "    def add_to_ik_prog(self, scene_tree, ik, mbp, mbp_context, node_to_free_body_ids_map):\n",
    "        raise NotImplementedError()\n",
    "\n",
    "class TableSpacingConstraint(Constraint):\n",
    "    # Table centers all a minimum distance apart. Distance is in squared\n",
    "    # euclidean distance space; for some reason, adding sqrt causes gradients\n",
    "    # to go NaN.\n",
    "    def __init__(self):\n",
    "        lb = torch.tensor([2.]).square()\n",
    "        ub = torch.tensor([np.inf])\n",
    "        super().__init__(\n",
    "            lower_bound=lb,\n",
    "            upper_bound=ub\n",
    "        )\n",
    "    def eval(self, scene_tree):\n",
    "        xys = [node.translation[:2] for node in scene_tree.nodes if type(node) is Table]\n",
    "        if len(xys) > 1:\n",
    "            xys = torch.stack(xys, axis=0) # N x 2\n",
    "            N = xys.shape[0]\n",
    "            xys_rowwise = xys.unsqueeze(1).expand(-1, N, -1)\n",
    "            xys_colwise = xys.unsqueeze(0).expand(N, -1, -1)\n",
    "            dists = (xys_rowwise - xys_colwise).square().sum(axis=-1)\n",
    "            # Get only lower triangular non-diagonal elems\n",
    "            rows, cols = torch.tril_indices(N, N, -1)\n",
    "            dists = dists[rows, cols].reshape(-1, 1)\n",
    "            return dists\n",
    "        else:\n",
    "            return torch.empty(size=(0, 1))\n",
    "    def add_to_ik_prog(self, scene_tree, ik, mbp, mbp_context, node_to_free_body_ids_map):\n",
    "        raise NotImplementedError()\n",
    "\n",
    "class ObjectsOnTableConstraint(Constraint):\n",
    "    def __init__(self):\n",
    "        lb = torch.tensor([-0.35, -0.35])\n",
    "        ub = torch.tensor([0.35, 0.35])\n",
    "        super().__init__(\n",
    "            lower_bound=lb,\n",
    "            upper_bound=ub\n",
    "        )\n",
    "    def eval(self, scene_tree):\n",
    "        tables = scene_tree.find_nodes_by_type(Table)\n",
    "        xys = [] # in parent table frame\n",
    "        for table in tables:\n",
    "            # Collect table children\n",
    "            objs = [node for node in scene_tree.get_children_recursive(table) if isinstance(node, ObjectModel)]\n",
    "            for obj in objs:\n",
    "                offset = torch.matmul(table.rotation.T, obj.translation - table.translation)[:2]\n",
    "                xys.append(offset)\n",
    "        if len(xys) > 0:\n",
    "            return torch.stack(xys, axis=0)\n",
    "        else:\n",
    "            return torch.empty(size=(0, 2))\n",
    "    def add_to_ik_prog(self, scene_tree, ik, mbp, mbp_context, node_to_free_body_ids_map):\n",
    "        raise NotImplementedError()\n",
    "\n",
    "class ObjectSpacingConstraint(Constraint):\n",
    "    # Objects all a minimum distance apart on tabletop\n",
    "    def __init__(self):\n",
    "        lb = torch.tensor([0.05]).square()\n",
    "        ub = torch.tensor([np.inf])\n",
    "        super().__init__(\n",
    "            lower_bound=lb,\n",
    "            upper_bound=ub\n",
    "        )\n",
    "    def eval(self, scene_tree):\n",
    "        tables = scene_tree.find_nodes_by_type(Table)\n",
    "        all_dists = []\n",
    "        for table in tables:\n",
    "            # Collect table children\n",
    "            objs = [node for node in scene_tree.get_children_recursive(table) if isinstance(node, ObjectModel)]\n",
    "            if len(objs) <= 1:\n",
    "                continue\n",
    "            xys = torch.stack([obj.translation[:2] for obj in objs], axis=0)\n",
    "            N = xys.shape[0]\n",
    "            xys_rowwise = xys.unsqueeze(1).expand(-1, N, -1)\n",
    "            xys_colwise = xys.unsqueeze(0).expand(N, -1, -1)\n",
    "            dists = (xys_rowwise - xys_colwise).square().sum(axis=-1)\n",
    "            # Get only lower triangular non-diagonal elems\n",
    "            rows, cols = torch.tril_indices(N, N, -1)\n",
    "            dists = dists[rows, cols].reshape(-1, 1)\n",
    "            all_dists.append(dists)\n",
    "        if len(all_dists) > 0:\n",
    "            return torch.cat(all_dists, axis=0)\n",
    "        else:\n",
    "            return torch.empty(size=(0, 1))\n",
    "    def add_to_ik_prog(self, scene_tree, ik, mbp, mbp_context, node_to_free_body_ids_map):\n",
    "        raise NotImplementedError()\n",
    "\n",
    "\n",
    "\n",
    "constraints = [\n",
    "    TablesInRoomConstraint(),\n",
    "    TableSpacingConstraint(),\n",
    "    ObjectsOnTableConstraint(),\n",
    "    ObjectSpacingConstraint()\n",
    "]\n",
    "hmc_tree = deepcopy(tree)\n",
    "samples = do_fixed_structure_hmc_with_constraint_penalties(\n",
    "    grammar, hmc_tree, num_samples=20, subsample_step=5,\n",
    "    with_nonpenetration=False, zmq_url=None,\n",
    "    constraints=constraints,\n",
    "    kernel_type=\"NUTS\", max_tree_depth=6, target_accept_prob=0.65\n",
    "    #kernel_type=\"HMC\", num_steps=1, step_size=1E-2 # Langevin-ish\n",
    ")"
   ]
  },
  {
   "cell_type": "code",
   "execution_count": null,
   "metadata": {},
   "outputs": [],
   "source": [
    "for k in range(4):\n",
    "    draw_scene_tree_contents_meshcat(samples[-k], zmq_url=vis.window.zmq_url,  prefix=\"contents/hmc_sample_%d\" % k)\n",
    "    draw_scene_tree_structure_meshcat(samples[-k], zmq_url=vis.window.zmq_url,  prefix=\"structure/hmc_sample_%d\" % k)"
   ]
  },
  {
   "cell_type": "code",
   "execution_count": null,
   "metadata": {},
   "outputs": [],
   "source": []
  }
 ],
 "metadata": {
  "kernelspec": {
   "display_name": "Python 3",
   "language": "python",
   "name": "python3"
  },
  "language_info": {
   "codemirror_mode": {
    "name": "ipython",
    "version": 3
   },
   "file_extension": ".py",
   "mimetype": "text/x-python",
   "name": "python",
   "nbconvert_exporter": "python",
   "pygments_lexer": "ipython3",
   "version": "3.10.12"
  },
  "widgets": {
   "application/vnd.jupyter.widget-state+json": {
    "state": {},
    "version_major": 2,
    "version_minor": 0
   }
  }
 },
 "nbformat": 4,
 "nbformat_minor": 2
}
