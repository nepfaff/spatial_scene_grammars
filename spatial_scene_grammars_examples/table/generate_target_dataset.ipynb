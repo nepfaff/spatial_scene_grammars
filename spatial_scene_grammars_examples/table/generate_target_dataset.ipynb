{
 "cells": [
  {
   "cell_type": "code",
   "execution_count": 1,
   "metadata": {},
   "outputs": [
    {
     "name": "stderr",
     "output_type": "stream",
     "text": [
      "/home/nepfaff/src/spatial_scene_grammars/.venv/lib/python3.10/site-packages/torch/__init__.py:747: UserWarning: torch.set_default_tensor_type() is deprecated as of PyTorch 2.1, please use torch.set_default_dtype() and torch.set_default_device() as alternatives. (Triggered internally at ../torch/csrc/tensor/python_tensor.cpp:431.)\n",
      "  _C._set_default_tensor_type(t)\n"
     ]
    }
   ],
   "source": [
    "%load_ext autoreload\n",
    "%autoreload 2\n",
    "\n",
    "import matplotlib.pyplot as plt\n",
    "import networkx as nx\n",
    "import numpy as np\n",
    "import os\n",
    "import pickle\n",
    "import time\n",
    "from tqdm.notebook import tqdm\n",
    "\n",
    "import torch\n",
    "torch.set_default_tensor_type(torch.DoubleTensor)\n",
    "\n",
    "from spatial_scene_grammars.constraints import *\n",
    "from spatial_scene_grammars.nodes import *\n",
    "from spatial_scene_grammars.rules import *\n",
    "from spatial_scene_grammars.scene_grammar import *\n",
    "from spatial_scene_grammars.visualization import *\n",
    "from spatial_scene_grammars_examples.table.grammar import *\n",
    "from spatial_scene_grammars.parsing import *\n",
    "from spatial_scene_grammars.sampling import *\n",
    "from spatial_scene_grammars.parameter_estimation import *\n",
    "from spatial_scene_grammars.dataset import *\n",
    "\n",
    "import meshcat\n",
    "import meshcat.geometry as meshcat_geom"
   ]
  },
  {
   "cell_type": "code",
   "execution_count": 2,
   "metadata": {},
   "outputs": [
    {
     "name": "stdout",
     "output_type": "stream",
     "text": [
      "You can open the visualizer by visiting the following URL:\n",
      "http://127.0.0.1:7000/static/\n",
      "Meshcat url:  http://127.0.0.1:7000/static/\n"
     ]
    },
    {
     "data": {
      "text/plain": [
       "'\\nfrom IPython.display import HTML\\nHTML(\"\"\"\\n    <div style=\"height: 400px; width: 100%; overflow-x: auto; overflow-y: hidden; resize: both\">\\n    <iframe src=\"{url}\" style=\"width: 100%; height: 100%; border: none\"></iframe>\\n</div>\\n\"\"\".format(url=meshcat_url))\\n'"
      ]
     },
     "execution_count": 2,
     "metadata": {},
     "output_type": "execute_result"
    }
   ],
   "source": [
    "if 'vis' not in globals():\n",
    "    vis = meshcat.Visualizer()\n",
    "vis.delete()\n",
    "base_url = \"http://127.0.0.1\"\n",
    "meshcat_url = base_url + \":\" + vis.url().split(\":\")[-1]\n",
    "print(\"Meshcat url: \", meshcat_url)\n",
    "'''\n",
    "from IPython.display import HTML\n",
    "HTML(\"\"\"\n",
    "    <div style=\"height: 400px; width: 100%; overflow-x: auto; overflow-y: hidden; resize: both\">\n",
    "    <iframe src=\"{url}\" style=\"width: 100%; height: 100%; border: none\"></iframe>\n",
    "</div>\n",
    "\"\"\".format(url=meshcat_url))\n",
    "'''"
   ]
  },
  {
   "cell_type": "code",
   "execution_count": 3,
   "metadata": {},
   "outputs": [
    {
     "name": "stderr",
     "output_type": "stream",
     "text": [
      "WARNING:root:Detaching BinghamDistribution parameters.\n",
      "WARNING:root:Prior over parameters of WorldFrameBinghamRotationRule are Deltas.\n"
     ]
    }
   ],
   "source": [
    "# Set up grammar and constraint set.\n",
    "grammar = SpatialSceneGrammar(\n",
    "    root_node_type = Table,\n",
    "    root_node_tf = drake_tf_to_torch_tf(RigidTransform(p=[0.0, 0., 0.8]))\n",
    ")\n",
    "constraints = [\n",
    "    ObjectsOnTableConstraint(),\n",
    "    ObjectSpacingConstraint(),\n",
    "    TallStackConstraint(),\n",
    "    NumStacksConstraint()\n",
    "]\n",
    "\n",
    "def sample_realistic_scene(grammar, constraints, seed=None, skip_physics_constraints=False):\n",
    "    if seed is not None:\n",
    "        torch.random.manual_seed(seed)\n",
    "    structure_constraints, pose_constraints = split_constraints(constraints)\n",
    "    if len(structure_constraints) > 0:\n",
    "        tree, success = rejection_sample_under_constraints(grammar, structure_constraints, 1000, detach=True)\n",
    "        if not success:\n",
    "            logging.error(\"Couldn't rejection sample a feasible tree config.\")\n",
    "            return None, None\n",
    "    else:\n",
    "        tree = grammar.sample_tree(detach=True)\n",
    "\n",
    "    samples = do_fixed_structure_hmc_with_constraint_penalties(\n",
    "        grammar, tree, num_samples=25, subsample_step=1,\n",
    "        with_nonpenetration=False, zmq_url=vis.window.zmq_url,\n",
    "        constraints=pose_constraints,\n",
    "        kernel_type=\"NUTS\", max_tree_depth=6, target_accept_prob=0.8, adapt_step_size=True,\n",
    "        #kernel_type=\"HMC\", num_steps=1, step_size=1E-1, adapt_step_size=False, # Langevin-ish\n",
    "        structure_vis_kwargs={\"with_triad\": False, \"linewidth\": 30, \"node_sphere_size\": 0.02,\n",
    "                             \"alpha\": 0.5}\n",
    "    )\n",
    "\n",
    "    # Step through samples backwards in HMC process and pick out a tree that satisfies\n",
    "    # the constraints.\n",
    "    good_tree = None\n",
    "    best_bad_tree = None\n",
    "    best_violation = None\n",
    "    for candidate_tree in samples[::-1]:\n",
    "        total_violation = eval_total_constraint_set_violation(candidate_tree, constraints)\n",
    "        if total_violation <= 0.:\n",
    "            good_tree = candidate_tree\n",
    "            break\n",
    "        else:\n",
    "            if best_bad_tree is None or total_violation <= best_violation:\n",
    "                best_bad_tree = candidate_tree\n",
    "                best_violation = total_violation.detach()\n",
    "            \n",
    "    if good_tree == None:\n",
    "        logging.error(\"No tree in samples satisfied constraints.\")\n",
    "        print(\"Best total violation: %f\" % best_violation)\n",
    "        print(\"Violations of best bad tree:\")\n",
    "        for constraint in constraints:\n",
    "            print(\"constraint \", constraint, \": \", constraint.eval(best_bad_tree))\n",
    "        return None, None\n",
    "\n",
    "    if skip_physics_constraints:\n",
    "        return None, good_tree\n",
    "\n",
    "    feasible_tree = project_tree_to_feasibility(deepcopy(good_tree), do_forward_sim=True, timestep=0.001, T=1.)\n",
    "    return feasible_tree, good_tree"
   ]
  },
  {
   "cell_type": "code",
   "execution_count": 4,
   "metadata": {},
   "outputs": [
    {
     "name": "stdout",
     "output_type": "stream",
     "text": [
      "Initial trace log prob:  tensor(-3586.9977)\n"
     ]
    },
    {
     "name": "stderr",
     "output_type": "stream",
     "text": [
      "Warmup:   0%|          | 0/37 [00:00, ?it/s]WARNING:root:NormalizeWithPseudoInverse LogAbsDet is super sketchy\n",
      "Sample: 100%|██████████| 37/37 [00:31,  1.18it/s, step size=9.59e-04, acc. prob=0.941]\n"
     ]
    }
   ],
   "source": [
    "test_tree, _ = sample_realistic_scene(grammar, constraints, seed=42)\n",
    "if test_tree is not None:\n",
    "    draw_scene_tree_contents_meshcat(test_tree, zmq_url=vis.window.zmq_url,  prefix=\"test_tree/contents\")\n",
    "    draw_scene_tree_structure_meshcat(test_tree, zmq_url=vis.window.zmq_url,  prefix=\"test_tree/structure\")\n",
    "# Save that scene out for use in another notebook\n",
    "with open(\"example_feasible_sampled_scene.pickle\", \"wb\") as f:\n",
    "    pickle.dump(test_tree, f)"
   ]
  },
  {
   "cell_type": "code",
   "execution_count": 5,
   "metadata": {},
   "outputs": [
    {
     "name": "stdout",
     "output_type": "stream",
     "text": [
      "Saving state dict to  structure_constraint_dataset_grammar_state_dict.torch\n"
     ]
    },
    {
     "name": "stderr",
     "output_type": "stream",
     "text": [
      "/home/nepfaff/src/spatial_scene_grammars/spatial_scene_grammars/sampling.py:444: SyntaxWarning: \"is\" with a literal. Did you mean \"==\"?\n",
      "  elif kernel_type is \"HMC\":\n"
     ]
    },
    {
     "data": {
      "application/vnd.jupyter.widget-view+json": {
       "model_id": "246b9e126dd1443181f46c0f8f4563b5",
       "version_major": 2,
       "version_minor": 0
      },
      "text/plain": [
       "Samples:   0%|          | 0/20 [00:00<?, ?it/s]"
      ]
     },
     "metadata": {},
     "output_type": "display_data"
    },
    {
     "name": "stdout",
     "output_type": "stream",
     "text": [
      "Initial trace log prob:  tensor(-7934.2943)\n"
     ]
    },
    {
     "name": "stderr",
     "output_type": "stream",
     "text": [
      "Sample: 100%|██████████| 37/37 [00:28,  1.29it/s, step size=9.11e-04, acc. prob=0.940]\n"
     ]
    },
    {
     "name": "stdout",
     "output_type": "stream",
     "text": [
      "Initial trace log prob:  tensor(-4476.3945)\n"
     ]
    },
    {
     "name": "stderr",
     "output_type": "stream",
     "text": [
      "Sample: 100%|██████████| 37/37 [00:27,  1.34it/s, step size=8.28e-04, acc. prob=0.966]\n",
      "WARNING:root:Projection failed.\n"
     ]
    },
    {
     "name": "stdout",
     "output_type": "stream",
     "text": [
      "Logfile: \n",
      "\n",
      "         ==============================\n",
      "         S N O P T  7.4-1.2  (Feb 2015)\n",
      "         ==============================\n",
      "1\n",
      " \n",
      " SNMEMA EXIT 100 -- finished successfully\n",
      " SNMEMA INFO 104 -- memory requirements estimated\n",
      "1\n",
      " \n",
      " Parameters\n",
      " ==========\n",
      "\n",
      " Files\n",
      " -----\n",
      " Solution file..........         0       Old basis file ........         0       Standard input.........         5\n",
      " Insert file............         0       New basis file ........         0       (Printer)..............        10\n",
      " Punch file.............         0       Backup basis file......         0       (Specs file)...........         0\n",
      " Load file..............         0       Dump file..............         0       Standard output........         6\n",
      "\n",
      " Frequencies\n",
      " -----------\n",
      " Print frequency........       100       Check frequency........        60       Save new basis map.....       100\n",
      " Summary frequency......       100       Factorization frequency        50       Expand frequency.......     10000\n",
      "\n",
      " QP subproblems\n",
      " --------------\n",
      " QPsolver Cholesky......\n",
      " Scale tolerance........     0.900       Minor feasibility tol..  1.00E-06       Iteration limit........     10000\n",
      " Scale option...........         0       Minor optimality  tol..  1.00E-06       Minor print level......         1\n",
      " Crash tolerance........     0.100       Pivot tolerance........  3.25E-11       New superbasics........        99\n",
      " Crash option...........         3       Elastic weight.........  1.00E+05\n",
      "\n",
      " Partial pricing\n",
      " ---------------\n",
      " LP Partial price.......         1       Prtl price section ( A)       119       Prtl price section (-I)        19\n",
      " QP Partial price.......         1       Prtl price section ( A)       119       Prtl price section (-I)        19\n",
      "\n",
      " The SQP Method\n",
      " --------------\n",
      " Minimize...............                 Cold start.............                 Proximal Point method..         1\n",
      " Nonlinear objectiv vars       119       Objective Row..........         1       Function precision.....  3.00E-13\n",
      " Unbounded step size....  1.00E+20       Superbasics limit......       119       Difference interval....  5.48E-07\n",
      " Unbounded objective....  1.00E+15       Reduced Hessian dim....       119       Central difference int.  6.70E-05\n",
      " Major step limit.......  2.00E+00       Derivative linesearch..                 Derivative option......         1\n",
      " Major iterations limit.       300       Linesearch tolerance...   0.90000       Verify level...........         0\n",
      " Minor iterations limit.       500       Penalty parameter......  0.00E+00       Major Print Level......         1\n",
      " Time limit (secs)...... 9999999.0       Major optimality tol...  1.00E-03\n",
      "\n",
      " Hessian Approximation\n",
      " ---------------------\n",
      " Limited-Memory Hessian.                 Hessian updates........        10       Hessian frequency......  99999999\n",
      "                                                                                 Hessian flush..........  99999999\n",
      "\n",
      " Nonlinear constraints\n",
      " ---------------------\n",
      " Nonlinear constraints..        18       Major feasibility tol..  1.00E-03       Violation limit........  1.00E+01\n",
      " Nonlinear Jacobian vars       119\n",
      "\n",
      " Miscellaneous\n",
      " -------------\n",
      " LU factor tolerance....      3.99       LU singularity tol.....  3.25E-11       Timing level...........         0\n",
      " LU update tolerance....      3.99       LU swap tolerance......  1.22E-04       Debug level............         0\n",
      " LU partial  pivoting...                 eps (machine precision)  2.22E-16       System information.....        No\n",
      "                                                                                 Sticky parameters......        No\n",
      "1\n",
      " \n",
      "\n",
      " \n",
      "\n",
      " Matrix statistics\n",
      " -----------------\n",
      "               Total      Normal        Free       Fixed     Bounded\n",
      " Rows             19           1           1          17           0\n",
      " Columns         119           0         119           0           0\n",
      "\n",
      " No. of matrix elements                  187     Density       8.271\n",
      " Biggest  constant element        0.0000E+00  (excluding fixed columns,\n",
      " Smallest constant element        0.0000E+00   free rows, and RHS)\n",
      "\n",
      " No. of objective coefficients             0\n",
      "\n",
      " Nonlinear constraints      18     Linear constraints       1\n",
      " Nonlinear variables       119     Linear variables         0\n",
      " Jacobian  variables       119     Objective variables    119\n",
      " Total constraints          19     Total variables        119\n",
      "1\n",
      " \n",
      "\n",
      " \n",
      " The user has defined     306   out of     306   first  derivatives\n",
      "\n",
      " Cheap test of user-supplied problem derivatives...\n",
      "\n",
      " The constraint gradients seem to be OK.\n",
      "\n",
      " -->  The largest discrepancy was    6.76E-09  in constraint   122\n",
      " \n",
      "\n",
      " The objective  gradients seem to be OK.\n",
      "\n",
      " Gradient projected in one direction   0.00000000000E+00\n",
      " Difference approximation              2.03866454328E-07\n",
      "1\n",
      " \n",
      " \n",
      "\n",
      "   Itns Major Minors    Step   nCon Feasible  Optimal  MeritFunction     L+U BSwap     nS condZHZ Penalty\n",
      "      0     0      0              1  4.5E-01 (0.0E+00) 1.0000000E+10      19                              _  r i\n",
      "1\n",
      " \n",
      " SNOPTA EXIT  10 -- the problem appears to be infeasible\n",
      " SNOPTA INFO  13 -- nonlinear infeasibilities minimized\n",
      "\n",
      " Problem name                 drake_pr\n",
      " No. of iterations                   0   Objective            0.0000000000E+00\n",
      " No. of major iterations             0   Linear    obj. term  0.0000000000E+00\n",
      " Penalty parameter           0.000E+00   Nonlinear obj. term  0.0000000000E+00\n",
      " Elastic weight                1.0E+10   Elastic   objective  1.0000000000E+10\n",
      "                                         Elastic infeas       1.0000000000E+00\n",
      " User function calls (total)         2\n",
      " No. of degenerate steps             0   Percentage                       0.00\n",
      " Max x                     119 1.2E+00   Max pi                     18 1.0E+10\n",
      " Max Primal infeas         138 1.0E+00   Max Dual infeas             0 0.0E+00\n",
      " Nonlinear constraint violn    1.0E+00\n",
      "1\n",
      " \n",
      " Name           drake_pr                 Objective Value      0.0000000000E+00\n",
      "\n",
      " Status         Optimal Soln             Iteration      0    Superbasics     0\n",
      "\n",
      " Objective               (Min)\n",
      " RHS\n",
      " Ranges\n",
      " Bounds\n",
      "\n",
      " Section 1 - Rows\n",
      "\n",
      "  Number  ...Row.. State  ...Activity...  Slack Activity  ..Lower Limit.  ..Upper Limit.  .Dual Activity    ..i\n",
      " \n",
      "     120  r      1    BS          .               .                None            None         -1.0          1\n",
      "     121  r      2 A  EQ         1.00000        -0.00000         1.0             1.0              .           2\n",
      "     122  r      3 A  EQ         1.00000        -0.00000         1.0             1.0              .           3\n",
      "     123  r      4 A  EQ         1.00000        -0.00000         1.0             1.0              .           4\n",
      "     124  r      5 A  EQ         1.00000         0.00000         1.0             1.0              .           5\n",
      "     125  r      6 A  EQ         1.00000        -0.00000         1.0             1.0              .           6\n",
      "     126  r      7 A  EQ         1.0              .              1.0             1.0              .           7\n",
      "     127  r      8 A  EQ         1.0              .              1.0             1.0              .           8\n",
      "     128  r      9 A  EQ         1.00000        -0.00000         1.0             1.0              .           9\n",
      "     129  r     10 A  EQ         1.00000        -0.00000         1.0             1.0              .          10\n",
      "     130  r     11 A  EQ         1.0              .              1.0             1.0              .          11\n",
      "     131  r     12 A  EQ         1.00000        -0.00000         1.0             1.0              .          12\n",
      "     132  r     13 A  EQ         1.00000         0.00000         1.0             1.0              .          13\n",
      "     133  r     14 A  EQ         1.0              .              1.0             1.0              .          14\n",
      "     134  r     15 A  EQ         1.00000        -0.00000         1.0             1.0              .          15\n",
      "     135  r     16 A  EQ         1.0              .              1.0             1.0              .          16\n",
      "     136  r     17 A  EQ         1.0              .              1.0             1.0              .          17\n",
      "     137  r     18 A  EQ         1.0              .              1.0             1.0              .          18\n",
      "     138  r     19 I  BS          .             -1.0             1.0               None     1.000000E+10     19\n",
      "1\n",
      " \n",
      " Section 2 - Columns\n",
      "\n",
      "  Number  .Column. State  ...Activity...  .Obj Gradient.  ..Lower Limit.  ..Upper Limit.  Reduced Gradnt    m+j\n",
      " \n",
      "       1  x      1    BS         0.02727          .                None            None           .          20\n",
      "       2  x      2 A  FR        -0.01829          .                None            None           .          21\n",
      "       3  x      3 A  FR         0.01419          .                None            None           .          22\n",
      "       4  x      4 A  FR        -0.99936          .                None            None           .          23\n",
      "       5  x      5 A  FR         0.45441          .                None            None           .          24\n",
      "       6  x      6 A  FR        -0.06718          .                None            None           .          25\n",
      "       7  x      7 A  FR         0.82503          .                None            None           .          26\n",
      "       8  x      8    BS         0.99531          .                None            None           .          27\n",
      "       9  x      9 A  FR         0.03080          .                None            None           .          28\n",
      "      10  x     10 A  FR        -0.02194          .                None            None           .          29\n",
      "      11  x     11 A  FR         0.08908          .                None            None           .          30\n",
      "      12  x     12 A  FR        -0.10928          .                None            None           .          31\n",
      "      13  x     13 A  FR        -0.19214          .                None            None           .          32\n",
      "      14  x     14 A  FR         0.81634          .                None            None           .          33\n",
      "      15  x     15    BS         0.98393          .                None            None           .          34\n",
      "      16  x     16 A  FR        -0.00782          .                None            None           .          35\n",
      "      17  x     17 A  FR        -0.01778          .                None            None           .          36\n",
      "      18  x     18 A  FR         0.17749          .                None            None           .          37\n",
      "      19  x     19 A  FR        -0.28105          .                None            None           .          38\n",
      "      20  x     20 A  FR         0.20944          .                None            None           .          39\n",
      "      21  x     21 A  FR         0.83118          .                None            None           .          40\n",
      "      22  x     22    BS         0.98805          .                None            None           .          41\n",
      "      23  x     23 A  FR        -0.01847          .                None            None           .          42\n",
      "      24  x     24 A  FR         0.03504          .                None            None           .          43\n",
      "      25  x     25 A  FR         0.14896          .                None            None           .          44\n",
      "      26  x     26 A  FR         0.20838          .                None            None           .          45\n",
      "      27  x     27 A  FR        -0.16037          .                None            None           .          46\n",
      "      28  x     28 A  FR         0.81435          .                None            None           .          47\n",
      "      29  x     29    BS         0.43011          .                None            None           .          48\n",
      "      30  x     30 A  FR        -0.04703          .                None            None           .          49\n",
      "      31  x     31 A  FR        -0.02863          .                None            None           .          50\n",
      "      32  x     32 A  FR         0.90110          .                None            None           .          51\n",
      "      33  x     33 A  FR         0.29087          .                None            None           .          52\n",
      "      34  x     34 A  FR         0.24484          .                None            None           .          53\n",
      "      35  x     35 A  FR         0.81694          .                None            None           .          54\n",
      "      36  x     36    BS         0.77057          .                None            None           .          55\n",
      "      37  x     37 A  FR         0.02669          .                None            None           .          56\n",
      "      38  x     38 A  FR        -0.01000          .                None            None           .          57\n",
      "      39  x     39 A  FR        -0.63672          .                None            None           .          58\n",
      "      40  x     40 A  FR         0.03348          .                None            None           .          59\n",
      "      41  x     41 A  FR         0.01230          .                None            None           .          60\n",
      "      42  x     42 A  FR         0.83121          .                None            None           .          61\n",
      "      43  x     43    BS         0.93895          .                None            None           .          62\n",
      "      44  x     44 A  FR         0.02614          .                None            None           .          63\n",
      "      45  x     45 A  FR        -0.01761          .                None            None           .          64\n",
      "      46  x     46 A  FR        -0.34262          .                None            None           .          65\n",
      "      47  x     47 A  FR        -0.47247          .                None            None           .          66\n",
      "      48  x     48 A  FR         0.01984          .                None            None           .          67\n",
      "      49  x     49 A  FR         0.82506          .                None            None           .          68\n",
      "      50  x     50    BS         0.95179          .                None            None           .          69\n",
      "      51  x     51 A  FR         0.00514          .                None            None           .          70\n",
      "      52  x     52 A  FR        -0.01577          .                None            None           .          71\n",
      "      53  x     53 A  FR         0.30630          .                None            None           .          72\n",
      "      54  x     54 A  FR        -0.23390          .                None            None           .          73\n",
      "      55  x     55 A  FR        -0.03851          .                None            None           .          74\n",
      "      56  x     56 A  FR         0.81604          .                None            None           .          75\n",
      "      57  x     57    BS         0.59691          .                None            None           .          76\n",
      "      58  x     58 A  FR        -0.02632          .                None            None           .          77\n",
      "      59  x     59 A  FR        -0.01293          .                None            None           .          78\n",
      "      60  x     60 A  FR        -0.80177          .                None            None           .          79\n",
      "      61  x     61 A  FR        -0.00077          .                None            None           .          80\n",
      "      62  x     62 A  FR         0.46787          .                None            None           .          81\n",
      "      63  x     63 A  FR         0.83553          .                None            None           .          82\n",
      "      64  x     64    BS         0.57071          .                None            None           .          83\n",
      "      65  x     65 A  FR         0.01491          .                None            None           .          84\n",
      "      66  x     66 A  FR         0.00497          .                None            None           .          85\n",
      "      67  x     67 A  FR        -0.82100          .                None            None           .          86\n",
      "      68  x     68 A  FR         0.00067          .                None            None           .          87\n",
      "      69  x     69 A  FR         0.24292          .                None            None           .          88\n",
      "      70  x     70 A  FR         0.81250          .                None            None           .          89\n",
      "      71  x     71    BS         0.20254          .                None            None           .          90\n",
      "      72  x     72 A  FR         0.01087          .                None            None           .          91\n",
      "      73  x     73 A  FR         0.00102          .                None            None           .          92\n",
      "      74  x     74 A  FR        -0.97921          .                None            None           .          93\n",
      "      75  x     75 A  FR        -0.27732          .                None            None           .          94\n",
      "      76  x     76 A  FR         0.20279          .                None            None           .          95\n",
      "      77  x     77 A  FR         0.93450          .                None            None           .          96\n",
      "      78  x     78    BS         0.92756          .                None            None           .          97\n",
      "      79  x     79 A  FR         0.01829          .                None            None           .          98\n",
      "      80  x     80 A  FR        -0.05049          .                None            None           .          99\n",
      "      81  x     81 A  FR        -0.36980          .                None            None           .         100\n",
      "      82  x     82 A  FR         0.30067          .                None            None           .         101\n",
      "      83  x     83 A  FR         0.25417          .                None            None           .         102\n",
      "      84  x     84 A  FR         0.91181          .                None            None           .         103\n",
      "      85  x     85    BS         0.71369          .                None            None           .         104\n",
      "      86  x     86 A  FR         0.03660          .                None            None           .         105\n",
      "      87  x     87 A  FR        -0.00257          .                None            None           .         106\n",
      "      88  x     88 A  FR        -0.69950          .                None            None           .         107\n",
      "      89  x     89 A  FR         0.01261          .                None            None           .         108\n",
      "      90  x     90 A  FR         0.02686          .                None            None           .         109\n",
      "      91  x     91 A  FR         0.93716          .                None            None           .         110\n",
      "      92  x     92    BS         0.34488          .                None            None           .         111\n",
      "      93  x     93 A  FR         0.02365          .                None            None           .         112\n",
      "      94  x     94 A  FR        -0.00132          .                None            None           .         113\n",
      "      95  x     95 A  FR        -0.93835          .                None            None           .         114\n",
      "      96  x     96 A  FR        -0.26626          .                None            None           .         115\n",
      "      97  x     97 A  FR         0.19132          .                None            None           .         116\n",
      "      98  x     98 A  FR         1.03112          .                None            None           .         117\n",
      "      99  x     99    BS         0.87052          .                None            None           .         118\n",
      "     100  x    100 A  FR         0.03328          .                None            None           .         119\n",
      "     101  x    101 A  FR        -0.00876          .                None            None           .         120\n",
      "     102  x    102 A  FR        -0.49093          .                None            None           .         121\n",
      "     103  x    103 A  FR         0.00378          .                None            None           .         122\n",
      "     104  x    104 A  FR         0.01687          .                None            None           .         123\n",
      "     105  x    105 A  FR         1.03311          .                None            None           .         124\n",
      "     106  x    106    BS         0.78122          .                None            None           .         125\n",
      "     107  x    107 A  FR         0.03426          .                None            None           .         126\n",
      "     108  x    108 A  FR        -0.00894          .                None            None           .         127\n",
      "     109  x    109 A  FR        -0.62325          .                None            None           .         128\n",
      "     110  x    110 A  FR         0.01708          .                None            None           .         129\n",
      "     111  x    111 A  FR         0.02325          .                None            None           .         130\n",
      "     112  x    112 A  FR         1.15132          .                None            None           .         131\n",
      "     113  x    113    BS         0.50912          .                None            None           .         132\n",
      "     114  x    114 A  FR        -0.01436          .                None            None           .         133\n",
      "     115  x    115 A  FR        -0.03561          .                None            None           .         134\n",
      "     116  x    116 A  FR         0.85984          .                None            None           .         135\n",
      "     117  x    117 A  FR         0.00694          .                None            None           .         136\n",
      "     118  x    118 A  FR         0.00969          .                None            None           .         137\n",
      "     119  x    119 A  FR         1.24477          .                None            None           .         138\n",
      "\n",
      "Initial trace log prob:  tensor(-23723.1961)\n"
     ]
    },
    {
     "name": "stderr",
     "output_type": "stream",
     "text": [
      "Sample: 100%|██████████| 37/37 [00:27,  1.33it/s, step size=7.47e-04, acc. prob=0.941]\n"
     ]
    },
    {
     "name": "stdout",
     "output_type": "stream",
     "text": [
      "Initial trace log prob:  tensor(-24576.6462)\n"
     ]
    },
    {
     "name": "stderr",
     "output_type": "stream",
     "text": [
      "Sample: 100%|██████████| 37/37 [00:26,  1.37it/s, step size=6.78e-04, acc. prob=0.932]\n"
     ]
    },
    {
     "name": "stdout",
     "output_type": "stream",
     "text": [
      "Initial trace log prob:  tensor(-9691.4553)\n"
     ]
    },
    {
     "name": "stderr",
     "output_type": "stream",
     "text": [
      "Sample: 100%|██████████| 37/37 [00:24,  1.53it/s, step size=1.37e-03, acc. prob=0.898]\n"
     ]
    },
    {
     "name": "stdout",
     "output_type": "stream",
     "text": [
      "Initial trace log prob:  tensor(-5181.7836)\n"
     ]
    },
    {
     "name": "stderr",
     "output_type": "stream",
     "text": [
      "Sample: 100%|██████████| 37/37 [00:29,  1.25it/s, step size=1.14e-03, acc. prob=0.811]\n"
     ]
    },
    {
     "name": "stdout",
     "output_type": "stream",
     "text": [
      "Initial trace log prob:  tensor(-10208.9226)\n"
     ]
    },
    {
     "name": "stderr",
     "output_type": "stream",
     "text": [
      "Sample: 100%|██████████| 37/37 [00:34,  1.09it/s, step size=1.07e-03, acc. prob=0.826]\n"
     ]
    },
    {
     "name": "stdout",
     "output_type": "stream",
     "text": [
      "Initial trace log prob:  tensor(-24281.0435)\n"
     ]
    },
    {
     "name": "stderr",
     "output_type": "stream",
     "text": [
      "Sample: 100%|██████████| 37/37 [00:31,  1.19it/s, step size=9.55e-04, acc. prob=0.870]\n"
     ]
    },
    {
     "name": "stdout",
     "output_type": "stream",
     "text": [
      "Initial trace log prob:  tensor(-1089.0738)\n"
     ]
    },
    {
     "name": "stderr",
     "output_type": "stream",
     "text": [
      "Sample: 100%|██████████| 37/37 [00:27,  1.36it/s, step size=1.13e-03, acc. prob=0.896]\n"
     ]
    },
    {
     "name": "stdout",
     "output_type": "stream",
     "text": [
      "Initial trace log prob:  tensor(-10656.3313)\n"
     ]
    },
    {
     "name": "stderr",
     "output_type": "stream",
     "text": [
      "Sample: 100%|██████████| 37/37 [00:31,  1.19it/s, step size=9.05e-04, acc. prob=0.737]\n",
      "ERROR:root:No tree in samples satisfied constraints.\n"
     ]
    },
    {
     "name": "stdout",
     "output_type": "stream",
     "text": [
      "Best total violation: 0.000256\n",
      "Violations of best bad tree:\n",
      "constraint  <spatial_scene_grammars_examples.table.grammar.ObjectsOnTableConstraint object at 0x7ff606731660> :  tensor([[-0.2539, -0.0904,  0.0291],\n",
      "        [ 0.0821,  0.0071,  0.0322],\n",
      "        [-0.4450, -0.2427,  0.0149],\n",
      "        [-0.3005, -0.4709,  0.0210],\n",
      "        [ 0.3284,  0.3801,  0.0338],\n",
      "        [-0.1386, -0.2773,  0.0118],\n",
      "        [-0.4689,  0.0544,  0.0262],\n",
      "        [-0.2538,  0.0794,  0.0237],\n",
      "        [ 0.4749,  0.0060,  0.0051],\n",
      "        [ 0.3262,  0.1837,  0.0129],\n",
      "        [ 0.0227,  0.4706,  0.0275],\n",
      "        [-0.0538,  0.2428,  0.0195],\n",
      "        [ 0.0646, -0.4737,  0.0330],\n",
      "        [ 0.1578, -0.2745,  0.0100],\n",
      "        [-0.4314, -0.2500,  0.1335],\n",
      "        [-0.2991, -0.4682,  0.1149],\n",
      "        [ 0.3270,  0.3937,  0.1374],\n",
      "        [-0.3031, -0.4615,  0.2174],\n",
      "        [-0.3110, -0.4434,  0.3201]])\n",
      "constraint  <spatial_scene_grammars_examples.table.grammar.ObjectSpacingConstraint object at 0x7ff606731780> :  tensor([[ 3.2460e-02],\n",
      "        [ 1.1301e-02],\n",
      "        [ 2.3789e-01],\n",
      "        [ 9.8554e-02],\n",
      "        [ 2.7251e-01],\n",
      "        [ 1.5356e-02],\n",
      "        [ 5.1214e-01],\n",
      "        [ 9.7392e-02],\n",
      "        [ 9.2849e-01],\n",
      "        [ 1.0622e+00],\n",
      "        [-1.6686e-04],\n",
      "        [ 2.7209e-02],\n",
      "        [ 3.7479e-02],\n",
      "        [ 6.1002e-03],\n",
      "        [ 5.9270e-01],\n",
      "        [ 9.5802e-03],\n",
      "        [ 1.9031e-01],\n",
      "        [ 2.1238e-02],\n",
      "        [ 2.3670e-01],\n",
      "        [ 6.7426e-01],\n",
      "        [ 1.5153e-01],\n",
      "        [-8.8861e-05],\n",
      "        [ 4.5192e-02],\n",
      "        [ 1.0416e-01],\n",
      "        [ 2.6885e-01],\n",
      "        [ 3.9338e-01],\n",
      "        [ 1.0436e-01],\n",
      "        [ 2.7884e-03],\n",
      "        [ 4.8293e-01],\n",
      "        [ 3.8678e-02],\n",
      "        [ 8.4049e-01],\n",
      "        [ 7.6109e-01],\n",
      "        [ 9.3857e-02],\n",
      "        [ 3.8904e-01],\n",
      "        [ 8.1479e-01],\n",
      "        [ 4.9236e-01],\n",
      "        [ 3.8277e-01],\n",
      "        [ 1.7839e-02],\n",
      "        [ 7.4044e-01],\n",
      "        [ 7.8515e-01],\n",
      "        [ 2.4786e-03],\n",
      "        [ 3.9244e-01],\n",
      "        [ 6.0479e-01],\n",
      "        [ 3.2769e-01],\n",
      "        [ 9.6264e-03],\n",
      "        [ 3.3369e-01],\n",
      "        [ 1.0278e-01],\n",
      "        [ 6.6000e-01],\n",
      "        [ 9.2335e-01],\n",
      "        [ 3.4048e-02],\n",
      "        [ 5.1780e-01],\n",
      "        [ 3.3656e-01],\n",
      "        [ 1.8548e-01],\n",
      "        [ 3.4200e-01],\n",
      "        [ 1.3030e-01],\n",
      "        [ 1.2214e-01],\n",
      "        [ 1.1160e-03],\n",
      "        [ 3.5259e-01],\n",
      "        [ 5.3406e-01],\n",
      "        [ 1.2888e-01],\n",
      "        [ 2.4153e-01],\n",
      "        [ 1.6369e-01],\n",
      "        [ 4.7105e-02],\n",
      "        [ 2.9155e-01],\n",
      "        [ 1.2828e-01],\n",
      "        [ 1.3683e-02],\n",
      "        [ 1.9080e-01],\n",
      "        [ 1.1590e-01],\n",
      "        [ 2.4546e-01],\n",
      "        [ 6.5708e-02],\n",
      "        [ 7.3104e-01],\n",
      "        [ 1.2273e-02],\n",
      "        [ 4.8514e-01],\n",
      "        [ 3.6317e-01],\n",
      "        [ 3.2006e-01],\n",
      "        [ 4.5654e-01],\n",
      "        [ 8.1514e-01],\n",
      "        [ 4.8326e-01],\n",
      "        [ 1.7452e-01],\n",
      "        [ 1.2113e-02],\n",
      "        [ 3.2829e-01],\n",
      "        [ 2.1254e-01],\n",
      "        [ 4.2150e-01],\n",
      "        [ 5.1764e-02],\n",
      "        [ 4.5684e-01],\n",
      "        [ 2.7503e-01],\n",
      "        [ 1.3510e-01],\n",
      "        [ 2.1868e-01],\n",
      "        [ 5.2932e-01],\n",
      "        [ 2.9271e-01],\n",
      "        [ 4.2867e-03]])\n",
      "constraint  <spatial_scene_grammars_examples.table.grammar.TallStackConstraint object at 0x7ff606732140> :  tensor([4])\n",
      "constraint  <spatial_scene_grammars_examples.table.grammar.NumStacksConstraint object at 0x7ff7886b4460> :  tensor([4])\n",
      "Initial trace log prob:  tensor(-15023.8385)\n"
     ]
    },
    {
     "name": "stderr",
     "output_type": "stream",
     "text": [
      "Sample: 100%|██████████| 37/37 [00:26,  1.37it/s, step size=8.07e-04, acc. prob=0.877]\n"
     ]
    },
    {
     "name": "stdout",
     "output_type": "stream",
     "text": [
      "Initial trace log prob:  tensor(-9978.1696)\n"
     ]
    },
    {
     "name": "stderr",
     "output_type": "stream",
     "text": [
      "Sample: 100%|██████████| 37/37 [00:34,  1.06it/s, step size=1.10e-03, acc. prob=0.838]\n"
     ]
    },
    {
     "name": "stdout",
     "output_type": "stream",
     "text": [
      "Initial trace log prob:  tensor(-15850.6413)\n"
     ]
    },
    {
     "name": "stderr",
     "output_type": "stream",
     "text": [
      "Sample: 100%|██████████| 37/37 [00:26,  1.37it/s, step size=1.07e-03, acc. prob=0.658]\n",
      "WARNING:root:Projection failed.\n"
     ]
    },
    {
     "name": "stdout",
     "output_type": "stream",
     "text": [
      "Logfile: \n",
      "\n",
      "         ==============================\n",
      "         S N O P T  7.4-1.2  (Feb 2015)\n",
      "         ==============================\n",
      "1\n",
      " \n",
      " SNMEMA EXIT 100 -- finished successfully\n",
      " SNMEMA INFO 104 -- memory requirements estimated\n",
      "1\n",
      " \n",
      " Parameters\n",
      " ==========\n",
      "\n",
      " Files\n",
      " -----\n",
      " Solution file..........         0       Old basis file ........         0       Standard input.........         5\n",
      " Insert file............         0       New basis file ........         0       (Printer)..............        10\n",
      " Punch file.............         0       Backup basis file......         0       (Specs file)...........         0\n",
      " Load file..............         0       Dump file..............         0       Standard output........         6\n",
      "\n",
      " Frequencies\n",
      " -----------\n",
      " Print frequency........       100       Check frequency........        60       Save new basis map.....       100\n",
      " Summary frequency......       100       Factorization frequency        50       Expand frequency.......     10000\n",
      "\n",
      " QP subproblems\n",
      " --------------\n",
      " QPsolver Cholesky......\n",
      " Scale tolerance........     0.900       Minor feasibility tol..  1.00E-06       Iteration limit........     10000\n",
      " Scale option...........         0       Minor optimality  tol..  1.00E-06       Minor print level......         1\n",
      " Crash tolerance........     0.100       Pivot tolerance........  3.25E-11       New superbasics........        99\n",
      " Crash option...........         3       Elastic weight.........  1.00E+05\n",
      "\n",
      " Partial pricing\n",
      " ---------------\n",
      " LP Partial price.......         1       Prtl price section ( A)       112       Prtl price section (-I)        18\n",
      " QP Partial price.......         1       Prtl price section ( A)       112       Prtl price section (-I)        18\n",
      "\n",
      " The SQP Method\n",
      " --------------\n",
      " Minimize...............                 Cold start.............                 Proximal Point method..         1\n",
      " Nonlinear objectiv vars       112       Objective Row..........         1       Function precision.....  3.00E-13\n",
      " Unbounded step size....  1.00E+20       Superbasics limit......       112       Difference interval....  5.48E-07\n",
      " Unbounded objective....  1.00E+15       Reduced Hessian dim....       112       Central difference int.  6.70E-05\n",
      " Major step limit.......  2.00E+00       Derivative linesearch..                 Derivative option......         1\n",
      " Major iterations limit.       300       Linesearch tolerance...   0.90000       Verify level...........         0\n",
      " Minor iterations limit.       500       Penalty parameter......  0.00E+00       Major Print Level......         1\n",
      " Time limit (secs)...... 9999999.0       Major optimality tol...  1.00E-03\n",
      "\n",
      " Hessian Approximation\n",
      " ---------------------\n",
      " Limited-Memory Hessian.                 Hessian updates........        10       Hessian frequency......  99999999\n",
      "                                                                                 Hessian flush..........  99999999\n",
      "\n",
      " Nonlinear constraints\n",
      " ---------------------\n",
      " Nonlinear constraints..        17       Major feasibility tol..  1.00E-03       Violation limit........  1.00E+01\n",
      " Nonlinear Jacobian vars       112\n",
      "\n",
      " Miscellaneous\n",
      " -------------\n",
      " LU factor tolerance....      3.99       LU singularity tol.....  3.25E-11       Timing level...........         0\n",
      " LU update tolerance....      3.99       LU swap tolerance......  1.22E-04       Debug level............         0\n",
      " LU partial  pivoting...                 eps (machine precision)  2.22E-16       System information.....        No\n",
      "                                                                                 Sticky parameters......        No\n",
      "1\n",
      " \n",
      "\n",
      " \n",
      "\n",
      " Matrix statistics\n",
      " -----------------\n",
      "               Total      Normal        Free       Fixed     Bounded\n",
      " Rows             18           1           1          16           0\n",
      " Columns         112           0         112           0           0\n",
      "\n",
      " No. of matrix elements                  176     Density       8.730\n",
      " Biggest  constant element        0.0000E+00  (excluding fixed columns,\n",
      " Smallest constant element        0.0000E+00   free rows, and RHS)\n",
      "\n",
      " No. of objective coefficients             0\n",
      "\n",
      " Nonlinear constraints      17     Linear constraints       1\n",
      " Nonlinear variables       112     Linear variables         0\n",
      " Jacobian  variables       112     Objective variables    112\n",
      " Total constraints          18     Total variables        112\n",
      "1\n",
      " \n",
      "\n",
      " \n",
      " The user has defined     288   out of     288   first  derivatives\n",
      "\n",
      " Cheap test of user-supplied problem derivatives...\n",
      "\n",
      " The constraint gradients seem to be OK.\n",
      "\n",
      " -->  The largest discrepancy was    7.42E-09  in constraint   118\n",
      " \n",
      "\n",
      " The objective  gradients seem to be OK.\n",
      "\n",
      " Gradient projected in one direction   0.00000000000E+00\n",
      " Difference approximation              2.09947417143E-07\n",
      "1\n",
      " \n",
      " \n",
      "\n",
      "   Itns Major Minors    Step   nCon Feasible  Optimal  MeritFunction     L+U BSwap     nS condZHZ Penalty\n",
      "      0     0      0              1  4.7E-01 (0.0E+00) 1.0000000E+10      18                              _  r i\n",
      "1\n",
      " \n",
      " SNOPTA EXIT  10 -- the problem appears to be infeasible\n",
      " SNOPTA INFO  13 -- nonlinear infeasibilities minimized\n",
      "\n",
      " Problem name                 drake_pr\n",
      " No. of iterations                   0   Objective            0.0000000000E+00\n",
      " No. of major iterations             0   Linear    obj. term  0.0000000000E+00\n",
      " Penalty parameter           0.000E+00   Nonlinear obj. term  0.0000000000E+00\n",
      " Elastic weight                1.0E+10   Elastic   objective  1.0000000000E+10\n",
      "                                         Elastic infeas       1.0000000000E+00\n",
      " User function calls (total)         2\n",
      " No. of degenerate steps             0   Percentage                       0.00\n",
      " Max x                     112 1.1E+00   Max pi                     17 1.0E+10\n",
      " Max Primal infeas         130 1.0E+00   Max Dual infeas             0 0.0E+00\n",
      " Nonlinear constraint violn    1.0E+00\n",
      "1\n",
      " \n",
      " Name           drake_pr                 Objective Value      0.0000000000E+00\n",
      "\n",
      " Status         Optimal Soln             Iteration      0    Superbasics     0\n",
      "\n",
      " Objective               (Min)\n",
      " RHS\n",
      " Ranges\n",
      " Bounds\n",
      "\n",
      " Section 1 - Rows\n",
      "\n",
      "  Number  ...Row.. State  ...Activity...  Slack Activity  ..Lower Limit.  ..Upper Limit.  .Dual Activity    ..i\n",
      " \n",
      "     113  r      1    BS          .               .                None            None         -1.0          1\n",
      "     114  r      2 A  EQ         1.00000         0.00000         1.0             1.0              .           2\n",
      "     115  r      3 A  EQ         1.0              .              1.0             1.0              .           3\n",
      "     116  r      4 A  EQ         1.00000        -0.00000         1.0             1.0              .           4\n",
      "     117  r      5 A  EQ         1.00000         0.00000         1.0             1.0              .           5\n",
      "     118  r      6 A  EQ         1.00000        -0.00000         1.0             1.0              .           6\n",
      "     119  r      7 A  EQ         1.0              .              1.0             1.0              .           7\n",
      "     120  r      8 A  EQ         1.00000         0.00000         1.0             1.0              .           8\n",
      "     121  r      9 A  EQ         1.0              .              1.0             1.0              .           9\n",
      "     122  r     10 A  EQ         1.0              .              1.0             1.0              .          10\n",
      "     123  r     11 A  EQ         1.00000         0.00000         1.0             1.0              .          11\n",
      "     124  r     12 A  EQ         1.00000         0.00000         1.0             1.0              .          12\n",
      "     125  r     13 A  EQ         1.00000        -0.00000         1.0             1.0              .          13\n",
      "     126  r     14 A  EQ         1.0              .              1.0             1.0              .          14\n",
      "     127  r     15 A  EQ         1.0              .              1.0             1.0              .          15\n",
      "     128  r     16 A  EQ         1.00000         0.00000         1.0             1.0              .          16\n",
      "     129  r     17 A  EQ         1.0              .              1.0             1.0              .          17\n",
      "     130  r     18 I  BS          .             -1.0             1.0               None     1.000000E+10     18\n",
      "1\n",
      " \n",
      " Section 2 - Columns\n",
      "\n",
      "  Number  .Column. State  ...Activity...  .Obj Gradient.  ..Lower Limit.  ..Upper Limit.  Reduced Gradnt    m+j\n",
      " \n",
      "       1  x      1    BS         0.93760          .                None            None           .          19\n",
      "       2  x      2 A  FR         0.00522          .                None            None           .          20\n",
      "       3  x      3 A  FR         0.01081          .                None            None           .          21\n",
      "       4  x      4 A  FR        -0.34750          .                None            None           .          22\n",
      "       5  x      5 A  FR        -0.24283          .                None            None           .          23\n",
      "       6  x      6 A  FR         0.45566          .                None            None           .          24\n",
      "       7  x      7 A  FR         0.83258          .                None            None           .          25\n",
      "       8  x      8    BS         0.97952          .                None            None           .          26\n",
      "       9  x      9 A  FR         0.00445          .                None            None           .          27\n",
      "      10  x     10 A  FR        -0.03047          .                None            None           .          28\n",
      "      11  x     11 A  FR         0.19899          .                None            None           .          29\n",
      "      12  x     12 A  FR         0.31784          .                None            None           .          30\n",
      "      13  x     13 A  FR         0.29456          .                None            None           .          31\n",
      "      14  x     14 A  FR         0.83841          .                None            None           .          32\n",
      "      15  x     15    BS         0.99226          .                None            None           .          33\n",
      "      16  x     16 A  FR        -0.01308          .                None            None           .          34\n",
      "      17  x     17 A  FR        -0.00342          .                None            None           .          35\n",
      "      18  x     18 A  FR         0.12344          .                None            None           .          36\n",
      "      19  x     19 A  FR        -0.06383          .                None            None           .          37\n",
      "      20  x     20 A  FR        -0.05876          .                None            None           .          38\n",
      "      21  x     21 A  FR         0.83115          .                None            None           .          39\n",
      "      22  x     22    BS         0.92040          .                None            None           .          40\n",
      "      23  x     23 A  FR        -0.01158          .                None            None           .          41\n",
      "      24  x     24 A  FR        -0.00705          .                None            None           .          42\n",
      "      25  x     25 A  FR        -0.39074          .                None            None           .          43\n",
      "      26  x     26 A  FR        -0.18911          .                None            None           .          44\n",
      "      27  x     27 A  FR         0.20296          .                None            None           .          45\n",
      "      28  x     28 A  FR         0.83940          .                None            None           .          46\n",
      "      29  x     29    BS         0.27717          .                None            None           .          47\n",
      "      30  x     30 A  FR         0.03778          .                None            None           .          48\n",
      "      31  x     31 A  FR         0.02035          .                None            None           .          49\n",
      "      32  x     32 A  FR         0.95986          .                None            None           .          50\n",
      "      33  x     33 A  FR         0.02634          .                None            None           .          51\n",
      "      34  x     34 A  FR         0.47438          .                None            None           .          52\n",
      "      35  x     35 A  FR         0.83145          .                None            None           .          53\n",
      "      36  x     36    BS         0.22931          .                None            None           .          54\n",
      "      37  x     37 A  FR        -0.01374          .                None            None           .          55\n",
      "      38  x     38 A  FR        -0.05917          .                None            None           .          56\n",
      "      39  x     39 A  FR         0.97146          .                None            None           .          57\n",
      "      40  x     40 A  FR         0.17654          .                None            None           .          58\n",
      "      41  x     41 A  FR        -0.05851          .                None            None           .          59\n",
      "      42  x     42 A  FR         0.83489          .                None            None           .          60\n",
      "      43  x     43    BS         0.90813          .                None            None           .          61\n",
      "      44  x     44 A  FR        -0.00536          .                None            None           .          62\n",
      "      45  x     45 A  FR         0.01582          .                None            None           .          63\n",
      "      46  x     46 A  FR         0.41834          .                None            None           .          64\n",
      "      47  x     47 A  FR        -0.46664          .                None            None           .          65\n",
      "      48  x     48 A  FR         0.04482          .                None            None           .          66\n",
      "      49  x     49 A  FR         0.82244          .                None            None           .          67\n",
      "      50  x     50    BS         0.98577          .                None            None           .          68\n",
      "      51  x     51 A  FR         0.00493          .                None            None           .          69\n",
      "      52  x     52 A  FR         0.00279          .                None            None           .          70\n",
      "      53  x     53 A  FR         0.16798          .                None            None           .          71\n",
      "      54  x     54 A  FR        -0.26312          .                None            None           .          72\n",
      "      55  x     55 A  FR        -0.09471          .                None            None           .          73\n",
      "      56  x     56 A  FR         0.83678          .                None            None           .          74\n",
      "      57  x     57    BS         0.02542          .                None            None           .          75\n",
      "      58  x     58 A  FR         0.01583          .                None            None           .          76\n",
      "      59  x     59 A  FR        -0.01277          .                None            None           .          77\n",
      "      60  x     60 A  FR        -0.99947          .                None            None           .          78\n",
      "      61  x     61 A  FR         0.47048          .                None            None           .          79\n",
      "      62  x     62 A  FR        -0.01059          .                None            None           .          80\n",
      "      63  x     63 A  FR         0.82016          .                None            None           .          81\n",
      "      64  x     64    BS         0.72246          .                None            None           .          82\n",
      "      65  x     65 A  FR         0.00896          .                None            None           .          83\n",
      "      66  x     66 A  FR         0.00980          .                None            None           .          84\n",
      "      67  x     67 A  FR         0.69129          .                None            None           .          85\n",
      "      68  x     68 A  FR         0.31850          .                None            None           .          86\n",
      "      69  x     69 A  FR        -0.23452          .                None            None           .          87\n",
      "      70  x     70 A  FR         0.83165          .                None            None           .          88\n",
      "      71  x     71    BS         0.81014          .                None            None           .          89\n",
      "      72  x     72 A  FR         0.04005          .                None            None           .          90\n",
      "      73  x     73 A  FR         0.03007          .                None            None           .          91\n",
      "      74  x     74 A  FR         0.58409          .                None            None           .          92\n",
      "      75  x     75 A  FR         0.03564          .                None            None           .          93\n",
      "      76  x     76 A  FR        -0.44839          .                None            None           .          94\n",
      "      77  x     77 A  FR         0.83228          .                None            None           .          95\n",
      "      78  x     78    BS         0.67369          .                None            None           .          96\n",
      "      79  x     79 A  FR         0.00084          .                None            None           .          97\n",
      "      80  x     80 A  FR         0.00367          .                None            None           .          98\n",
      "      81  x     81 A  FR         0.73900          .                None            None           .          99\n",
      "      82  x     82 A  FR        -0.05540          .                None            None           .         100\n",
      "      83  x     83 A  FR        -0.25211          .                None            None           .         101\n",
      "      84  x     84 A  FR         0.82188          .                None            None           .         102\n",
      "      85  x     85    BS         0.94073          .                None            None           .         103\n",
      "      86  x     86 A  FR         0.01353          .                None            None           .         104\n",
      "      87  x     87 A  FR         0.04764          .                None            None           .         105\n",
      "      88  x     88 A  FR         0.33553          .                None            None           .         106\n",
      "      89  x     89 A  FR         0.03191          .                None            None           .         107\n",
      "      90  x     90 A  FR         0.47119          .                None            None           .         108\n",
      "      91  x     91 A  FR         0.93250          .                None            None           .         109\n",
      "      92  x     92    BS         0.71914          .                None            None           .         110\n",
      "      93  x     93 A  FR         0.01643          .                None            None           .         111\n",
      "      94  x     94 A  FR        -0.04074          .                None            None           .         112\n",
      "      95  x     95 A  FR         0.69347          .                None            None           .         113\n",
      "      96  x     96 A  FR         0.16495          .                None            None           .         114\n",
      "      97  x     97 A  FR        -0.06264          .                None            None           .         115\n",
      "      98  x     98 A  FR         0.94509          .                None            None           .         116\n",
      "      99  x     99    BS         0.39200          .                None            None           .         117\n",
      "     100  x    100 A  FR        -0.04307          .                None            None           .         118\n",
      "     101  x    101 A  FR         0.03128          .                None            None           .         119\n",
      "     102  x    102 A  FR        -0.91842          .                None            None           .         120\n",
      "     103  x    103 A  FR         0.04475          .                None            None           .         121\n",
      "     104  x    104 A  FR         0.46848          .                None            None           .         122\n",
      "     105  x    105 A  FR         1.03114          .                None            None           .         123\n",
      "     106  x    106    BS         0.93411          .                None            None           .         124\n",
      "     107  x    107 A  FR        -0.01302          .                None            None           .         125\n",
      "     108  x    108 A  FR         0.04370          .                None            None           .         126\n",
      "     109  x    109 A  FR        -0.35405          .                None            None           .         127\n",
      "     110  x    110 A  FR         0.05867          .                None            None           .         128\n",
      "     111  x    111 A  FR         0.45776          .                None            None           .         129\n",
      "     112  x    112 A  FR         1.14705          .                None            None           .         130\n",
      "\n",
      "Initial trace log prob:  tensor(-12855.0193)\n"
     ]
    },
    {
     "name": "stderr",
     "output_type": "stream",
     "text": [
      "Sample: 100%|██████████| 37/37 [00:29,  1.24it/s, step size=1.01e-03, acc. prob=0.895]\n"
     ]
    },
    {
     "name": "stdout",
     "output_type": "stream",
     "text": [
      "Initial trace log prob:  tensor(-14559.2227)\n"
     ]
    },
    {
     "name": "stderr",
     "output_type": "stream",
     "text": [
      "Sample: 100%|██████████| 37/37 [00:28,  1.28it/s, step size=8.90e-04, acc. prob=0.919]\n"
     ]
    },
    {
     "name": "stdout",
     "output_type": "stream",
     "text": [
      "Initial trace log prob:  tensor(-10270.8737)\n"
     ]
    },
    {
     "name": "stderr",
     "output_type": "stream",
     "text": [
      "Sample: 100%|██████████| 37/37 [00:33,  1.10it/s, step size=5.73e-04, acc. prob=0.933]\n"
     ]
    },
    {
     "name": "stdout",
     "output_type": "stream",
     "text": [
      "Initial trace log prob:  tensor(-20995.6039)\n"
     ]
    },
    {
     "name": "stderr",
     "output_type": "stream",
     "text": [
      "Sample: 100%|██████████| 37/37 [00:28,  1.28it/s, step size=5.47e-04, acc. prob=0.977]\n",
      "WARNING:root:Projection failed.\n"
     ]
    },
    {
     "name": "stdout",
     "output_type": "stream",
     "text": [
      "Logfile: \n",
      "\n",
      "         ==============================\n",
      "         S N O P T  7.4-1.2  (Feb 2015)\n",
      "         ==============================\n",
      "1\n",
      " \n",
      " SNMEMA EXIT 100 -- finished successfully\n",
      " SNMEMA INFO 104 -- memory requirements estimated\n",
      "1\n",
      " \n",
      " Parameters\n",
      " ==========\n",
      "\n",
      " Files\n",
      " -----\n",
      " Solution file..........         0       Old basis file ........         0       Standard input.........         5\n",
      " Insert file............         0       New basis file ........         0       (Printer)..............        10\n",
      " Punch file.............         0       Backup basis file......         0       (Specs file)...........         0\n",
      " Load file..............         0       Dump file..............         0       Standard output........         6\n",
      "\n",
      " Frequencies\n",
      " -----------\n",
      " Print frequency........       100       Check frequency........        60       Save new basis map.....       100\n",
      " Summary frequency......       100       Factorization frequency        50       Expand frequency.......     10000\n",
      "\n",
      " QP subproblems\n",
      " --------------\n",
      " QPsolver Cholesky......\n",
      " Scale tolerance........     0.900       Minor feasibility tol..  1.00E-06       Iteration limit........     10000\n",
      " Scale option...........         0       Minor optimality  tol..  1.00E-06       Minor print level......         1\n",
      " Crash tolerance........     0.100       Pivot tolerance........  3.25E-11       New superbasics........        99\n",
      " Crash option...........         3       Elastic weight.........  1.00E+05\n",
      "\n",
      " Partial pricing\n",
      " ---------------\n",
      " LP Partial price.......         1       Prtl price section ( A)       126       Prtl price section (-I)        20\n",
      " QP Partial price.......         1       Prtl price section ( A)       126       Prtl price section (-I)        20\n",
      "\n",
      " The SQP Method\n",
      " --------------\n",
      " Minimize...............                 Cold start.............                 Proximal Point method..         1\n",
      " Nonlinear objectiv vars       126       Objective Row..........         1       Function precision.....  3.00E-13\n",
      " Unbounded step size....  1.00E+20       Superbasics limit......       126       Difference interval....  5.48E-07\n",
      " Unbounded objective....  1.00E+15       Reduced Hessian dim....       126       Central difference int.  6.70E-05\n",
      " Major step limit.......  2.00E+00       Derivative linesearch..                 Derivative option......         1\n",
      " Major iterations limit.       300       Linesearch tolerance...   0.90000       Verify level...........         0\n",
      " Minor iterations limit.       500       Penalty parameter......  0.00E+00       Major Print Level......         1\n",
      " Time limit (secs)...... 9999999.0       Major optimality tol...  1.00E-03\n",
      "\n",
      " Hessian Approximation\n",
      " ---------------------\n",
      " Limited-Memory Hessian.                 Hessian updates........        10       Hessian frequency......  99999999\n",
      "                                                                                 Hessian flush..........  99999999\n",
      "\n",
      " Nonlinear constraints\n",
      " ---------------------\n",
      " Nonlinear constraints..        19       Major feasibility tol..  1.00E-03       Violation limit........  1.00E+01\n",
      " Nonlinear Jacobian vars       126\n",
      "\n",
      " Miscellaneous\n",
      " -------------\n",
      " LU factor tolerance....      3.99       LU singularity tol.....  3.25E-11       Timing level...........         0\n",
      " LU update tolerance....      3.99       LU swap tolerance......  1.22E-04       Debug level............         0\n",
      " LU partial  pivoting...                 eps (machine precision)  2.22E-16       System information.....        No\n",
      "                                                                                 Sticky parameters......        No\n",
      "1\n",
      " \n",
      "\n",
      " \n",
      "\n",
      " Matrix statistics\n",
      " -----------------\n",
      "               Total      Normal        Free       Fixed     Bounded\n",
      " Rows             20           1           1          18           0\n",
      " Columns         126           0         126           0           0\n",
      "\n",
      " No. of matrix elements                  198     Density       7.857\n",
      " Biggest  constant element        0.0000E+00  (excluding fixed columns,\n",
      " Smallest constant element        0.0000E+00   free rows, and RHS)\n",
      "\n",
      " No. of objective coefficients             0\n",
      "\n",
      " Nonlinear constraints      19     Linear constraints       1\n",
      " Nonlinear variables       126     Linear variables         0\n",
      " Jacobian  variables       126     Objective variables    126\n",
      " Total constraints          20     Total variables        126\n",
      "1\n",
      " \n",
      "\n",
      " \n",
      " The user has defined     324   out of     324   first  derivatives\n",
      "\n",
      " Cheap test of user-supplied problem derivatives...\n",
      "\n",
      " The constraint gradients seem to be OK.\n",
      "\n",
      " -->  The largest discrepancy was    6.40E-09  in constraint   130\n",
      " \n",
      "\n",
      " The objective  gradients seem to be OK.\n",
      "\n",
      " Gradient projected in one direction   0.00000000000E+00\n",
      " Difference approximation              2.05941519983E-07\n",
      "1\n",
      " \n",
      " \n",
      "\n",
      "   Itns Major Minors    Step   nCon Feasible  Optimal  MeritFunction     L+U BSwap     nS condZHZ Penalty\n",
      "      0     0      0              1  4.3E-01 (0.0E+00) 1.0000000E+10      20                              _  r i\n",
      "1\n",
      " \n",
      " SNOPTA EXIT  10 -- the problem appears to be infeasible\n",
      " SNOPTA INFO  13 -- nonlinear infeasibilities minimized\n",
      "\n",
      " Problem name                 drake_pr\n",
      " No. of iterations                   0   Objective            0.0000000000E+00\n",
      " No. of major iterations             0   Linear    obj. term  0.0000000000E+00\n",
      " Penalty parameter           0.000E+00   Nonlinear obj. term  0.0000000000E+00\n",
      " Elastic weight                1.0E+10   Elastic   objective  1.0000000000E+10\n",
      "                                         Elastic infeas       1.0000000000E+00\n",
      " User function calls (total)         2\n",
      " No. of degenerate steps             0   Percentage                       0.00\n",
      " Max x                     126 1.3E+00   Max pi                     19 1.0E+10\n",
      " Max Primal infeas         146 1.0E+00   Max Dual infeas             0 0.0E+00\n",
      " Nonlinear constraint violn    1.0E+00\n",
      "1\n",
      " \n",
      " Name           drake_pr                 Objective Value      0.0000000000E+00\n",
      "\n",
      " Status         Optimal Soln             Iteration      0    Superbasics     0\n",
      "\n",
      " Objective               (Min)\n",
      " RHS\n",
      " Ranges\n",
      " Bounds\n",
      "\n",
      " Section 1 - Rows\n",
      "\n",
      "  Number  ...Row.. State  ...Activity...  Slack Activity  ..Lower Limit.  ..Upper Limit.  .Dual Activity    ..i\n",
      " \n",
      "     127  r      1    BS          .               .                None            None         -1.0          1\n",
      "     128  r      2 A  EQ         1.00000        -0.00000         1.0             1.0              .           2\n",
      "     129  r      3 A  EQ         1.00000         0.00000         1.0             1.0              .           3\n",
      "     130  r      4 A  EQ         1.0              .              1.0             1.0              .           4\n",
      "     131  r      5 A  EQ         1.00000        -0.00000         1.0             1.0              .           5\n",
      "     132  r      6 A  EQ         1.0              .              1.0             1.0              .           6\n",
      "     133  r      7 A  EQ         1.0              .              1.0             1.0              .           7\n",
      "     134  r      8 A  EQ         1.0              .              1.0             1.0              .           8\n",
      "     135  r      9 A  EQ         1.00000         0.00000         1.0             1.0              .           9\n",
      "     136  r     10 A  EQ         1.0              .              1.0             1.0              .          10\n",
      "     137  r     11 A  EQ         1.00000        -0.00000         1.0             1.0              .          11\n",
      "     138  r     12 A  EQ         1.00000        -0.00000         1.0             1.0              .          12\n",
      "     139  r     13 A  EQ         1.00000        -0.00000         1.0             1.0              .          13\n",
      "     140  r     14 A  EQ         1.0              .              1.0             1.0              .          14\n",
      "     141  r     15 A  EQ         1.00000         0.00000         1.0             1.0              .          15\n",
      "     142  r     16 A  EQ         1.0              .              1.0             1.0              .          16\n",
      "     143  r     17 A  EQ         1.00000        -0.00000         1.0             1.0              .          17\n",
      "     144  r     18 A  EQ         1.00000        -0.00000         1.0             1.0              .          18\n",
      "     145  r     19 A  EQ         1.00000        -0.00000         1.0             1.0              .          19\n",
      "     146  r     20 I  BS          .             -1.0             1.0               None     1.000000E+10     20\n",
      "1\n",
      " \n",
      " Section 2 - Columns\n",
      "\n",
      "  Number  .Column. State  ...Activity...  .Obj Gradient.  ..Lower Limit.  ..Upper Limit.  Reduced Gradnt    m+j\n",
      " \n",
      "       1  x      1    BS         0.88843          .                None            None           .          21\n",
      "       2  x      2 A  FR         0.00838          .                None            None           .          22\n",
      "       3  x      3 A  FR         0.05090          .                None            None           .          23\n",
      "       4  x      4 A  FR         0.45611          .                None            None           .          24\n",
      "       5  x      5 A  FR         0.00136          .                None            None           .          25\n",
      "       6  x      6 A  FR         0.18433          .                None            None           .          26\n",
      "       7  x      7 A  FR         0.82511          .                None            None           .          27\n",
      "       8  x      8    BS         0.97208          .                None            None           .          28\n",
      "       9  x      9 A  FR         0.00130          .                None            None           .          29\n",
      "      10  x     10 A  FR        -0.03490          .                None            None           .          30\n",
      "      11  x     11 A  FR         0.23204          .                None            None           .          31\n",
      "      12  x     12 A  FR        -0.18256          .                None            None           .          32\n",
      "      13  x     13 A  FR         0.02239          .                None            None           .          33\n",
      "      14  x     14 A  FR         0.83165          .                None            None           .          34\n",
      "      15  x     15    BS         0.87687          .                None            None           .          35\n",
      "      16  x     16 A  FR        -0.00552          .                None            None           .          36\n",
      "      17  x     17 A  FR        -0.00137          .                None            None           .          37\n",
      "      18  x     18 A  FR        -0.48069          .                None            None           .          38\n",
      "      19  x     19 A  FR        -0.38296          .                None            None           .          39\n",
      "      20  x     20 A  FR        -0.32511          .                None            None           .          40\n",
      "      21  x     21 A  FR         0.82096          .                None            None           .          41\n",
      "      22  x     22    BS         0.89010          .                None            None           .          42\n",
      "      23  x     23 A  FR        -0.00468          .                None            None           .          43\n",
      "      24  x     24 A  FR         0.03943          .                None            None           .          44\n",
      "      25  x     25 A  FR        -0.45403          .                None            None           .          45\n",
      "      26  x     26 A  FR         0.26359          .                None            None           .          46\n",
      "      27  x     27 A  FR         0.25570          .                None            None           .          47\n",
      "      28  x     28 A  FR         0.82793          .                None            None           .          48\n",
      "      29  x     29    BS         0.33211          .                None            None           .          49\n",
      "      30  x     30 A  FR        -0.00241          .                None            None           .          50\n",
      "      31  x     31 A  FR        -0.01971          .                None            None           .          51\n",
      "      32  x     32 A  FR        -0.94303          .                None            None           .          52\n",
      "      33  x     33 A  FR         0.05750          .                None            None           .          53\n",
      "      34  x     34 A  FR        -0.07364          .                None            None           .          54\n",
      "      35  x     35 A  FR         0.82294          .                None            None           .          55\n",
      "      36  x     36    BS         0.44362          .                None            None           .          56\n",
      "      37  x     37 A  FR         0.01743          .                None            None           .          57\n",
      "      38  x     38 A  FR        -0.00385          .                None            None           .          58\n",
      "      39  x     39 A  FR         0.89604          .                None            None           .          59\n",
      "      40  x     40 A  FR         0.24950          .                None            None           .          60\n",
      "      41  x     41 A  FR        -0.36589          .                None            None           .          61\n",
      "      42  x     42 A  FR         0.81456          .                None            None           .          62\n",
      "      43  x     43    BS         0.90165          .                None            None           .          63\n",
      "      44  x     44 A  FR         0.00668          .                None            None           .          64\n",
      "      45  x     45 A  FR         0.01834          .                None            None           .          65\n",
      "      46  x     46 A  FR         0.43202          .                None            None           .          66\n",
      "      47  x     47 A  FR        -0.46589          .                None            None           .          67\n",
      "      48  x     48 A  FR         0.04431          .                None            None           .          68\n",
      "      49  x     49 A  FR         0.82818          .                None            None           .          69\n",
      "      50  x     50    BS         0.97755          .                None            None           .          70\n",
      "      51  x     51 A  FR         0.02011          .                None            None           .          71\n",
      "      52  x     52 A  FR        -0.01190          .                None            None           .          72\n",
      "      53  x     53 A  FR         0.20939          .                None            None           .          73\n",
      "      54  x     54 A  FR        -0.28537          .                None            None           .          74\n",
      "      55  x     55 A  FR         0.25998          .                None            None           .          75\n",
      "      56  x     56 A  FR         0.82541          .                None            None           .          76\n",
      "      57  x     57    BS         0.97217          .                None            None           .          77\n",
      "      58  x     58 A  FR         0.00352          .                None            None           .          78\n",
      "      59  x     59 A  FR         0.03187          .                None            None           .          79\n",
      "      60  x     60 A  FR         0.23206          .                None            None           .          80\n",
      "      61  x     61 A  FR         0.46308          .                None            None           .          81\n",
      "      62  x     62 A  FR         0.03271          .                None            None           .          82\n",
      "      63  x     63 A  FR         0.82058          .                None            None           .          83\n",
      "      64  x     64    BS         0.33942          .                None            None           .          84\n",
      "      65  x     65 A  FR        -0.01214          .                None            None           .          85\n",
      "      66  x     66 A  FR        -0.02152          .                None            None           .          86\n",
      "      67  x     67 A  FR        -0.94031          .                None            None           .          87\n",
      "      68  x     68 A  FR         0.25753          .                None            None           .          88\n",
      "      69  x     69 A  FR        -0.04550          .                None            None           .          89\n",
      "      70  x     70 A  FR         0.82739          .                None            None           .          90\n",
      "      71  x     71    BS         0.73120          .                None            None           .          91\n",
      "      72  x     72 A  FR        -0.01440          .                None            None           .          92\n",
      "      73  x     73 A  FR        -0.03438          .                None            None           .          93\n",
      "      74  x     74 A  FR        -0.68114          .                None            None           .          94\n",
      "      75  x     75 A  FR        -0.03768          .                None            None           .          95\n",
      "      76  x     76 A  FR        -0.46418          .                None            None           .          96\n",
      "      77  x     77 A  FR         0.84094          .                None            None           .          97\n",
      "      78  x     78    BS         0.95820          .                None            None           .          98\n",
      "      79  x     79 A  FR        -0.00166          .                None            None           .          99\n",
      "      80  x     80 A  FR        -0.01578          .                None            None           .         100\n",
      "      81  x     81 A  FR        -0.28565          .                None            None           .         101\n",
      "      82  x     82 A  FR        -0.04490          .                None            None           .         102\n",
      "      83  x     83 A  FR        -0.25145          .                None            None           .         103\n",
      "      84  x     84 A  FR         0.82313          .                None            None           .         104\n",
      "      85  x     85    BS         0.95713          .                None            None           .         105\n",
      "      86  x     86 A  FR         0.00125          .                None            None           .         106\n",
      "      87  x     87 A  FR         0.03511          .                None            None           .         107\n",
      "      88  x     88 A  FR        -0.28753          .                None            None           .         108\n",
      "      89  x     89 A  FR         0.28255          .                None            None           .         109\n",
      "      90  x     90 A  FR         0.24816          .                None            None           .         110\n",
      "      91  x     91 A  FR         0.92479          .                None            None           .         111\n",
      "      92  x     92    BS         0.48674          .                None            None           .         112\n",
      "      93  x     93 A  FR        -0.01267          .                None            None           .         113\n",
      "      94  x     94 A  FR         0.00868          .                None            None           .         114\n",
      "      95  x     95 A  FR         0.87341          .                None            None           .         115\n",
      "      96  x     96 A  FR         0.04480          .                None            None           .         116\n",
      "      97  x     97 A  FR        -0.07874          .                None            None           .         117\n",
      "      98  x     98 A  FR         0.92538          .                None            None           .         118\n",
      "      99  x     99    BS         0.19593          .                None            None           .         119\n",
      "     100  x    100 A  FR        -0.01877          .                None            None           .         120\n",
      "     101  x    101 A  FR         0.02002          .                None            None           .         121\n",
      "     102  x    102 A  FR         0.98023          .                None            None           .         122\n",
      "     103  x    103 A  FR         0.03237          .                None            None           .         123\n",
      "     104  x    104 A  FR        -0.08211          .                None            None           .         124\n",
      "     105  x    105 A  FR         1.02232          .                None            None           .         125\n",
      "     106  x    106    BS         0.44873          .                None            None           .         126\n",
      "     107  x    107 A  FR        -0.00773          .                None            None           .         127\n",
      "     108  x    108 A  FR        -0.01601          .                None            None           .         128\n",
      "     109  x    109 A  FR        -0.89349          .                None            None           .         129\n",
      "     110  x    110 A  FR         0.02401          .                None            None           .         130\n",
      "     111  x    111 A  FR        -0.08916          .                None            None           .         131\n",
      "     112  x    112 A  FR         1.12658          .                None            None           .         132\n",
      "     113  x    113    BS         0.28986          .                None            None           .         133\n",
      "     114  x    114 A  FR        -0.00395          .                None            None           .         134\n",
      "     115  x    115 A  FR        -0.01438          .                None            None           .         135\n",
      "     116  x    116 A  FR        -0.95695          .                None            None           .         136\n",
      "     117  x    117 A  FR         0.01790          .                None            None           .         137\n",
      "     118  x    118 A  FR        -0.09243          .                None            None           .         138\n",
      "     119  x    119 A  FR         1.22665          .                None            None           .         139\n",
      "     120  x    120    BS         0.88460          .                None            None           .         140\n",
      "     121  x    121 A  FR        -0.01600          .                None            None           .         141\n",
      "     122  x    122 A  FR        -0.00677          .                None            None           .         142\n",
      "     123  x    123 A  FR        -0.46604          .                None            None           .         143\n",
      "     124  x    124 A  FR         0.01559          .                None            None           .         144\n",
      "     125  x    125 A  FR        -0.08202          .                None            None           .         145\n",
      "     126  x    126 A  FR         1.33676          .                None            None           .         146\n",
      "\n",
      "Initial trace log prob:  tensor(-9249.7634)\n"
     ]
    },
    {
     "name": "stderr",
     "output_type": "stream",
     "text": [
      "Sample: 100%|██████████| 37/37 [00:36,  1.01it/s, step size=4.90e-04, acc. prob=0.984]\n"
     ]
    },
    {
     "name": "stdout",
     "output_type": "stream",
     "text": [
      "Initial trace log prob:  tensor(-6581.3021)\n"
     ]
    },
    {
     "name": "stderr",
     "output_type": "stream",
     "text": [
      "Sample: 100%|██████████| 37/37 [00:32,  1.15it/s, step size=9.90e-04, acc. prob=0.955]\n"
     ]
    },
    {
     "name": "stdout",
     "output_type": "stream",
     "text": [
      "Initial trace log prob:  tensor(-1913.7468)\n"
     ]
    },
    {
     "name": "stderr",
     "output_type": "stream",
     "text": [
      "Sample: 100%|██████████| 37/37 [00:32,  1.16it/s, step size=1.37e-03, acc. prob=0.869]\n",
      "WARNING:root:Projection failed.\n"
     ]
    },
    {
     "name": "stdout",
     "output_type": "stream",
     "text": [
      "Logfile: \n",
      "\n",
      "         ==============================\n",
      "         S N O P T  7.4-1.2  (Feb 2015)\n",
      "         ==============================\n",
      "1\n",
      " \n",
      " SNMEMA EXIT 100 -- finished successfully\n",
      " SNMEMA INFO 104 -- memory requirements estimated\n",
      "1\n",
      " \n",
      " Parameters\n",
      " ==========\n",
      "\n",
      " Files\n",
      " -----\n",
      " Solution file..........         0       Old basis file ........         0       Standard input.........         5\n",
      " Insert file............         0       New basis file ........         0       (Printer)..............        10\n",
      " Punch file.............         0       Backup basis file......         0       (Specs file)...........         0\n",
      " Load file..............         0       Dump file..............         0       Standard output........         6\n",
      "\n",
      " Frequencies\n",
      " -----------\n",
      " Print frequency........       100       Check frequency........        60       Save new basis map.....       100\n",
      " Summary frequency......       100       Factorization frequency        50       Expand frequency.......     10000\n",
      "\n",
      " QP subproblems\n",
      " --------------\n",
      " QPsolver Cholesky......\n",
      " Scale tolerance........     0.900       Minor feasibility tol..  1.00E-06       Iteration limit........     10000\n",
      " Scale option...........         0       Minor optimality  tol..  1.00E-06       Minor print level......         1\n",
      " Crash tolerance........     0.100       Pivot tolerance........  3.25E-11       New superbasics........        99\n",
      " Crash option...........         3       Elastic weight.........  1.00E+05\n",
      "\n",
      " Partial pricing\n",
      " ---------------\n",
      " LP Partial price.......         1       Prtl price section ( A)       126       Prtl price section (-I)        20\n",
      " QP Partial price.......         1       Prtl price section ( A)       126       Prtl price section (-I)        20\n",
      "\n",
      " The SQP Method\n",
      " --------------\n",
      " Minimize...............                 Cold start.............                 Proximal Point method..         1\n",
      " Nonlinear objectiv vars       126       Objective Row..........         1       Function precision.....  3.00E-13\n",
      " Unbounded step size....  1.00E+20       Superbasics limit......       126       Difference interval....  5.48E-07\n",
      " Unbounded objective....  1.00E+15       Reduced Hessian dim....       126       Central difference int.  6.70E-05\n",
      " Major step limit.......  2.00E+00       Derivative linesearch..                 Derivative option......         1\n",
      " Major iterations limit.       300       Linesearch tolerance...   0.90000       Verify level...........         0\n",
      " Minor iterations limit.       500       Penalty parameter......  0.00E+00       Major Print Level......         1\n",
      " Time limit (secs)...... 9999999.0       Major optimality tol...  1.00E-03\n",
      "\n",
      " Hessian Approximation\n",
      " ---------------------\n",
      " Limited-Memory Hessian.                 Hessian updates........        10       Hessian frequency......  99999999\n",
      "                                                                                 Hessian flush..........  99999999\n",
      "\n",
      " Nonlinear constraints\n",
      " ---------------------\n",
      " Nonlinear constraints..        19       Major feasibility tol..  1.00E-03       Violation limit........  1.00E+01\n",
      " Nonlinear Jacobian vars       126\n",
      "\n",
      " Miscellaneous\n",
      " -------------\n",
      " LU factor tolerance....      3.99       LU singularity tol.....  3.25E-11       Timing level...........         0\n",
      " LU update tolerance....      3.99       LU swap tolerance......  1.22E-04       Debug level............         0\n",
      " LU partial  pivoting...                 eps (machine precision)  2.22E-16       System information.....        No\n",
      "                                                                                 Sticky parameters......        No\n",
      "1\n",
      " \n",
      "\n",
      " \n",
      "\n",
      " Matrix statistics\n",
      " -----------------\n",
      "               Total      Normal        Free       Fixed     Bounded\n",
      " Rows             20           1           1          18           0\n",
      " Columns         126           0         126           0           0\n",
      "\n",
      " No. of matrix elements                  198     Density       7.857\n",
      " Biggest  constant element        0.0000E+00  (excluding fixed columns,\n",
      " Smallest constant element        0.0000E+00   free rows, and RHS)\n",
      "\n",
      " No. of objective coefficients             0\n",
      "\n",
      " Nonlinear constraints      19     Linear constraints       1\n",
      " Nonlinear variables       126     Linear variables         0\n",
      " Jacobian  variables       126     Objective variables    126\n",
      " Total constraints          20     Total variables        126\n",
      "1\n",
      " \n",
      "\n",
      " \n",
      " The user has defined     324   out of     324   first  derivatives\n",
      "\n",
      " Cheap test of user-supplied problem derivatives...\n",
      "\n",
      " The constraint gradients seem to be OK.\n",
      "\n",
      " -->  The largest discrepancy was    6.62E-09  in constraint   129\n",
      " \n",
      "\n",
      " The objective  gradients seem to be OK.\n",
      "\n",
      " Gradient projected in one direction   0.00000000000E+00\n",
      " Difference approximation              2.12313279477E-07\n",
      "1\n",
      " \n",
      " \n",
      "\n",
      "   Itns Major Minors    Step   nCon Feasible  Optimal  MeritFunction     L+U BSwap     nS condZHZ Penalty\n",
      "      0     0      0              1  4.5E-01 (0.0E+00) 1.0000000E+10      20                              _  r i\n",
      "1\n",
      " \n",
      " SNOPTA EXIT  10 -- the problem appears to be infeasible\n",
      " SNOPTA INFO  13 -- nonlinear infeasibilities minimized\n",
      "\n",
      " Problem name                 drake_pr\n",
      " No. of iterations                   0   Objective            0.0000000000E+00\n",
      " No. of major iterations             0   Linear    obj. term  0.0000000000E+00\n",
      " Penalty parameter           0.000E+00   Nonlinear obj. term  0.0000000000E+00\n",
      " Elastic weight                1.0E+10   Elastic   objective  1.0000000000E+10\n",
      "                                         Elastic infeas       1.0000000000E+00\n",
      " User function calls (total)         2\n",
      " No. of degenerate steps             0   Percentage                       0.00\n",
      " Max x                     126 1.2E+00   Max pi                     19 1.0E+10\n",
      " Max Primal infeas         146 1.0E+00   Max Dual infeas             0 0.0E+00\n",
      " Nonlinear constraint violn    1.0E+00\n",
      "1\n",
      " \n",
      " Name           drake_pr                 Objective Value      0.0000000000E+00\n",
      "\n",
      " Status         Optimal Soln             Iteration      0    Superbasics     0\n",
      "\n",
      " Objective               (Min)\n",
      " RHS\n",
      " Ranges\n",
      " Bounds\n",
      "\n",
      " Section 1 - Rows\n",
      "\n",
      "  Number  ...Row.. State  ...Activity...  Slack Activity  ..Lower Limit.  ..Upper Limit.  .Dual Activity    ..i\n",
      " \n",
      "     127  r      1    BS          .               .                None            None         -1.0          1\n",
      "     128  r      2 A  EQ         1.00000         0.00000         1.0             1.0              .           2\n",
      "     129  r      3 A  EQ         1.00000         0.00000         1.0             1.0              .           3\n",
      "     130  r      4 A  EQ         1.00000        -0.00000         1.0             1.0              .           4\n",
      "     131  r      5 A  EQ         1.0              .              1.0             1.0              .           5\n",
      "     132  r      6 A  EQ         1.00000         0.00000         1.0             1.0              .           6\n",
      "     133  r      7 A  EQ         1.00000        -0.00000         1.0             1.0              .           7\n",
      "     134  r      8 A  EQ         1.0              .              1.0             1.0              .           8\n",
      "     135  r      9 A  EQ         1.00000        -0.00000         1.0             1.0              .           9\n",
      "     136  r     10 A  EQ         1.00000         0.00000         1.0             1.0              .          10\n",
      "     137  r     11 A  EQ         1.0              .              1.0             1.0              .          11\n",
      "     138  r     12 A  EQ         1.00000        -0.00000         1.0             1.0              .          12\n",
      "     139  r     13 A  EQ         1.0              .              1.0             1.0              .          13\n",
      "     140  r     14 A  EQ         1.00000         0.00000         1.0             1.0              .          14\n",
      "     141  r     15 A  EQ         1.0              .              1.0             1.0              .          15\n",
      "     142  r     16 A  EQ         1.0              .              1.0             1.0              .          16\n",
      "     143  r     17 A  EQ         1.00000        -0.00000         1.0             1.0              .          17\n",
      "     144  r     18 A  EQ         1.00000        -0.00000         1.0             1.0              .          18\n",
      "     145  r     19 A  EQ         1.00000        -0.00000         1.0             1.0              .          19\n",
      "     146  r     20 I  BS          .             -1.0             1.0               None     1.000000E+10     20\n",
      "1\n",
      " \n",
      " Section 2 - Columns\n",
      "\n",
      "  Number  .Column. State  ...Activity...  .Obj Gradient.  ..Lower Limit.  ..Upper Limit.  Reduced Gradnt    m+j\n",
      " \n",
      "       1  x      1    BS         0.90071          .                None            None           .          21\n",
      "       2  x      2 A  FR        -0.02495          .                None            None           .          22\n",
      "       3  x      3 A  FR         0.03798          .                None            None           .          23\n",
      "       4  x      4 A  FR        -0.43203          .                None            None           .          24\n",
      "       5  x      5 A  FR         0.28079          .                None            None           .          25\n",
      "       6  x      6 A  FR         0.18838          .                None            None           .          26\n",
      "       7  x      7 A  FR         0.82713          .                None            None           .          27\n",
      "       8  x      8    BS         0.34272          .                None            None           .          28\n",
      "       9  x      9 A  FR        -0.03617          .                None            None           .          29\n",
      "      10  x     10 A  FR        -0.00394          .                None            None           .          30\n",
      "      11  x     11 A  FR        -0.93873          .                None            None           .          31\n",
      "      12  x     12 A  FR        -0.14427          .                None            None           .          32\n",
      "      13  x     13 A  FR        -0.01226          .                None            None           .          33\n",
      "      14  x     14 A  FR         0.84060          .                None            None           .          34\n",
      "      15  x     15    BS         0.08945          .                None            None           .          35\n",
      "      16  x     16 A  FR         0.02714          .                None            None           .          36\n",
      "      17  x     17 A  FR        -0.02354          .                None            None           .          37\n",
      "      18  x     18 A  FR         0.99534          .                None            None           .          38\n",
      "      19  x     19 A  FR        -0.40503          .                None            None           .          39\n",
      "      20  x     20 A  FR         0.40206          .                None            None           .          40\n",
      "      21  x     21 A  FR         0.83509          .                None            None           .          41\n",
      "      22  x     22    BS         0.93367          .                None            None           .          42\n",
      "      23  x     23 A  FR        -0.02309          .                None            None           .          43\n",
      "      24  x     24 A  FR        -0.00442          .                None            None           .          44\n",
      "      25  x     25 A  FR        -0.35736          .                None            None           .          45\n",
      "      26  x     26 A  FR         0.05426          .                None            None           .          46\n",
      "      27  x     27 A  FR         0.14713          .                None            None           .          47\n",
      "      28  x     28 A  FR         0.83247          .                None            None           .          48\n",
      "      29  x     29    BS         0.99526          .                None            None           .          49\n",
      "      30  x     30 A  FR         0.06175          .                None            None           .          50\n",
      "      31  x     31 A  FR        -0.00830          .                None            None           .          51\n",
      "      32  x     32 A  FR        -0.07465          .                None            None           .          52\n",
      "      33  x     33 A  FR        -0.08524          .                None            None           .          53\n",
      "      34  x     34 A  FR        -0.39432          .                None            None           .          54\n",
      "      35  x     35 A  FR         0.83424          .                None            None           .          55\n",
      "      36  x     36    BS         0.88637          .                None            None           .          56\n",
      "      37  x     37 A  FR         0.00196          .                None            None           .          57\n",
      "      38  x     38 A  FR         0.01727          .                None            None           .          58\n",
      "      39  x     39 A  FR        -0.46264          .                None            None           .          59\n",
      "      40  x     40 A  FR         0.35535          .                None            None           .          60\n",
      "      41  x     41 A  FR         0.41178          .                None            None           .          61\n",
      "      42  x     42 A  FR         0.81518          .                None            None           .          62\n",
      "      43  x     43    BS         0.79093          .                None            None           .          63\n",
      "      44  x     44 A  FR         0.01539          .                None            None           .          64\n",
      "      45  x     45 A  FR         0.00554          .                None            None           .          65\n",
      "      46  x     46 A  FR         0.61168          .                None            None           .          66\n",
      "      47  x     47 A  FR        -0.44569          .                None            None           .          67\n",
      "      48  x     48 A  FR        -0.00353          .                None            None           .          68\n",
      "      49  x     49 A  FR         0.82173          .                None            None           .          69\n",
      "      50  x     50    BS         0.43467          .                None            None           .          70\n",
      "      51  x     51 A  FR        -0.01175          .                None            None           .          71\n",
      "      52  x     52 A  FR         0.00304          .                None            None           .          72\n",
      "      53  x     53 A  FR         0.90051          .                None            None           .          73\n",
      "      54  x     54 A  FR        -0.27765          .                None            None           .          74\n",
      "      55  x     55 A  FR        -0.14345          .                None            None           .          75\n",
      "      56  x     56 A  FR         0.82448          .                None            None           .          76\n",
      "      57  x     57    BS         0.63376          .                None            None           .          77\n",
      "      58  x     58 A  FR         0.03147          .                None            None           .          78\n",
      "      59  x     59 A  FR         0.00876          .                None            None           .          79\n",
      "      60  x     60 A  FR         0.77284          .                None            None           .          80\n",
      "      61  x     61 A  FR         0.46710          .                None            None           .          81\n",
      "      62  x     62 A  FR        -0.03726          .                None            None           .          82\n",
      "      63  x     63 A  FR         0.81542          .                None            None           .          83\n",
      "      64  x     64    BS         0.42550          .                None            None           .          84\n",
      "      65  x     65 A  FR         0.01805          .                None            None           .          85\n",
      "      66  x     66 A  FR         0.00238          .                None            None           .          86\n",
      "      67  x     67 A  FR        -0.90477          .                None            None           .          87\n",
      "      68  x     68 A  FR         0.25484          .                None            None           .          88\n",
      "      69  x     69 A  FR        -0.03650          .                None            None           .          89\n",
      "      70  x     70 A  FR         0.83784          .                None            None           .          90\n",
      "      71  x     71    BS         0.22492          .                None            None           .          91\n",
      "      72  x     72 A  FR         0.02235          .                None            None           .          92\n",
      "      73  x     73 A  FR         0.00994          .                None            None           .          93\n",
      "      74  x     74 A  FR        -0.97407          .                None            None           .          94\n",
      "      75  x     75 A  FR         0.02022          .                None            None           .          95\n",
      "      76  x     76 A  FR         0.47123          .                None            None           .          96\n",
      "      77  x     77 A  FR         0.81000          .                None            None           .          97\n",
      "      78  x     78    BS         0.99815          .                None            None           .          98\n",
      "      79  x     79 A  FR         0.02358          .                None            None           .          99\n",
      "      80  x     80 A  FR         0.04391          .                None            None           .         100\n",
      "      81  x     81 A  FR        -0.03474          .                None            None           .         101\n",
      "      82  x     82 A  FR        -0.11605          .                None            None           .         102\n",
      "      83  x     83 A  FR         0.24589          .                None            None           .         103\n",
      "      84  x     84 A  FR         0.83713          .                None            None           .         104\n",
      "      85  x     85    BS         0.59702          .                None            None           .         105\n",
      "      86  x     86 A  FR         0.00410          .                None            None           .         106\n",
      "      87  x     87 A  FR         0.03444          .                None            None           .         107\n",
      "      88  x     88 A  FR        -0.80148          .                None            None           .         108\n",
      "      89  x     89 A  FR        -0.38841          .                None            None           .         109\n",
      "      90  x     90 A  FR         0.39662          .                None            None           .         110\n",
      "      91  x     91 A  FR         0.94209          .                None            None           .         111\n",
      "      92  x     92    BS         0.59288          .                None            None           .         112\n",
      "      93  x     93 A  FR        -0.01709          .                None            None           .         113\n",
      "      94  x     94 A  FR        -0.02851          .                None            None           .         114\n",
      "      95  x     95 A  FR        -0.80460          .                None            None           .         115\n",
      "      96  x     96 A  FR         0.06340          .                None            None           .         116\n",
      "      97  x     97 A  FR         0.15436          .                None            None           .         117\n",
      "      98  x     98 A  FR         0.94244          .                None            None           .         118\n",
      "      99  x     99    BS         0.71580          .                None            None           .         119\n",
      "     100  x    100 A  FR         0.06357          .                None            None           .         120\n",
      "     101  x    101 A  FR         0.03729          .                None            None           .         121\n",
      "     102  x    102 A  FR        -0.69441          .                None            None           .         122\n",
      "     103  x    103 A  FR        -0.08757          .                None            None           .         123\n",
      "     104  x    104 A  FR        -0.39421          .                None            None           .         124\n",
      "     105  x    105 A  FR         0.94980          .                None            None           .         125\n",
      "     106  x    106    BS         0.89447          .                None            None           .         126\n",
      "     107  x    107 A  FR        -0.03967          .                None            None           .         127\n",
      "     108  x    108 A  FR        -0.01785          .                None            None           .         128\n",
      "     109  x    109 A  FR        -0.44500          .                None            None           .         129\n",
      "     110  x    110 A  FR         0.05634          .                None            None           .         130\n",
      "     111  x    111 A  FR         0.16701          .                None            None           .         131\n",
      "     112  x    112 A  FR         1.03920          .                None            None           .         132\n",
      "     113  x    113    BS         0.88991          .                None            None           .         133\n",
      "     114  x    114 A  FR        -0.03557          .                None            None           .         134\n",
      "     115  x    115 A  FR        -0.01464          .                None            None           .         135\n",
      "     116  x    116 A  FR        -0.45451          .                None            None           .         136\n",
      "     117  x    117 A  FR         0.04661          .                None            None           .         137\n",
      "     118  x    118 A  FR         0.16873          .                None            None           .         138\n",
      "     119  x    119 A  FR         1.13714          .                None            None           .         139\n",
      "     120  x    120    BS         0.71345          .                None            None           .         140\n",
      "     121  x    121 A  FR        -0.02121          .                None            None           .         141\n",
      "     122  x    122 A  FR        -0.03684          .                None            None           .         142\n",
      "     123  x    123 A  FR        -0.69941          .                None            None           .         143\n",
      "     124  x    124 A  FR         0.03507          .                None            None           .         144\n",
      "     125  x    125 A  FR         0.16677          .                None            None           .         145\n",
      "     126  x    126 A  FR         1.23733          .                None            None           .         146\n",
      "\n",
      "Initial trace log prob:  tensor(-22418.7856)\n"
     ]
    },
    {
     "name": "stderr",
     "output_type": "stream",
     "text": [
      "Sample: 100%|██████████| 37/37 [00:33,  1.11it/s, step size=5.12e-04, acc. prob=0.962]\n"
     ]
    }
   ],
   "source": [
    "# Produce dataset by sampling a bunch of environments.\n",
    "# Save grammar state dict\n",
    "#state_dict_file = \"target_dataset_grammar_state_dict.torch\"\n",
    "state_dict_file = \"structure_constraint_dataset_grammar_state_dict.torch\"\n",
    "print(\"Saving state dict to \", state_dict_file)\n",
    "torch.save(grammar.state_dict(), state_dict_file)\n",
    "# Try to collect a target number of examples, and save them out\n",
    "#dataset_save_file = \"target_dataset_examples.pickle\"\n",
    "dataset_save_file = \"structure_constraint_examples.pickle\"\n",
    "N = 20\n",
    "k = 0\n",
    "pbar = tqdm(total=N, desc=\"Samples\")\n",
    "while k < N:\n",
    "    tree, _ = sample_realistic_scene(grammar, constraints)\n",
    "    if tree is not None:\n",
    "        with open(dataset_save_file, \"a+b\") as f:\n",
    "            pickle.dump(tree, f)\n",
    "        k += 1\n",
    "        pbar.update(k)\n",
    "pbar.close()"
   ]
  },
  {
   "cell_type": "code",
   "execution_count": 6,
   "metadata": {},
   "outputs": [
    {
     "name": "stderr",
     "output_type": "stream",
     "text": [
      "WARNING:root:SamePositionRule mismatch (<spatial_scene_grammars_examples.table.grammar.SteamerBottom object at 0x7ff6044cfca0>-><spatial_scene_grammars_examples.table.grammar.Null object at 0x7ff604428af0>): tensor([ 0.4562, -0.2379,  0.7898]) vs tensor([ 0.4555, -0.2381,  0.8375])\n",
      "WARNING:root:SamePositionRule mismatch (<spatial_scene_grammars_examples.table.grammar.SteamerBottom object at 0x7ff6044291e0>-><spatial_scene_grammars_examples.table.grammar.Null object at 0x7ff604428f70>): tensor([0.2332, 0.1947, 1.0192]) vs tensor([0.2427, 0.1857, 1.1018])\n"
     ]
    },
    {
     "name": "stdout",
     "output_type": "stream",
     "text": [
      "tensor([-inf])\n"
     ]
    }
   ],
   "source": [
    "print(tree.score())"
   ]
  },
  {
   "cell_type": "code",
   "execution_count": null,
   "metadata": {},
   "outputs": [],
   "source": []
  },
  {
   "cell_type": "markdown",
   "metadata": {},
   "source": [
    "# Build sample population from various stages of em fitting process"
   ]
  },
  {
   "cell_type": "code",
   "execution_count": 7,
   "metadata": {},
   "outputs": [
    {
     "data": {
      "text/plain": [
       "<All keys matched successfully>"
      ]
     },
     "execution_count": 7,
     "metadata": {},
     "output_type": "execute_result"
    }
   ],
   "source": [
    "fit_grammar = SpatialSceneGrammar(\n",
    "    root_node_type = Table,\n",
    "    root_node_tf = drake_tf_to_torch_tf(RigidTransform(p=[0.0, 0., 0.8]))\n",
    ")\n",
    "constraints = [\n",
    "    ObjectsOnTableConstraint(),\n",
    "    ObjectSpacingConstraint()\n",
    "]\n",
    "#fit_grammar.load_state_dict(torch.load(\"fit_grammar.torch\"))\n",
    "with open(\"fit_em.pickle\", \"rb\") as fp:\n",
    "    em = pickle.load(fp)\n",
    "fit_grammar.load_state_dict(em.grammar_iters[-1])"
   ]
  },
  {
   "cell_type": "code",
   "execution_count": 9,
   "metadata": {},
   "outputs": [
    {
     "name": "stdout",
     "output_type": "stream",
     "text": [
      "Initial trace log prob:  tensor(-21602.9392)\n"
     ]
    },
    {
     "name": "stderr",
     "output_type": "stream",
     "text": [
      "Sample: 100%|██████████| 37/37 [00:33,  1.09it/s, step size=5.55e-04, acc. prob=0.944]\n"
     ]
    }
   ],
   "source": [
    "test_tree, _ = sample_realistic_scene(fit_grammar, constraints, seed=43, skip_physics_constraints=False)\n",
    "if test_tree is not None:\n",
    "    draw_scene_tree_contents_meshcat(test_tree, zmq_url=vis.window.zmq_url,  prefix=\"test_tree/contents\")\n",
    "    draw_scene_tree_structure_meshcat(test_tree, zmq_url=vis.window.zmq_url,  prefix=\"test_tree/structure\")"
   ]
  },
  {
   "cell_type": "code",
   "execution_count": null,
   "metadata": {},
   "outputs": [],
   "source": [
    "# This one saves out the pre-fit examples, and doesn't bother with physics,\n",
    "# since these samples are all over the place. It still does HMC to try to resolve\n",
    "# the basic constraints (for better comparison with post-fit)\n",
    "fit_grammar.load_state_dict(em.grammar_iters[0])\n",
    "state_dict_file = \"pre_fit_grammar_state_dict.torch\"\n",
    "print(\"Saving state dict to \", state_dict_file)\n",
    "torch.save(fit_grammar.state_dict(), state_dict_file)\n",
    "# Try to collect a target number of examples, and save them out\n",
    "dataset_save_file = \"pre_fit_grammar_draws.pickle\"\n",
    "N = 50\n",
    "k = 0\n",
    "pbar = tqdm(total=N, desc=\"Samples\")\n",
    "while k < N:\n",
    "    print(k, N)\n",
    "    _, nonfeasible_tree = sample_realistic_scene(fit_grammar, constraints, skip_physics_constraints=True)\n",
    "    if nonfeasible_tree is not None:\n",
    "        with open(dataset_save_file, \"a+b\") as f:\n",
    "            pickle.dump((None, nonfeasible_tree), f)\n",
    "        k += 1\n",
    "        pbar.update(k)\n",
    "pbar.close()"
   ]
  },
  {
   "cell_type": "code",
   "execution_count": null,
   "metadata": {},
   "outputs": [],
   "source": [
    "# This one saves out the post-fit examples, before and after the physics projection step.\n",
    "fit_grammar.load_state_dict(em.grammar_iters[-1])\n",
    "state_dict_file = \"post_fit_grammar_state_dict.torch\"\n",
    "print(\"Saving state dict to \", state_dict_file)\n",
    "torch.save(fit_grammar.state_dict(), state_dict_file)\n",
    "# Try to collect a target number of examples, and save them out\n",
    "dataset_save_file = \"post_fit_grammar_draws.pickle\"\n",
    "N = 50\n",
    "k = 0\n",
    "pbar = tqdm(total=N, desc=\"Samples\")\n",
    "while k < N:\n",
    "    feasible_tree, nonfeasible_tree = sample_realistic_scene(fit_grammar, constraints, skip_physics_constraints=False)\n",
    "    if feasible_tree is not None:\n",
    "        with open(dataset_save_file, \"a+b\") as f:\n",
    "            pickle.dump((feasible_tree, nonfeasible_tree), f)\n",
    "        k = k + 1\n",
    "        pbar.update(k)\n",
    "pbar.close()"
   ]
  },
  {
   "cell_type": "markdown",
   "metadata": {},
   "source": [
    "# Same thing, but baseline grammar"
   ]
  },
  {
   "cell_type": "code",
   "execution_count": null,
   "metadata": {},
   "outputs": [
    {
     "data": {
      "text/plain": [
       "<All keys matched successfully>"
      ]
     },
     "execution_count": 10,
     "metadata": {},
     "output_type": "execute_result"
    }
   ],
   "source": [
    "from spatial_scene_grammars_examples.table.grammar_baseline import *\n",
    "\n",
    "fit_grammar = SpatialSceneGrammar(\n",
    "    root_node_type = TableBaseline,\n",
    "    root_node_tf = drake_tf_to_torch_tf(RigidTransform(p=[0.0, 0., 0.8]))\n",
    ")\n",
    "constraints = [\n",
    "    ObjectsOnTableConstraintBaseline(),\n",
    "    ObjectSpacingConstraintBaseline()\n",
    "]\n",
    "#fit_grammar.load_state_dict(torch.load(\"fit_grammar.torch\"))\n",
    "with open(\"fit_em_baseline.pickle\", \"rb\") as fp:\n",
    "    em = pickle.load(fp)\n",
    "fit_grammar.load_state_dict(em.grammar_iters[-1])"
   ]
  },
  {
   "cell_type": "code",
   "execution_count": null,
   "metadata": {},
   "outputs": [
    {
     "name": "stdout",
     "output_type": "stream",
     "text": [
      "Initial trace log prob:  tensor(-18354.6738)\n",
      "Connecting to meshcat-server at zmq_url=tcp://127.0.0.1:6001...\n",
      "You can open the visualizer by visiting the following URL:\n",
      "http://127.0.0.1:7001/static/\n",
      "Connected to meshcat-server.\n"
     ]
    },
    {
     "name": "stderr",
     "output_type": "stream",
     "text": [
      "Sample: 100%|██████████| 37/37 [01:06,  1.81s/it, step size=6.44e-04, acc. prob=0.923]\n"
     ]
    }
   ],
   "source": [
    "test_tree, _ = sample_realistic_scene(fit_grammar, constraints, seed=43, skip_physics_constraints=False)\n",
    "if test_tree is not None:\n",
    "    draw_scene_tree_contents_meshcat(test_tree, zmq_url=vis.window.zmq_url,  prefix=\"test_tree/contents\")\n",
    "    draw_scene_tree_structure_meshcat(test_tree, zmq_url=vis.window.zmq_url,  prefix=\"test_tree/structure\")"
   ]
  },
  {
   "cell_type": "code",
   "execution_count": null,
   "metadata": {},
   "outputs": [
    {
     "name": "stdout",
     "output_type": "stream",
     "text": [
      "Saving state dict to  baseline_pre_fit_grammar_state_dict.torch\n"
     ]
    },
    {
     "data": {
      "application/vnd.jupyter.widget-view+json": {
       "model_id": "2e2f1763811e42d19f1817304d87fd9b",
       "version_major": 2,
       "version_minor": 0
      },
      "text/plain": [
       "Samples:   0%|          | 0/30 [00:00<?, ?it/s]"
      ]
     },
     "metadata": {},
     "output_type": "display_data"
    },
    {
     "name": "stdout",
     "output_type": "stream",
     "text": [
      "0 30\n",
      "Initial trace log prob:  tensor(-6560784.8161)\n"
     ]
    },
    {
     "name": "stderr",
     "output_type": "stream",
     "text": [
      "\r\n",
      "Warmup:   0%|          | 0/37 [00:00, ?it/s]"
     ]
    },
    {
     "name": "stdout",
     "output_type": "stream",
     "text": [
      "Connecting to meshcat-server at zmq_url=tcp://127.0.0.1:6001...\n",
      "You can open the visualizer by visiting the following URL:\n",
      "http://127.0.0.1:7001/static/\n",
      "Connected to meshcat-server.\n"
     ]
    },
    {
     "name": "stderr",
     "output_type": "stream",
     "text": [
      "Sample: 100%|██████████| 37/37 [00:17,  2.08it/s, step size=3.03e-03, acc. prob=0.754]\n",
      "Warmup:  32%|███▏      | 12/37 [19:58:36, 5993.08s/it, step size=8.08e-04, acc. prob=0.724]\n"
     ]
    },
    {
     "name": "stdout",
     "output_type": "stream",
     "text": [
      "1 30\n",
      "Initial trace log prob:  tensor(-39563702.5844)\n",
      "Connecting to meshcat-server at zmq_url=tcp://127.0.0.1:6001...\n",
      "You can open the visualizer by visiting the following URL:\n",
      "http://127.0.0.1:7001/static/\n",
      "Connected to meshcat-server.\n"
     ]
    },
    {
     "name": "stderr",
     "output_type": "stream",
     "text": [
      "Sample: 100%|██████████| 37/37 [00:49,  1.34s/it, step size=1.16e-03, acc. prob=0.862]\n"
     ]
    },
    {
     "name": "stdout",
     "output_type": "stream",
     "text": [
      "2 30\n",
      "Initial trace log prob:  tensor(-34584130.0216)\n",
      "Connecting to meshcat-server at zmq_url=tcp://127.0.0.1:6001...\n",
      "You can open the visualizer by visiting the following URL:\n",
      "http://127.0.0.1:7001/static/\n",
      "Connected to meshcat-server.\n"
     ]
    },
    {
     "name": "stderr",
     "output_type": "stream",
     "text": [
      "Sample: 100%|██████████| 37/37 [00:38,  1.04s/it, step size=7.11e-04, acc. prob=0.972]\n"
     ]
    },
    {
     "name": "stdout",
     "output_type": "stream",
     "text": [
      "3 30\n",
      "Initial trace log prob:  tensor(-4096797.4305)\n"
     ]
    },
    {
     "name": "stderr",
     "output_type": "stream",
     "text": [
      "\r\n",
      "Warmup:   0%|          | 0/37 [00:00, ?it/s]"
     ]
    },
    {
     "name": "stdout",
     "output_type": "stream",
     "text": [
      "Connecting to meshcat-server at zmq_url=tcp://127.0.0.1:6001...\n",
      "You can open the visualizer by visiting the following URL:\n",
      "http://127.0.0.1:7001/static/\n",
      "Connected to meshcat-server.\n"
     ]
    },
    {
     "name": "stderr",
     "output_type": "stream",
     "text": [
      "Sample: 100%|██████████| 37/37 [00:18,  2.01it/s, step size=1.34e-03, acc. prob=0.991]\n"
     ]
    },
    {
     "name": "stdout",
     "output_type": "stream",
     "text": [
      "4 30\n",
      "Initial trace log prob:  tensor(-31335290.5514)\n",
      "Connecting to meshcat-server at zmq_url=tcp://127.0.0.1:6001...\n",
      "You can open the visualizer by visiting the following URL:\n",
      "http://127.0.0.1:7001/static/\n",
      "Connected to meshcat-server.\n"
     ]
    },
    {
     "name": "stderr",
     "output_type": "stream",
     "text": [
      "Sample: 100%|██████████| 37/37 [00:47,  1.29s/it, step size=1.06e-03, acc. prob=0.906]\n"
     ]
    },
    {
     "name": "stdout",
     "output_type": "stream",
     "text": [
      "5 30\n",
      "Initial trace log prob:  tensor(-91715804.1372)\n",
      "Connecting to meshcat-server at zmq_url=tcp://127.0.0.1:6001...\n",
      "You can open the visualizer by visiting the following URL:\n",
      "http://127.0.0.1:7001/static/\n",
      "Connected to meshcat-server.\n"
     ]
    },
    {
     "name": "stderr",
     "output_type": "stream",
     "text": [
      "Sample: 100%|██████████| 37/37 [01:33,  2.53s/it, step size=5.28e-04, acc. prob=0.975]\n"
     ]
    },
    {
     "name": "stdout",
     "output_type": "stream",
     "text": [
      "6 30\n",
      "Initial trace log prob:  tensor(-49457115.3701)\n",
      "Connecting to meshcat-server at zmq_url=tcp://127.0.0.1:6001...\n",
      "You can open the visualizer by visiting the following URL:\n",
      "http://127.0.0.1:7001/static/\n",
      "Connected to meshcat-server.\n"
     ]
    },
    {
     "name": "stderr",
     "output_type": "stream",
     "text": [
      "Sample: 100%|██████████| 37/37 [00:51,  1.39s/it, step size=6.62e-04, acc. prob=0.949]\n"
     ]
    },
    {
     "name": "stdout",
     "output_type": "stream",
     "text": [
      "7 30\n",
      "Initial trace log prob:  tensor(-28050409.7256)\n",
      "Connecting to meshcat-server at zmq_url=tcp://127.0.0.1:6001...\n",
      "You can open the visualizer by visiting the following URL:\n",
      "http://127.0.0.1:7001/static/\n",
      "Connected to meshcat-server.\n"
     ]
    },
    {
     "name": "stderr",
     "output_type": "stream",
     "text": [
      "Sample: 100%|██████████| 37/37 [00:33,  1.09it/s, step size=8.34e-04, acc. prob=0.984]\n"
     ]
    },
    {
     "name": "stdout",
     "output_type": "stream",
     "text": [
      "8 30\n",
      "Initial trace log prob:  tensor(-14908753.8839)\n"
     ]
    },
    {
     "name": "stderr",
     "output_type": "stream",
     "text": [
      "\r\n",
      "Warmup:   0%|          | 0/37 [00:00, ?it/s]"
     ]
    },
    {
     "name": "stdout",
     "output_type": "stream",
     "text": [
      "Connecting to meshcat-server at zmq_url=tcp://127.0.0.1:6001...\n",
      "You can open the visualizer by visiting the following URL:\n",
      "http://127.0.0.1:7001/static/\n",
      "Connected to meshcat-server.\n"
     ]
    },
    {
     "name": "stderr",
     "output_type": "stream",
     "text": [
      "Sample: 100%|██████████| 37/37 [00:27,  1.34it/s, step size=1.62e-03, acc. prob=0.880]\n",
      "Warmup:   5%|▌         | 2/37 [00:00, 17.55it/s, step size=1.00e+00, acc. prob=1.000]"
     ]
    },
    {
     "name": "stdout",
     "output_type": "stream",
     "text": [
      "9 30\n",
      "no objects\n",
      "Initial trace log prob:  tensor(0.)\n",
      "Connecting to meshcat-server at zmq_url=tcp://127.0.0.1:6001...\n",
      "You can open the visualizer by visiting the following URL:\n",
      "http://127.0.0.1:7001/static/\n",
      "Connected to meshcat-server.\n",
      "no objects\n",
      "no objects\n",
      "no objects\n"
     ]
    },
    {
     "name": "stderr",
     "output_type": "stream",
     "text": [
      "Sample: 100%|██████████| 37/37 [00:04,  9.12it/s, step size=1.00e+00, acc. prob=1.000]\n"
     ]
    },
    {
     "name": "stdout",
     "output_type": "stream",
     "text": [
      "no objects\n",
      "no objects\n",
      "no objects\n",
      "no objects\n",
      "no objects\n",
      "no objects\n",
      "no objects\n",
      "no objects\n",
      "no objects\n",
      "no objects\n",
      "no objects\n",
      "no objects\n",
      "no objects\n",
      "no objects\n",
      "no objects\n",
      "no objects\n",
      "no objects\n",
      "no objects\n",
      "no objects\n",
      "no objects\n",
      "no objects\n",
      "no objects\n",
      "no objects\n",
      "no objects\n",
      "no objects\n",
      "no objects\n",
      "10 30\n",
      "Initial trace log prob:  tensor(-6946781.5049)\n"
     ]
    },
    {
     "name": "stderr",
     "output_type": "stream",
     "text": [
      "\r\n",
      "Warmup:   0%|          | 0/37 [00:00, ?it/s]"
     ]
    },
    {
     "name": "stdout",
     "output_type": "stream",
     "text": [
      "Connecting to meshcat-server at zmq_url=tcp://127.0.0.1:6001...\n",
      "You can open the visualizer by visiting the following URL:\n",
      "http://127.0.0.1:7001/static/\n",
      "Connected to meshcat-server.\n"
     ]
    },
    {
     "name": "stderr",
     "output_type": "stream",
     "text": [
      "Sample: 100%|██████████| 37/37 [00:19,  1.91it/s, step size=1.46e-03, acc. prob=0.929]\n"
     ]
    },
    {
     "name": "stdout",
     "output_type": "stream",
     "text": [
      "11 30\n",
      "Initial trace log prob:  tensor(-46436241.8441)\n",
      "Connecting to meshcat-server at zmq_url=tcp://127.0.0.1:6001...\n",
      "You can open the visualizer by visiting the following URL:\n",
      "http://127.0.0.1:7001/static/\n",
      "Connected to meshcat-server.\n"
     ]
    },
    {
     "name": "stderr",
     "output_type": "stream",
     "text": [
      "Sample: 100%|██████████| 37/37 [00:39,  1.07s/it, step size=7.48e-04, acc. prob=0.966]\n"
     ]
    },
    {
     "name": "stdout",
     "output_type": "stream",
     "text": [
      "12 30\n",
      "Initial trace log prob:  tensor(-87351065.9127)\n",
      "Connecting to meshcat-server at zmq_url=tcp://127.0.0.1:6001...\n",
      "You can open the visualizer by visiting the following URL:\n",
      "http://127.0.0.1:7001/static/\n",
      "Connected to meshcat-server.\n"
     ]
    },
    {
     "name": "stderr",
     "output_type": "stream",
     "text": [
      "Sample: 100%|██████████| 37/37 [01:04,  1.74s/it, step size=8.11e-04, acc. prob=0.944]\n"
     ]
    },
    {
     "name": "stdout",
     "output_type": "stream",
     "text": [
      "13 30\n",
      "Initial trace log prob:  tensor(-98999066.8006)\n",
      "Connecting to meshcat-server at zmq_url=tcp://127.0.0.1:6001...\n",
      "You can open the visualizer by visiting the following URL:\n",
      "http://127.0.0.1:7001/static/\n",
      "Connected to meshcat-server.\n"
     ]
    },
    {
     "name": "stderr",
     "output_type": "stream",
     "text": [
      "Sample: 100%|██████████| 37/37 [01:01,  1.66s/it, step size=8.05e-04, acc. prob=0.882]\n"
     ]
    },
    {
     "name": "stdout",
     "output_type": "stream",
     "text": [
      "14 30\n",
      "Initial trace log prob:  tensor(-41129023.1125)\n",
      "Connecting to meshcat-server at zmq_url=tcp://127.0.0.1:6001...\n",
      "You can open the visualizer by visiting the following URL:\n",
      "http://127.0.0.1:7001/static/\n",
      "Connected to meshcat-server.\n"
     ]
    },
    {
     "name": "stderr",
     "output_type": "stream",
     "text": [
      "Sample: 100%|██████████| 37/37 [00:36,  1.01it/s, step size=1.14e-03, acc. prob=0.958]\n"
     ]
    },
    {
     "name": "stdout",
     "output_type": "stream",
     "text": [
      "15 30\n",
      "Initial trace log prob:  tensor(-47726029.0007)\n",
      "Connecting to meshcat-server at zmq_url=tcp://127.0.0.1:6001...\n",
      "You can open the visualizer by visiting the following URL:\n",
      "http://127.0.0.1:7001/static/\n",
      "Connected to meshcat-server.\n"
     ]
    },
    {
     "name": "stderr",
     "output_type": "stream",
     "text": [
      "Sample: 100%|██████████| 37/37 [00:42,  1.15s/it, step size=1.00e-03, acc. prob=0.981]\n"
     ]
    },
    {
     "name": "stdout",
     "output_type": "stream",
     "text": [
      "16 30\n",
      "Initial trace log prob:  tensor(-21206715.7016)\n"
     ]
    },
    {
     "name": "stderr",
     "output_type": "stream",
     "text": [
      "\r\n",
      "Warmup:   0%|          | 0/37 [00:00, ?it/s]"
     ]
    },
    {
     "name": "stdout",
     "output_type": "stream",
     "text": [
      "Connecting to meshcat-server at zmq_url=tcp://127.0.0.1:6001...\n",
      "You can open the visualizer by visiting the following URL:\n",
      "http://127.0.0.1:7001/static/\n",
      "Connected to meshcat-server.\n"
     ]
    },
    {
     "name": "stderr",
     "output_type": "stream",
     "text": [
      "Sample: 100%|██████████| 37/37 [00:26,  1.38it/s, step size=1.16e-03, acc. prob=0.947]\n"
     ]
    },
    {
     "name": "stdout",
     "output_type": "stream",
     "text": [
      "17 30\n",
      "Initial trace log prob:  tensor(-24310137.3803)\n",
      "Connecting to meshcat-server at zmq_url=tcp://127.0.0.1:6001...\n",
      "You can open the visualizer by visiting the following URL:\n",
      "http://127.0.0.1:7001/static/\n",
      "Connected to meshcat-server.\n"
     ]
    },
    {
     "name": "stderr",
     "output_type": "stream",
     "text": [
      "Sample: 100%|██████████| 37/37 [00:39,  1.06s/it, step size=9.79e-04, acc. prob=0.985]\n"
     ]
    },
    {
     "name": "stdout",
     "output_type": "stream",
     "text": [
      "18 30\n",
      "Initial trace log prob:  tensor(-29550215.5866)\n",
      "Connecting to meshcat-server at zmq_url=tcp://127.0.0.1:6001...\n",
      "You can open the visualizer by visiting the following URL:\n",
      "http://127.0.0.1:7001/static/\n",
      "Connected to meshcat-server.\n"
     ]
    },
    {
     "name": "stderr",
     "output_type": "stream",
     "text": [
      "Sample: 100%|██████████| 37/37 [00:44,  1.20s/it, step size=9.21e-04, acc. prob=0.933]\n"
     ]
    },
    {
     "name": "stdout",
     "output_type": "stream",
     "text": [
      "19 30\n",
      "Initial trace log prob:  tensor(-65440902.7069)\n",
      "Connecting to meshcat-server at zmq_url=tcp://127.0.0.1:6001...\n",
      "You can open the visualizer by visiting the following URL:\n",
      "http://127.0.0.1:7001/static/\n",
      "Connected to meshcat-server.\n"
     ]
    },
    {
     "name": "stderr",
     "output_type": "stream",
     "text": [
      "Sample: 100%|██████████| 37/37 [00:57,  1.56s/it, step size=8.67e-04, acc. prob=0.967]\n"
     ]
    },
    {
     "name": "stdout",
     "output_type": "stream",
     "text": [
      "20 30\n",
      "Initial trace log prob:  tensor(-16603260.9372)\n",
      "Connecting to meshcat-server at zmq_url=tcp://127.0.0.1:6001...\n",
      "You can open the visualizer by visiting the following URL:\n",
      "http://127.0.0.1:7001/static/\n",
      "Connected to meshcat-server.\n"
     ]
    },
    {
     "name": "stderr",
     "output_type": "stream",
     "text": [
      "Sample: 100%|██████████| 37/37 [00:33,  1.12it/s, step size=1.65e-03, acc. prob=0.893]\n"
     ]
    },
    {
     "name": "stdout",
     "output_type": "stream",
     "text": [
      "21 30\n",
      "Initial trace log prob:  tensor(-27221020.8868)\n",
      "Connecting to meshcat-server at zmq_url=tcp://127.0.0.1:6001...\n",
      "You can open the visualizer by visiting the following URL:\n",
      "http://127.0.0.1:7001/static/\n",
      "Connected to meshcat-server.\n"
     ]
    },
    {
     "name": "stderr",
     "output_type": "stream",
     "text": [
      "Sample: 100%|██████████| 37/37 [00:36,  1.01it/s, step size=9.95e-04, acc. prob=0.964]\n",
      "Warmup:   5%|▌         | 2/37 [00:00, 18.04it/s, step size=1.00e+00, acc. prob=1.000]"
     ]
    },
    {
     "name": "stdout",
     "output_type": "stream",
     "text": [
      "22 30\n",
      "no objects\n",
      "Initial trace log prob:  tensor(0.)\n",
      "Connecting to meshcat-server at zmq_url=tcp://127.0.0.1:6001...\n",
      "You can open the visualizer by visiting the following URL:\n",
      "http://127.0.0.1:7001/static/\n",
      "Connected to meshcat-server.\n",
      "no objects\n",
      "no objects\n",
      "no objects\n"
     ]
    },
    {
     "name": "stderr",
     "output_type": "stream",
     "text": [
      "Sample: 100%|██████████| 37/37 [00:04,  8.97it/s, step size=1.00e+00, acc. prob=1.000]\n"
     ]
    },
    {
     "name": "stdout",
     "output_type": "stream",
     "text": [
      "no objects\n",
      "no objects\n",
      "no objects\n",
      "no objects\n",
      "no objects\n",
      "no objects\n",
      "no objects\n",
      "no objects\n",
      "no objects\n",
      "no objects\n",
      "no objects\n",
      "no objects\n",
      "no objects\n",
      "no objects\n",
      "no objects\n",
      "no objects\n",
      "no objects\n",
      "no objects\n",
      "no objects\n",
      "no objects\n",
      "no objects\n",
      "no objects\n",
      "no objects\n",
      "no objects\n",
      "no objects\n",
      "no objects\n",
      "23 30\n",
      "Initial trace log prob:  tensor(-69256087.8824)\n"
     ]
    },
    {
     "name": "stderr",
     "output_type": "stream",
     "text": [
      "\r\n",
      "Warmup:   0%|          | 0/37 [00:00, ?it/s]"
     ]
    },
    {
     "name": "stdout",
     "output_type": "stream",
     "text": [
      "Connecting to meshcat-server at zmq_url=tcp://127.0.0.1:6001...\n",
      "You can open the visualizer by visiting the following URL:\n",
      "http://127.0.0.1:7001/static/\n",
      "Connected to meshcat-server.\n"
     ]
    },
    {
     "name": "stderr",
     "output_type": "stream",
     "text": [
      "Sample: 100%|██████████| 37/37 [00:40,  1.09s/it, step size=8.68e-04, acc. prob=0.958]\n"
     ]
    },
    {
     "name": "stdout",
     "output_type": "stream",
     "text": [
      "24 30\n",
      "Initial trace log prob:  tensor(-32578757.3392)\n"
     ]
    },
    {
     "name": "stderr",
     "output_type": "stream",
     "text": [
      "\r\n",
      "Warmup:   0%|          | 0/37 [00:00, ?it/s]"
     ]
    },
    {
     "name": "stdout",
     "output_type": "stream",
     "text": [
      "Connecting to meshcat-server at zmq_url=tcp://127.0.0.1:6001...\n",
      "You can open the visualizer by visiting the following URL:\n",
      "http://127.0.0.1:7001/static/\n",
      "Connected to meshcat-server.\n"
     ]
    },
    {
     "name": "stderr",
     "output_type": "stream",
     "text": [
      "Sample: 100%|██████████| 37/37 [00:32,  1.15it/s, step size=6.36e-04, acc. prob=0.983]\n"
     ]
    },
    {
     "name": "stdout",
     "output_type": "stream",
     "text": [
      "25 30\n",
      "Initial trace log prob:  tensor(-23124387.7753)\n",
      "Connecting to meshcat-server at zmq_url=tcp://127.0.0.1:6001...\n",
      "You can open the visualizer by visiting the following URL:\n",
      "http://127.0.0.1:7001/static/\n",
      "Connected to meshcat-server.\n"
     ]
    },
    {
     "name": "stderr",
     "output_type": "stream",
     "text": [
      "Sample: 100%|██████████| 37/37 [00:27,  1.36it/s, step size=1.74e-03, acc. prob=0.744]\n"
     ]
    },
    {
     "name": "stdout",
     "output_type": "stream",
     "text": [
      "26 30\n",
      "Initial trace log prob:  tensor(-39960720.7072)\n",
      "Connecting to meshcat-server at zmq_url=tcp://127.0.0.1:6001...\n",
      "You can open the visualizer by visiting the following URL:\n",
      "http://127.0.0.1:7001/static/\n",
      "Connected to meshcat-server.\n"
     ]
    },
    {
     "name": "stderr",
     "output_type": "stream",
     "text": [
      "Sample: 100%|██████████| 37/37 [00:44,  1.22s/it, step size=1.25e-03, acc. prob=0.912]\n",
      "Warmup:   0%|          | 0/37 [00:00, ?it/s]"
     ]
    },
    {
     "name": "stdout",
     "output_type": "stream",
     "text": [
      "27 30\n",
      "no objects\n",
      "Initial trace log prob:  tensor(-3967822.5440)\n",
      "Connecting to meshcat-server at zmq_url=tcp://127.0.0.1:6001...\n",
      "You can open the visualizer by visiting the following URL:\n",
      "http://127.0.0.1:7001/static/\n",
      "Connected to meshcat-server.\n",
      "no objects\n",
      "no objects\n",
      "no objects\n",
      "no objects\n",
      "no objects\n",
      "no objects\n",
      "no objects\n"
     ]
    },
    {
     "name": "stderr",
     "output_type": "stream",
     "text": [
      "\r\n",
      "Warmup:   3%|▎         | 1/37 [00:00,  8.17it/s, step size=2.81e-02, acc. prob=1.000]"
     ]
    },
    {
     "name": "stdout",
     "output_type": "stream",
     "text": [
      "no objects\n",
      "no objects\n",
      "no objects\n",
      "no objects\n",
      "no objects\n",
      "no objects\n",
      "no objects\n",
      "no objects\n",
      "no objects\n",
      "no objects\n",
      "no objects\n",
      "no objects\n",
      "no objects\n",
      "no objects\n",
      "no objects\n",
      "no objects\n",
      "no objects\n",
      "no objects\n",
      "no objects\n"
     ]
    },
    {
     "name": "stderr",
     "output_type": "stream",
     "text": [
      "Warmup:   8%|▊         | 3/37 [00:00,  8.37it/s, step size=4.68e-04, acc. prob=0.333]"
     ]
    },
    {
     "name": "stdout",
     "output_type": "stream",
     "text": [
      "no objects\n",
      "no objects\n"
     ]
    },
    {
     "name": "stderr",
     "output_type": "stream",
     "text": [
      "Warmup:  14%|█▎        | 5/37 [00:00,  8.33it/s, step size=9.91e-04, acc. prob=0.600]"
     ]
    },
    {
     "name": "stdout",
     "output_type": "stream",
     "text": [
      "no objects\n",
      "no objects\n"
     ]
    },
    {
     "name": "stderr",
     "output_type": "stream",
     "text": [
      "Warmup:  19%|█▉        | 7/37 [00:00,  8.36it/s, step size=3.02e-03, acc. prob=0.714]"
     ]
    },
    {
     "name": "stdout",
     "output_type": "stream",
     "text": [
      "no objects\n",
      "no objects\n",
      "no objects\n",
      "no objects\n",
      "no objects\n",
      "no objects\n",
      "no objects\n",
      "no objects\n",
      "no objects\n",
      "no objects\n",
      "no objects\n",
      "no objects\n",
      "no objects\n",
      "no objects\n",
      "no objects\n",
      "no objects\n",
      "no objects\n",
      "no objects\n",
      "no objects\n",
      "no objects\n",
      "no objects\n",
      "no objects\n",
      "no objects\n",
      "no objects\n",
      "no objects\n",
      "no objects\n",
      "no objects\n",
      "no objects\n",
      "no objects\n",
      "no objects\n",
      "no objects\n",
      "no objects\n",
      "no objects\n",
      "no objects\n",
      "no objects\n",
      "no objects\n",
      "no objects\n",
      "no objects\n",
      "no objects\n",
      "no objects\n",
      "no objects\n",
      "no objects\n",
      "no objects\n",
      "no objects\n",
      "no objects\n",
      "no objects\n"
     ]
    },
    {
     "name": "stderr",
     "output_type": "stream",
     "text": [
      "\r\n",
      "Warmup:  22%|██▏       | 8/37 [00:01,  4.76it/s, step size=5.56e-03, acc. prob=0.750]"
     ]
    },
    {
     "name": "stdout",
     "output_type": "stream",
     "text": [
      "no objects\n",
      "no objects\n",
      "no objects\n",
      "no objects\n",
      "no objects\n",
      "no objects\n",
      "no objects\n",
      "no objects\n",
      "no objects\n",
      "no objects\n",
      "no objects\n",
      "no objects\n",
      "no objects\n",
      "no objects\n",
      "no objects\n",
      "no objects\n",
      "no objects\n",
      "no objects\n",
      "no objects\n",
      "no objects\n",
      "no objects\n",
      "no objects\n",
      "no objects\n",
      "no objects\n",
      "no objects\n",
      "no objects\n",
      "no objects\n",
      "no objects\n",
      "no objects\n",
      "no objects\n",
      "no objects\n",
      "no objects\n",
      "no objects\n",
      "no objects\n",
      "no objects\n",
      "no objects\n",
      "no objects\n",
      "no objects\n",
      "no objects\n",
      "no objects\n",
      "no objects\n",
      "no objects\n",
      "no objects\n",
      "no objects\n",
      "no objects\n",
      "no objects\n",
      "no objects\n",
      "no objects\n",
      "no objects\n",
      "no objects\n",
      "no objects\n",
      "no objects\n",
      "no objects\n",
      "no objects\n",
      "no objects\n",
      "no objects\n",
      "no objects\n",
      "no objects\n",
      "no objects\n",
      "no objects\n",
      "no objects\n",
      "no objects\n",
      "no objects\n",
      "no objects\n",
      "no objects\n"
     ]
    },
    {
     "name": "stderr",
     "output_type": "stream",
     "text": [
      "\r\n",
      "Warmup:  24%|██▍       | 9/37 [00:01,  3.70it/s, step size=4.66e-03, acc. prob=0.750]"
     ]
    },
    {
     "name": "stdout",
     "output_type": "stream",
     "text": [
      "no objects\n",
      "no objects\n",
      "no objects\n",
      "no objects\n",
      "no objects\n",
      "no objects\n",
      "no objects\n",
      "no objects\n",
      "no objects\n",
      "no objects\n",
      "no objects\n",
      "no objects\n",
      "no objects\n",
      "no objects\n",
      "no objects\n",
      "no objects\n",
      "no objects\n",
      "no objects\n",
      "no objects\n"
     ]
    },
    {
     "name": "stderr",
     "output_type": "stream",
     "text": [
      "\r\n",
      "Warmup:  27%|██▋       | 10/37 [00:01,  3.55it/s, step size=9.58e-04, acc. prob=0.705]"
     ]
    },
    {
     "name": "stdout",
     "output_type": "stream",
     "text": [
      "no objects\n",
      "no objects\n",
      "no objects\n",
      "no objects\n",
      "no objects\n",
      "no objects\n",
      "no objects\n",
      "no objects\n",
      "no objects\n",
      "no objects\n",
      "no objects\n",
      "no objects\n",
      "no objects\n",
      "no objects\n",
      "no objects\n",
      "no objects\n",
      "no objects\n",
      "no objects\n",
      "no objects\n",
      "no objects\n",
      "no objects\n",
      "no objects\n",
      "no objects\n",
      "no objects\n",
      "no objects\n",
      "no objects\n",
      "no objects\n",
      "no objects\n",
      "no objects\n",
      "no objects\n",
      "no objects\n",
      "no objects\n",
      "no objects\n",
      "no objects\n",
      "no objects\n",
      "no objects\n",
      "no objects\n",
      "no objects\n",
      "no objects\n",
      "no objects\n",
      "no objects\n",
      "no objects\n",
      "no objects\n",
      "no objects\n",
      "no objects\n",
      "no objects\n",
      "no objects\n",
      "no objects\n",
      "no objects\n",
      "no objects\n",
      "no objects\n",
      "no objects\n",
      "no objects\n",
      "no objects\n",
      "no objects\n",
      "no objects\n",
      "no objects\n",
      "no objects\n",
      "no objects\n",
      "no objects\n",
      "no objects\n",
      "no objects\n",
      "no objects\n",
      "no objects\n",
      "no objects\n",
      "no objects\n",
      "no objects\n",
      "no objects\n",
      "no objects\n",
      "no objects\n",
      "no objects\n",
      "no objects\n",
      "no objects\n",
      "no objects\n",
      "no objects\n",
      "no objects\n",
      "no objects\n",
      "no objects\n",
      "no objects\n",
      "no objects\n",
      "no objects\n"
     ]
    },
    {
     "name": "stderr",
     "output_type": "stream",
     "text": [
      "\r\n",
      "Warmup:  30%|██▉       | 11/37 [00:02,  3.11it/s, step size=2.08e-03, acc. prob=0.731]"
     ]
    },
    {
     "name": "stdout",
     "output_type": "stream",
     "text": [
      "no objects\n",
      "no objects\n",
      "no objects\n",
      "no objects\n",
      "no objects\n",
      "no objects\n",
      "no objects\n",
      "no objects\n",
      "no objects\n",
      "no objects\n",
      "no objects\n",
      "no objects\n",
      "no objects\n",
      "no objects\n",
      "no objects\n",
      "no objects\n",
      "no objects\n",
      "no objects\n",
      "no objects\n",
      "no objects\n",
      "no objects\n",
      "no objects\n",
      "no objects\n",
      "no objects\n",
      "no objects\n",
      "no objects\n",
      "no objects\n",
      "no objects\n",
      "no objects\n",
      "no objects\n",
      "no objects\n",
      "no objects\n",
      "no objects\n",
      "no objects\n",
      "no objects\n",
      "no objects\n",
      "no objects\n",
      "no objects\n",
      "no objects\n",
      "no objects\n",
      "no objects\n",
      "no objects\n",
      "no objects\n",
      "no objects\n",
      "no objects\n",
      "no objects\n",
      "no objects\n",
      "no objects\n",
      "no objects\n",
      "no objects\n",
      "no objects\n",
      "no objects\n",
      "no objects\n",
      "no objects\n",
      "no objects\n",
      "no objects\n",
      "no objects\n",
      "no objects\n",
      "no objects\n",
      "no objects\n",
      "no objects\n",
      "no objects\n",
      "no objects\n"
     ]
    },
    {
     "name": "stderr",
     "output_type": "stream",
     "text": [
      "\r\n",
      "Warmup:  32%|███▏      | 12/37 [00:02,  2.89it/s, step size=2.08e-03, acc. prob=0.676]"
     ]
    },
    {
     "name": "stdout",
     "output_type": "stream",
     "text": [
      "no objects\n",
      "no objects\n",
      "no objects\n",
      "no objects\n",
      "no objects\n",
      "no objects\n",
      "no objects\n",
      "no objects\n",
      "no objects\n",
      "no objects\n",
      "no objects\n",
      "no objects\n",
      "no objects\n",
      "no objects\n",
      "no objects\n",
      "no objects\n",
      "no objects\n",
      "no objects\n",
      "no objects\n",
      "no objects\n",
      "no objects\n",
      "no objects\n",
      "no objects\n",
      "no objects\n",
      "no objects\n",
      "no objects\n",
      "no objects\n",
      "no objects\n",
      "no objects\n",
      "no objects\n",
      "no objects\n",
      "no objects\n",
      "no objects\n",
      "no objects\n",
      "no objects\n",
      "no objects\n",
      "no objects\n",
      "no objects\n",
      "no objects\n",
      "no objects\n",
      "no objects\n",
      "no objects\n",
      "no objects\n",
      "no objects\n",
      "no objects\n",
      "no objects\n",
      "no objects\n",
      "no objects\n",
      "no objects\n",
      "no objects\n",
      "no objects\n",
      "no objects\n",
      "no objects\n",
      "no objects\n",
      "no objects\n",
      "no objects\n",
      "no objects\n",
      "no objects\n",
      "no objects\n",
      "no objects\n",
      "no objects\n",
      "no objects\n",
      "no objects\n",
      "no objects\n",
      "no objects\n",
      "no objects\n",
      "no objects\n"
     ]
    },
    {
     "name": "stderr",
     "output_type": "stream",
     "text": [
      "\r\n",
      "Warmup:  35%|███▌      | 13/37 [00:03,  2.76it/s, step size=2.08e-03, acc. prob=1.000]"
     ]
    },
    {
     "name": "stdout",
     "output_type": "stream",
     "text": [
      "no objects\n",
      "no objects\n",
      "no objects\n",
      "no objects\n",
      "no objects\n",
      "no objects\n",
      "no objects\n",
      "no objects\n",
      "no objects\n",
      "no objects\n",
      "no objects\n",
      "no objects\n",
      "no objects\n",
      "no objects\n",
      "no objects\n",
      "no objects\n",
      "no objects\n",
      "no objects\n",
      "no objects\n",
      "no objects\n",
      "no objects\n",
      "no objects\n",
      "no objects\n",
      "no objects\n",
      "no objects\n",
      "no objects\n",
      "no objects\n",
      "no objects\n",
      "no objects\n",
      "no objects\n",
      "no objects\n",
      "no objects\n",
      "no objects\n",
      "no objects\n",
      "no objects\n",
      "no objects\n",
      "no objects\n",
      "no objects\n",
      "no objects\n",
      "no objects\n",
      "no objects\n",
      "no objects\n",
      "no objects\n",
      "no objects\n",
      "no objects\n",
      "no objects\n",
      "no objects\n",
      "no objects\n",
      "no objects\n",
      "no objects\n",
      "no objects\n",
      "no objects\n",
      "no objects\n",
      "no objects\n",
      "no objects\n",
      "no objects\n",
      "no objects\n",
      "no objects\n",
      "no objects\n",
      "no objects\n",
      "no objects\n",
      "no objects\n",
      "no objects\n",
      "no objects\n"
     ]
    },
    {
     "name": "stderr",
     "output_type": "stream",
     "text": [
      "\r\n",
      "Sample:  38%|███▊      | 14/37 [00:03,  2.68it/s, step size=2.08e-03, acc. prob=0.774]"
     ]
    },
    {
     "name": "stdout",
     "output_type": "stream",
     "text": [
      "no objects\n",
      "no objects\n",
      "no objects\n",
      "no objects\n",
      "no objects\n",
      "no objects\n",
      "no objects\n",
      "no objects\n",
      "no objects\n",
      "no objects\n",
      "no objects\n",
      "no objects\n",
      "no objects\n",
      "no objects\n",
      "no objects\n",
      "no objects\n",
      "no objects\n",
      "no objects\n",
      "no objects\n",
      "no objects\n",
      "no objects\n",
      "no objects\n",
      "no objects\n",
      "no objects\n",
      "no objects\n",
      "no objects\n",
      "no objects\n",
      "no objects\n",
      "no objects\n",
      "no objects\n",
      "no objects\n",
      "no objects\n",
      "no objects\n",
      "no objects\n",
      "no objects\n",
      "no objects\n",
      "no objects\n",
      "no objects\n",
      "no objects\n",
      "no objects\n",
      "no objects\n",
      "no objects\n",
      "no objects\n",
      "no objects\n",
      "no objects\n",
      "no objects\n",
      "no objects\n",
      "no objects\n",
      "no objects\n",
      "no objects\n",
      "no objects\n",
      "no objects\n",
      "no objects\n",
      "no objects\n",
      "no objects\n",
      "no objects\n",
      "no objects\n",
      "no objects\n",
      "no objects\n",
      "no objects\n",
      "no objects\n",
      "no objects\n",
      "no objects\n",
      "no objects\n",
      "no objects\n",
      "no objects\n"
     ]
    },
    {
     "name": "stderr",
     "output_type": "stream",
     "text": [
      "\r\n",
      "Sample:  41%|████      | 15/37 [00:03,  2.63it/s, step size=2.08e-03, acc. prob=0.680]"
     ]
    },
    {
     "name": "stdout",
     "output_type": "stream",
     "text": [
      "no objects\n",
      "no objects\n",
      "no objects\n",
      "no objects\n",
      "no objects\n",
      "no objects\n",
      "no objects\n",
      "no objects\n",
      "no objects\n",
      "no objects\n",
      "no objects\n",
      "no objects\n",
      "no objects\n",
      "no objects\n",
      "no objects\n",
      "no objects\n",
      "no objects\n",
      "no objects\n",
      "no objects\n",
      "no objects\n",
      "no objects\n"
     ]
    },
    {
     "name": "stderr",
     "output_type": "stream",
     "text": [
      "\r\n",
      "Sample:  43%|████▎     | 16/37 [00:04,  3.12it/s, step size=2.08e-03, acc. prob=0.568]"
     ]
    },
    {
     "name": "stdout",
     "output_type": "stream",
     "text": [
      "no objects\n",
      "no objects\n",
      "no objects\n",
      "no objects\n",
      "no objects\n",
      "no objects\n",
      "no objects\n",
      "no objects\n",
      "no objects\n",
      "no objects\n",
      "no objects\n",
      "no objects\n",
      "no objects\n",
      "no objects\n",
      "no objects\n",
      "no objects\n",
      "no objects\n",
      "no objects\n",
      "no objects\n"
     ]
    },
    {
     "name": "stderr",
     "output_type": "stream",
     "text": [
      "\r\n",
      "Sample:  46%|████▌     | 17/37 [00:04,  3.46it/s, step size=2.08e-03, acc. prob=0.593]"
     ]
    },
    {
     "name": "stdout",
     "output_type": "stream",
     "text": [
      "no objects\n",
      "no objects\n",
      "no objects\n",
      "no objects\n",
      "no objects\n",
      "no objects\n",
      "no objects\n",
      "no objects\n",
      "no objects\n",
      "no objects\n",
      "no objects\n",
      "no objects\n",
      "no objects\n",
      "no objects\n",
      "no objects\n",
      "no objects\n",
      "no objects\n",
      "no objects\n",
      "no objects\n",
      "no objects\n",
      "no objects\n",
      "no objects\n",
      "no objects\n",
      "no objects\n",
      "no objects\n",
      "no objects\n",
      "no objects\n",
      "no objects\n",
      "no objects\n",
      "no objects\n",
      "no objects\n",
      "no objects\n",
      "no objects\n",
      "no objects\n",
      "no objects\n",
      "no objects\n",
      "no objects\n",
      "no objects\n",
      "no objects\n",
      "no objects\n",
      "no objects\n",
      "no objects\n",
      "no objects\n",
      "no objects\n",
      "no objects\n",
      "no objects\n",
      "no objects\n",
      "no objects\n",
      "no objects\n",
      "no objects\n",
      "no objects\n",
      "no objects\n",
      "no objects\n",
      "no objects\n",
      "no objects\n",
      "no objects\n",
      "no objects\n",
      "no objects\n",
      "no objects\n",
      "no objects\n",
      "no objects\n",
      "no objects\n",
      "no objects\n",
      "no objects\n"
     ]
    },
    {
     "name": "stderr",
     "output_type": "stream",
     "text": [
      "\r\n",
      "Sample:  49%|████▊     | 18/37 [00:04,  3.08it/s, step size=2.08e-03, acc. prob=0.661]"
     ]
    },
    {
     "name": "stdout",
     "output_type": "stream",
     "text": [
      "no objects\n",
      "no objects\n",
      "no objects\n",
      "no objects\n",
      "no objects\n",
      "no objects\n",
      "no objects\n",
      "no objects\n",
      "no objects\n",
      "no objects\n",
      "no objects\n",
      "no objects\n",
      "no objects\n",
      "no objects\n",
      "no objects\n",
      "no objects\n",
      "no objects\n",
      "no objects\n",
      "no objects\n",
      "no objects\n",
      "no objects\n",
      "no objects\n",
      "no objects\n",
      "no objects\n",
      "no objects\n",
      "no objects\n",
      "no objects\n",
      "no objects\n",
      "no objects\n",
      "no objects\n",
      "no objects\n",
      "no objects\n",
      "no objects\n",
      "no objects\n",
      "no objects\n",
      "no objects\n",
      "no objects\n",
      "no objects\n",
      "no objects\n",
      "no objects\n",
      "no objects\n",
      "no objects\n",
      "no objects\n",
      "no objects\n",
      "no objects\n",
      "no objects\n",
      "no objects\n",
      "no objects\n",
      "no objects\n"
     ]
    },
    {
     "name": "stderr",
     "output_type": "stream",
     "text": [
      "\r\n",
      "Sample:  51%|█████▏    | 19/37 [00:05,  2.68it/s, step size=2.08e-03, acc. prob=0.710]"
     ]
    },
    {
     "name": "stdout",
     "output_type": "stream",
     "text": [
      "no objects\n",
      "no objects\n",
      "no objects\n",
      "no objects\n",
      "no objects\n",
      "no objects\n",
      "no objects\n",
      "no objects\n",
      "no objects\n",
      "no objects\n",
      "no objects\n",
      "no objects\n",
      "no objects\n",
      "no objects\n",
      "no objects\n",
      "no objects\n",
      "no objects\n",
      "no objects\n",
      "no objects\n",
      "no objects\n",
      "no objects\n",
      "no objects\n",
      "no objects\n",
      "no objects\n",
      "no objects\n",
      "no objects\n",
      "no objects\n",
      "no objects\n",
      "no objects\n",
      "no objects\n",
      "no objects\n",
      "no objects\n",
      "no objects\n",
      "no objects\n",
      "no objects\n",
      "no objects\n",
      "no objects\n",
      "no objects\n",
      "no objects\n",
      "no objects\n",
      "no objects\n",
      "no objects\n",
      "no objects\n",
      "no objects\n",
      "no objects\n",
      "no objects\n",
      "no objects\n",
      "no objects\n",
      "no objects\n",
      "no objects\n",
      "no objects\n",
      "no objects\n",
      "no objects\n",
      "no objects\n",
      "no objects\n",
      "no objects\n",
      "no objects\n",
      "no objects\n",
      "no objects\n",
      "no objects\n",
      "no objects\n",
      "no objects\n",
      "no objects\n",
      "no objects\n",
      "no objects\n",
      "no objects\n"
     ]
    },
    {
     "name": "stderr",
     "output_type": "stream",
     "text": [
      "\r\n",
      "Sample:  54%|█████▍    | 20/37 [00:05,  2.60it/s, step size=2.08e-03, acc. prob=0.746]"
     ]
    },
    {
     "name": "stdout",
     "output_type": "stream",
     "text": [
      "no objects\n",
      "no objects\n",
      "no objects\n",
      "no objects\n",
      "no objects\n",
      "no objects\n",
      "no objects\n",
      "no objects\n",
      "no objects\n",
      "no objects\n",
      "no objects\n",
      "no objects\n",
      "no objects\n",
      "no objects\n",
      "no objects\n",
      "no objects\n",
      "no objects\n",
      "no objects\n",
      "no objects\n",
      "no objects\n",
      "no objects\n",
      "no objects\n",
      "no objects\n",
      "no objects\n",
      "no objects\n",
      "no objects\n",
      "no objects\n",
      "no objects\n",
      "no objects\n",
      "no objects\n",
      "no objects\n",
      "no objects\n",
      "no objects\n",
      "no objects\n",
      "no objects\n",
      "no objects\n",
      "no objects\n",
      "no objects\n",
      "no objects\n",
      "no objects\n",
      "no objects\n",
      "no objects\n",
      "no objects\n",
      "no objects\n",
      "no objects\n",
      "no objects\n",
      "no objects\n",
      "no objects\n",
      "no objects\n",
      "no objects\n",
      "no objects\n",
      "no objects\n",
      "no objects\n",
      "no objects\n",
      "no objects\n",
      "no objects\n",
      "no objects\n",
      "no objects\n",
      "no objects\n",
      "no objects\n",
      "no objects\n",
      "no objects\n",
      "no objects\n",
      "no objects\n",
      "no objects\n",
      "no objects\n"
     ]
    },
    {
     "name": "stderr",
     "output_type": "stream",
     "text": [
      "\r\n",
      "Sample:  57%|█████▋    | 21/37 [00:06,  2.58it/s, step size=2.08e-03, acc. prob=0.774]"
     ]
    },
    {
     "name": "stdout",
     "output_type": "stream",
     "text": [
      "no objects\n",
      "no objects\n",
      "no objects\n",
      "no objects\n",
      "no objects\n",
      "no objects\n",
      "no objects\n",
      "no objects\n",
      "no objects\n",
      "no objects\n",
      "no objects\n",
      "no objects\n",
      "no objects\n",
      "no objects\n",
      "no objects\n",
      "no objects\n",
      "no objects\n",
      "no objects\n",
      "no objects\n",
      "no objects\n",
      "no objects\n",
      "no objects\n",
      "no objects\n",
      "no objects\n",
      "no objects\n",
      "no objects\n",
      "no objects\n",
      "no objects\n",
      "no objects\n",
      "no objects\n",
      "no objects\n",
      "no objects\n",
      "no objects\n",
      "no objects\n",
      "no objects\n",
      "no objects\n",
      "no objects\n",
      "no objects\n",
      "no objects\n",
      "no objects\n",
      "no objects\n",
      "no objects\n",
      "no objects\n",
      "no objects\n",
      "no objects\n",
      "no objects\n",
      "no objects\n",
      "no objects\n",
      "no objects\n",
      "no objects\n",
      "no objects\n",
      "no objects\n",
      "no objects\n",
      "no objects\n",
      "no objects\n",
      "no objects\n",
      "no objects\n",
      "no objects\n",
      "no objects\n",
      "no objects\n",
      "no objects\n",
      "no objects\n",
      "no objects\n",
      "no objects\n",
      "no objects\n"
     ]
    },
    {
     "name": "stderr",
     "output_type": "stream",
     "text": [
      "\r\n",
      "Sample:  59%|█████▉    | 22/37 [00:06,  2.56it/s, step size=2.08e-03, acc. prob=0.797]"
     ]
    },
    {
     "name": "stdout",
     "output_type": "stream",
     "text": [
      "no objects\n",
      "no objects\n",
      "no objects\n",
      "no objects\n",
      "no objects\n",
      "no objects\n",
      "no objects\n",
      "no objects\n",
      "no objects\n",
      "no objects\n",
      "no objects\n",
      "no objects\n",
      "no objects\n",
      "no objects\n",
      "no objects\n",
      "no objects\n",
      "no objects\n",
      "no objects\n",
      "no objects\n",
      "no objects\n",
      "no objects\n",
      "no objects\n",
      "no objects\n",
      "no objects\n",
      "no objects\n",
      "no objects\n",
      "no objects\n",
      "no objects\n",
      "no objects\n",
      "no objects\n",
      "no objects\n",
      "no objects\n",
      "no objects\n",
      "no objects\n",
      "no objects\n",
      "no objects\n",
      "no objects\n",
      "no objects\n",
      "no objects\n",
      "no objects\n",
      "no objects\n",
      "no objects\n",
      "no objects\n",
      "no objects\n",
      "no objects\n",
      "no objects\n",
      "no objects\n",
      "no objects\n",
      "no objects\n",
      "no objects\n",
      "no objects\n",
      "no objects\n",
      "no objects\n",
      "no objects\n",
      "no objects\n",
      "no objects\n",
      "no objects\n",
      "no objects\n",
      "no objects\n",
      "no objects\n",
      "no objects\n",
      "no objects\n",
      "no objects\n",
      "no objects\n",
      "no objects\n",
      "no objects\n"
     ]
    },
    {
     "name": "stderr",
     "output_type": "stream",
     "text": [
      "\r\n",
      "Sample:  62%|██████▏   | 23/37 [00:06,  2.55it/s, step size=2.08e-03, acc. prob=0.815]"
     ]
    },
    {
     "name": "stdout",
     "output_type": "stream",
     "text": [
      "no objects\n",
      "no objects\n",
      "no objects\n",
      "no objects\n",
      "no objects\n",
      "no objects\n",
      "no objects\n",
      "no objects\n",
      "no objects\n",
      "no objects\n",
      "no objects\n",
      "no objects\n",
      "no objects\n",
      "no objects\n",
      "no objects\n",
      "no objects\n",
      "no objects\n",
      "no objects\n",
      "no objects\n",
      "no objects\n",
      "no objects\n",
      "no objects\n",
      "no objects\n",
      "no objects\n",
      "no objects\n",
      "no objects\n",
      "no objects\n",
      "no objects\n",
      "no objects\n",
      "no objects\n",
      "no objects\n",
      "no objects\n",
      "no objects\n",
      "no objects\n",
      "no objects\n",
      "no objects\n",
      "no objects\n",
      "no objects\n",
      "no objects\n",
      "no objects\n",
      "no objects\n",
      "no objects\n",
      "no objects\n",
      "no objects\n",
      "no objects\n",
      "no objects\n",
      "no objects\n",
      "no objects\n",
      "no objects\n",
      "no objects\n",
      "no objects\n",
      "no objects\n",
      "no objects\n",
      "no objects\n",
      "no objects\n",
      "no objects\n",
      "no objects\n",
      "no objects\n",
      "no objects\n",
      "no objects\n",
      "no objects\n",
      "no objects\n",
      "no objects\n",
      "no objects\n"
     ]
    },
    {
     "name": "stderr",
     "output_type": "stream",
     "text": [
      "\r\n",
      "Sample:  65%|██████▍   | 24/37 [00:07,  2.52it/s, step size=2.08e-03, acc. prob=0.823]"
     ]
    },
    {
     "name": "stdout",
     "output_type": "stream",
     "text": [
      "no objects\n",
      "no objects\n",
      "no objects\n",
      "no objects\n",
      "no objects\n",
      "no objects\n",
      "no objects\n",
      "no objects\n",
      "no objects\n",
      "no objects\n",
      "no objects\n",
      "no objects\n",
      "no objects\n",
      "no objects\n",
      "no objects\n",
      "no objects\n",
      "no objects\n",
      "no objects\n",
      "no objects\n",
      "no objects\n",
      "no objects\n",
      "no objects\n",
      "no objects\n",
      "no objects\n",
      "no objects\n",
      "no objects\n",
      "no objects\n",
      "no objects\n",
      "no objects\n",
      "no objects\n",
      "no objects\n",
      "no objects\n",
      "no objects\n",
      "no objects\n",
      "no objects\n",
      "no objects\n",
      "no objects\n",
      "no objects\n",
      "no objects\n",
      "no objects\n",
      "no objects\n",
      "no objects\n",
      "no objects\n",
      "no objects\n",
      "no objects\n",
      "no objects\n",
      "no objects\n",
      "no objects\n",
      "no objects\n",
      "no objects\n",
      "no objects\n",
      "no objects\n",
      "no objects\n",
      "no objects\n",
      "no objects\n",
      "no objects\n",
      "no objects\n",
      "no objects\n",
      "no objects\n",
      "no objects\n",
      "no objects\n",
      "no objects\n",
      "no objects\n",
      "no objects\n"
     ]
    },
    {
     "name": "stderr",
     "output_type": "stream",
     "text": [
      "\r\n",
      "Sample:  68%|██████▊   | 25/37 [00:07,  2.51it/s, step size=2.08e-03, acc. prob=0.825]"
     ]
    },
    {
     "name": "stdout",
     "output_type": "stream",
     "text": [
      "no objects\n",
      "no objects\n",
      "no objects\n",
      "no objects\n",
      "no objects\n",
      "no objects\n",
      "no objects\n",
      "no objects\n",
      "no objects\n",
      "no objects\n",
      "no objects\n",
      "no objects\n",
      "no objects\n",
      "no objects\n",
      "no objects\n",
      "no objects\n",
      "no objects\n",
      "no objects\n",
      "no objects\n",
      "no objects\n",
      "no objects\n",
      "no objects\n",
      "no objects\n",
      "no objects\n",
      "no objects\n",
      "no objects\n",
      "no objects\n",
      "no objects\n",
      "no objects\n",
      "no objects\n",
      "no objects\n",
      "no objects\n",
      "no objects\n",
      "no objects\n",
      "no objects\n",
      "no objects\n",
      "no objects\n",
      "no objects\n",
      "no objects\n",
      "no objects\n",
      "no objects\n",
      "no objects\n",
      "no objects\n",
      "no objects\n",
      "no objects\n",
      "no objects\n",
      "no objects\n",
      "no objects\n",
      "no objects\n",
      "no objects\n",
      "no objects\n",
      "no objects\n",
      "no objects\n",
      "no objects\n",
      "no objects\n",
      "no objects\n",
      "no objects\n",
      "no objects\n",
      "no objects\n",
      "no objects\n",
      "no objects\n",
      "no objects\n",
      "no objects\n"
     ]
    },
    {
     "name": "stderr",
     "output_type": "stream",
     "text": [
      "\r\n",
      "Sample:  70%|███████   | 26/37 [00:08,  2.49it/s, step size=2.08e-03, acc. prob=0.837]"
     ]
    },
    {
     "name": "stdout",
     "output_type": "stream",
     "text": [
      "no objects\n",
      "no objects\n",
      "no objects\n",
      "no objects\n",
      "no objects\n",
      "no objects\n",
      "no objects\n",
      "no objects\n",
      "no objects\n",
      "no objects\n",
      "no objects\n",
      "no objects\n",
      "no objects\n",
      "no objects\n",
      "no objects\n",
      "no objects\n",
      "no objects\n",
      "no objects\n",
      "no objects\n",
      "no objects\n",
      "no objects\n",
      "no objects\n",
      "no objects\n",
      "no objects\n",
      "no objects\n",
      "no objects\n",
      "no objects\n",
      "no objects\n",
      "no objects\n",
      "no objects\n",
      "no objects\n",
      "no objects\n",
      "no objects\n",
      "no objects\n",
      "no objects\n",
      "no objects\n",
      "no objects\n",
      "no objects\n",
      "no objects\n",
      "no objects\n",
      "no objects\n",
      "no objects\n",
      "no objects\n",
      "no objects\n",
      "no objects\n",
      "no objects\n",
      "no objects\n",
      "no objects\n",
      "no objects\n",
      "no objects\n",
      "no objects\n",
      "no objects\n",
      "no objects\n",
      "no objects\n",
      "no objects\n",
      "no objects\n",
      "no objects\n",
      "no objects\n",
      "no objects\n",
      "no objects\n",
      "no objects\n",
      "no objects\n",
      "no objects\n",
      "no objects\n",
      "no objects\n",
      "no objects\n"
     ]
    },
    {
     "name": "stderr",
     "output_type": "stream",
     "text": [
      "\r\n",
      "Sample:  73%|███████▎  | 27/37 [00:08,  2.51it/s, step size=2.08e-03, acc. prob=0.848]"
     ]
    },
    {
     "name": "stdout",
     "output_type": "stream",
     "text": [
      "no objects\n",
      "no objects\n",
      "no objects\n",
      "no objects\n",
      "no objects\n",
      "no objects\n",
      "no objects\n",
      "no objects\n",
      "no objects\n",
      "no objects\n",
      "no objects\n",
      "no objects\n",
      "no objects\n",
      "no objects\n",
      "no objects\n",
      "no objects\n",
      "no objects\n",
      "no objects\n",
      "no objects\n",
      "no objects\n",
      "no objects\n",
      "no objects\n",
      "no objects\n",
      "no objects\n",
      "no objects\n",
      "no objects\n",
      "no objects\n",
      "no objects\n",
      "no objects\n",
      "no objects\n",
      "no objects\n",
      "no objects\n",
      "no objects\n",
      "no objects\n",
      "no objects\n",
      "no objects\n",
      "no objects\n",
      "no objects\n",
      "no objects\n",
      "no objects\n",
      "no objects\n",
      "no objects\n",
      "no objects\n",
      "no objects\n",
      "no objects\n",
      "no objects\n",
      "no objects\n",
      "no objects\n",
      "no objects\n",
      "no objects\n",
      "no objects\n",
      "no objects\n",
      "no objects\n",
      "no objects\n",
      "no objects\n",
      "no objects\n",
      "no objects\n",
      "no objects\n",
      "no objects\n",
      "no objects\n",
      "no objects\n",
      "no objects\n",
      "no objects\n",
      "no objects\n",
      "no objects\n",
      "no objects\n",
      "no objects\n",
      "no objects\n"
     ]
    },
    {
     "name": "stderr",
     "output_type": "stream",
     "text": [
      "\r\n",
      "Sample:  76%|███████▌  | 28/37 [00:08,  2.54it/s, step size=2.08e-03, acc. prob=0.849]"
     ]
    },
    {
     "name": "stdout",
     "output_type": "stream",
     "text": [
      "no objects\n",
      "no objects\n",
      "no objects\n",
      "no objects\n",
      "no objects\n",
      "no objects\n",
      "no objects\n",
      "no objects\n",
      "no objects\n",
      "no objects\n",
      "no objects\n",
      "no objects\n",
      "no objects\n",
      "no objects\n",
      "no objects\n",
      "no objects\n",
      "no objects\n",
      "no objects\n",
      "no objects\n",
      "no objects\n",
      "no objects\n"
     ]
    },
    {
     "name": "stderr",
     "output_type": "stream",
     "text": [
      "\r\n",
      "Sample:  78%|███████▊  | 29/37 [00:09,  2.56it/s, step size=2.08e-03, acc. prob=0.821]"
     ]
    },
    {
     "name": "stdout",
     "output_type": "stream",
     "text": [
      "no objects\n",
      "no objects\n",
      "no objects\n",
      "no objects\n",
      "no objects\n",
      "no objects\n",
      "no objects\n",
      "no objects\n",
      "no objects\n",
      "no objects\n",
      "no objects\n",
      "no objects\n",
      "no objects\n",
      "no objects\n",
      "no objects\n",
      "no objects\n",
      "no objects\n",
      "no objects\n",
      "no objects\n",
      "no objects\n",
      "no objects\n",
      "no objects\n",
      "no objects\n",
      "no objects\n",
      "no objects\n",
      "no objects\n",
      "no objects\n",
      "no objects\n",
      "no objects\n",
      "no objects\n",
      "no objects\n",
      "no objects\n",
      "no objects\n",
      "no objects\n",
      "no objects\n",
      "no objects\n",
      "no objects\n",
      "no objects\n",
      "no objects\n",
      "no objects\n",
      "no objects\n",
      "no objects\n",
      "no objects\n",
      "no objects\n",
      "no objects\n",
      "no objects\n",
      "no objects\n",
      "no objects\n",
      "no objects\n",
      "no objects\n",
      "no objects\n",
      "no objects\n",
      "no objects\n",
      "no objects\n",
      "no objects\n",
      "no objects\n",
      "no objects\n",
      "no objects\n",
      "no objects\n",
      "no objects\n",
      "no objects\n",
      "no objects\n",
      "no objects\n",
      "no objects\n",
      "no objects\n",
      "no objects\n",
      "no objects\n",
      "no objects\n",
      "no objects\n",
      "no objects\n",
      "no objects\n",
      "no objects\n",
      "no objects\n",
      "no objects\n",
      "no objects\n",
      "no objects\n",
      "no objects\n",
      "no objects\n",
      "no objects\n",
      "no objects\n",
      "no objects\n",
      "no objects\n",
      "no objects\n",
      "no objects\n",
      "no objects\n",
      "no objects\n",
      "no objects\n",
      "no objects\n",
      "no objects\n"
     ]
    },
    {
     "name": "stderr",
     "output_type": "stream",
     "text": [
      "\r\n",
      "Sample:  81%|████████  | 30/37 [00:09,  2.53it/s, step size=2.08e-03, acc. prob=0.831]"
     ]
    },
    {
     "name": "stdout",
     "output_type": "stream",
     "text": [
      "no objects\n",
      "no objects\n",
      "no objects\n",
      "no objects\n",
      "no objects\n",
      "no objects\n",
      "no objects\n",
      "no objects\n",
      "no objects\n",
      "no objects\n",
      "no objects\n",
      "no objects\n",
      "no objects\n",
      "no objects\n",
      "no objects\n",
      "no objects\n",
      "no objects\n",
      "no objects\n",
      "no objects\n",
      "no objects\n",
      "no objects\n",
      "no objects\n",
      "no objects\n",
      "no objects\n",
      "no objects\n",
      "no objects\n",
      "no objects\n",
      "no objects\n",
      "no objects\n",
      "no objects\n",
      "no objects\n",
      "no objects\n",
      "no objects\n",
      "no objects\n",
      "no objects\n",
      "no objects\n",
      "no objects\n",
      "no objects\n",
      "no objects\n",
      "no objects\n",
      "no objects\n",
      "no objects\n",
      "no objects\n",
      "no objects\n",
      "no objects\n",
      "no objects\n",
      "no objects\n",
      "no objects\n",
      "no objects\n",
      "no objects\n",
      "no objects\n",
      "no objects\n",
      "no objects\n",
      "no objects\n",
      "no objects\n",
      "no objects\n",
      "no objects\n",
      "no objects\n",
      "no objects\n",
      "no objects\n",
      "no objects\n",
      "no objects\n"
     ]
    },
    {
     "name": "stderr",
     "output_type": "stream",
     "text": [
      "\r\n",
      "Sample:  84%|████████▍ | 31/37 [00:10,  2.48it/s, step size=2.08e-03, acc. prob=0.840]"
     ]
    },
    {
     "name": "stdout",
     "output_type": "stream",
     "text": [
      "no objects\n",
      "no objects\n",
      "no objects\n",
      "no objects\n",
      "no objects\n",
      "no objects\n",
      "no objects\n",
      "no objects\n",
      "no objects\n",
      "no objects\n",
      "no objects\n",
      "no objects\n",
      "no objects\n",
      "no objects\n",
      "no objects\n",
      "no objects\n",
      "no objects\n",
      "no objects\n",
      "no objects\n",
      "no objects\n",
      "no objects\n",
      "no objects\n",
      "no objects\n",
      "no objects\n",
      "no objects\n",
      "no objects\n",
      "no objects\n",
      "no objects\n",
      "no objects\n",
      "no objects\n",
      "no objects\n",
      "no objects\n",
      "no objects\n",
      "no objects\n",
      "no objects\n",
      "no objects\n",
      "no objects\n",
      "no objects\n",
      "no objects\n",
      "no objects\n",
      "no objects\n",
      "no objects\n",
      "no objects\n",
      "no objects\n",
      "no objects\n",
      "no objects\n",
      "no objects\n",
      "no objects\n",
      "no objects\n",
      "no objects\n",
      "no objects\n",
      "no objects\n",
      "no objects\n",
      "no objects\n",
      "no objects\n",
      "no objects\n",
      "no objects\n",
      "no objects\n",
      "no objects\n",
      "no objects\n",
      "no objects\n",
      "no objects\n",
      "no objects\n",
      "no objects\n"
     ]
    },
    {
     "name": "stderr",
     "output_type": "stream",
     "text": [
      "\r\n",
      "Sample:  86%|████████▋ | 32/37 [00:10,  2.49it/s, step size=2.08e-03, acc. prob=0.848]"
     ]
    },
    {
     "name": "stdout",
     "output_type": "stream",
     "text": [
      "no objects\n",
      "no objects\n",
      "no objects\n",
      "no objects\n",
      "no objects\n",
      "no objects\n",
      "no objects\n",
      "no objects\n",
      "no objects\n",
      "no objects\n",
      "no objects\n",
      "no objects\n",
      "no objects\n",
      "no objects\n",
      "no objects\n",
      "no objects\n",
      "no objects\n",
      "no objects\n",
      "no objects\n",
      "no objects\n",
      "no objects\n",
      "no objects\n",
      "no objects\n",
      "no objects\n",
      "no objects\n",
      "no objects\n",
      "no objects\n",
      "no objects\n",
      "no objects\n",
      "no objects\n",
      "no objects\n",
      "no objects\n",
      "no objects\n",
      "no objects\n",
      "no objects\n",
      "no objects\n",
      "no objects\n",
      "no objects\n",
      "no objects\n",
      "no objects\n",
      "no objects\n",
      "no objects\n",
      "no objects\n",
      "no objects\n",
      "no objects\n",
      "no objects\n",
      "no objects\n",
      "no objects\n",
      "no objects\n",
      "no objects\n",
      "no objects\n",
      "no objects\n",
      "no objects\n",
      "no objects\n",
      "no objects\n",
      "no objects\n",
      "no objects\n",
      "no objects\n",
      "no objects\n",
      "no objects\n",
      "no objects\n",
      "no objects\n"
     ]
    },
    {
     "name": "stderr",
     "output_type": "stream",
     "text": [
      "\r\n",
      "Sample:  89%|████████▉ | 33/37 [00:10,  2.45it/s, step size=2.08e-03, acc. prob=0.832]"
     ]
    },
    {
     "name": "stdout",
     "output_type": "stream",
     "text": [
      "no objects\n",
      "no objects\n",
      "no objects\n",
      "no objects\n",
      "no objects\n",
      "no objects\n",
      "no objects\n",
      "no objects\n",
      "no objects\n",
      "no objects\n",
      "no objects\n",
      "no objects\n",
      "no objects\n",
      "no objects\n",
      "no objects\n",
      "no objects\n",
      "no objects\n",
      "no objects\n",
      "no objects\n",
      "no objects\n",
      "no objects\n",
      "no objects\n",
      "no objects\n",
      "no objects\n",
      "no objects\n",
      "no objects\n",
      "no objects\n",
      "no objects\n",
      "no objects\n",
      "no objects\n",
      "no objects\n",
      "no objects\n",
      "no objects\n",
      "no objects\n",
      "no objects\n",
      "no objects\n",
      "no objects\n",
      "no objects\n",
      "no objects\n",
      "no objects\n",
      "no objects\n",
      "no objects\n",
      "no objects\n",
      "no objects\n",
      "no objects\n",
      "no objects\n",
      "no objects\n",
      "no objects\n",
      "no objects\n",
      "no objects\n",
      "no objects\n",
      "no objects\n",
      "no objects\n",
      "no objects\n",
      "no objects\n",
      "no objects\n",
      "no objects\n",
      "no objects\n",
      "no objects\n",
      "no objects\n",
      "no objects\n",
      "no objects\n"
     ]
    },
    {
     "name": "stderr",
     "output_type": "stream",
     "text": [
      "\r\n",
      "Sample:  92%|█████████▏| 34/37 [00:11,  2.44it/s, step size=2.08e-03, acc. prob=0.834]"
     ]
    },
    {
     "name": "stdout",
     "output_type": "stream",
     "text": [
      "no objects\n",
      "no objects\n",
      "no objects\n",
      "no objects\n",
      "no objects\n",
      "no objects\n",
      "no objects\n",
      "no objects\n",
      "no objects\n",
      "no objects\n",
      "no objects\n",
      "no objects\n",
      "no objects\n",
      "no objects\n",
      "no objects\n",
      "no objects\n",
      "no objects\n",
      "no objects\n",
      "no objects\n",
      "no objects\n",
      "no objects\n",
      "no objects\n",
      "no objects\n",
      "no objects\n",
      "no objects\n",
      "no objects\n",
      "no objects\n",
      "no objects\n",
      "no objects\n",
      "no objects\n",
      "no objects\n",
      "no objects\n",
      "no objects\n",
      "no objects\n",
      "no objects\n",
      "no objects\n",
      "no objects\n",
      "no objects\n",
      "no objects\n",
      "no objects\n",
      "no objects\n",
      "no objects\n",
      "no objects\n",
      "no objects\n",
      "no objects\n",
      "no objects\n",
      "no objects\n",
      "no objects\n",
      "no objects\n",
      "no objects\n",
      "no objects\n",
      "no objects\n",
      "no objects\n",
      "no objects\n",
      "no objects\n",
      "no objects\n",
      "no objects\n",
      "no objects\n",
      "no objects\n",
      "no objects\n",
      "no objects\n",
      "no objects\n",
      "no objects\n",
      "no objects\n"
     ]
    },
    {
     "name": "stderr",
     "output_type": "stream",
     "text": [
      "\r\n",
      "Sample:  95%|█████████▍| 35/37 [00:11,  2.45it/s, step size=2.08e-03, acc. prob=0.826]"
     ]
    },
    {
     "name": "stdout",
     "output_type": "stream",
     "text": [
      "no objects\n",
      "no objects\n",
      "no objects\n",
      "no objects\n",
      "no objects\n",
      "no objects\n",
      "no objects\n",
      "no objects\n",
      "no objects\n",
      "no objects\n",
      "no objects\n",
      "no objects\n",
      "no objects\n",
      "no objects\n",
      "no objects\n",
      "no objects\n",
      "no objects\n",
      "no objects\n",
      "no objects\n",
      "no objects\n",
      "no objects\n",
      "no objects\n",
      "no objects\n",
      "no objects\n",
      "no objects\n",
      "no objects\n",
      "no objects\n",
      "no objects\n",
      "no objects\n",
      "no objects\n",
      "no objects\n",
      "no objects\n",
      "no objects\n",
      "no objects\n",
      "no objects\n",
      "no objects\n",
      "no objects\n",
      "no objects\n",
      "no objects\n",
      "no objects\n",
      "no objects\n",
      "no objects\n",
      "no objects\n",
      "no objects\n",
      "no objects\n",
      "no objects\n",
      "no objects\n",
      "no objects\n",
      "no objects\n",
      "no objects\n",
      "no objects\n",
      "no objects\n",
      "no objects\n",
      "no objects\n",
      "no objects\n",
      "no objects\n",
      "no objects\n",
      "no objects\n",
      "no objects\n",
      "no objects\n",
      "no objects\n",
      "no objects\n",
      "no objects\n"
     ]
    },
    {
     "name": "stderr",
     "output_type": "stream",
     "text": [
      "\r\n",
      "Sample:  97%|█████████▋| 36/37 [00:12,  2.45it/s, step size=2.08e-03, acc. prob=0.832]"
     ]
    },
    {
     "name": "stdout",
     "output_type": "stream",
     "text": [
      "no objects\n",
      "no objects\n",
      "no objects\n",
      "no objects\n",
      "no objects\n",
      "no objects\n",
      "no objects\n",
      "no objects\n",
      "no objects\n",
      "no objects\n",
      "no objects\n",
      "no objects\n",
      "no objects\n",
      "no objects\n",
      "no objects\n",
      "no objects\n",
      "no objects\n",
      "no objects\n",
      "no objects\n",
      "no objects\n",
      "no objects\n",
      "no objects\n",
      "no objects\n",
      "no objects\n",
      "no objects\n",
      "no objects\n",
      "no objects\n",
      "no objects\n",
      "no objects\n",
      "no objects\n",
      "no objects\n",
      "no objects\n",
      "no objects\n",
      "no objects\n",
      "no objects\n",
      "no objects\n",
      "no objects\n",
      "no objects\n",
      "no objects\n",
      "no objects\n",
      "no objects\n",
      "no objects\n",
      "no objects\n",
      "no objects\n",
      "no objects\n",
      "no objects\n",
      "no objects\n",
      "no objects\n",
      "no objects\n",
      "no objects\n",
      "no objects\n",
      "no objects\n",
      "no objects\n",
      "no objects\n",
      "no objects\n",
      "no objects\n",
      "no objects\n",
      "no objects\n",
      "no objects\n",
      "no objects\n",
      "no objects\n",
      "no objects\n",
      "no objects\n",
      "no objects\n"
     ]
    },
    {
     "name": "stderr",
     "output_type": "stream",
     "text": [
      "Sample: 100%|██████████| 37/37 [00:12,  2.93it/s, step size=2.08e-03, acc. prob=0.827]"
     ]
    },
    {
     "name": "stdout",
     "output_type": "stream",
     "text": [
      "no objects\n",
      "no objects\n",
      "no objects\n",
      "no objects\n",
      "no objects\n",
      "no objects\n",
      "no objects\n",
      "no objects\n",
      "no objects\n",
      "no objects\n",
      "no objects\n",
      "no objects\n",
      "no objects\n",
      "no objects\n",
      "no objects\n",
      "no objects\n",
      "no objects\n",
      "no objects\n",
      "no objects\n"
     ]
    },
    {
     "name": "stderr",
     "output_type": "stream",
     "text": [
      "\n"
     ]
    },
    {
     "name": "stdout",
     "output_type": "stream",
     "text": [
      "no objects\n",
      "no objects\n",
      "no objects\n",
      "no objects\n",
      "no objects\n",
      "no objects\n",
      "no objects\n",
      "no objects\n",
      "no objects\n",
      "no objects\n",
      "no objects\n",
      "no objects\n",
      "no objects\n",
      "no objects\n",
      "no objects\n",
      "no objects\n",
      "no objects\n",
      "no objects\n",
      "no objects\n",
      "no objects\n",
      "no objects\n",
      "no objects\n",
      "no objects\n",
      "no objects\n",
      "no objects\n",
      "28 30\n",
      "Initial trace log prob:  tensor(-44364842.8315)\n",
      "Connecting to meshcat-server at zmq_url=tcp://127.0.0.1:6001...\n",
      "You can open the visualizer by visiting the following URL:\n",
      "http://127.0.0.1:7001/static/\n",
      "Connected to meshcat-server.\n"
     ]
    },
    {
     "name": "stderr",
     "output_type": "stream",
     "text": [
      "Sample: 100%|██████████| 37/37 [00:36,  1.00it/s, step size=1.58e-03, acc. prob=0.890]\n"
     ]
    },
    {
     "name": "stdout",
     "output_type": "stream",
     "text": [
      "29 30\n",
      "Initial trace log prob:  tensor(-7064587.2389)\n"
     ]
    },
    {
     "name": "stderr",
     "output_type": "stream",
     "text": [
      "\r\n",
      "Warmup:   0%|          | 0/37 [00:00, ?it/s]"
     ]
    },
    {
     "name": "stdout",
     "output_type": "stream",
     "text": [
      "Connecting to meshcat-server at zmq_url=tcp://127.0.0.1:6001...\n",
      "You can open the visualizer by visiting the following URL:\n",
      "http://127.0.0.1:7001/static/\n",
      "Connected to meshcat-server.\n"
     ]
    },
    {
     "name": "stderr",
     "output_type": "stream",
     "text": [
      "Sample: 100%|██████████| 37/37 [00:21,  1.71it/s, step size=1.15e-03, acc. prob=0.957]\n"
     ]
    }
   ],
   "source": [
    "# This one saves out the pre-fit examples, and doesn't bother with physics,\n",
    "# since these samples are all over the place. It still does HMC to try to resolve\n",
    "# the basic constraints (for better comparison with post-fit)\n",
    "fit_grammar.load_state_dict(em.grammar_iters[0])\n",
    "state_dict_file = \"baseline_pre_fit_grammar_state_dict.torch\"\n",
    "print(\"Saving state dict to \", state_dict_file)\n",
    "torch.save(fit_grammar.state_dict(), state_dict_file)\n",
    "# Try to collect a target number of examples, and save them out\n",
    "dataset_save_file = \"baseline_pre_fit_grammar_draws.pickle\"\n",
    "N = 30\n",
    "k = 0\n",
    "pbar = tqdm(total=N, desc=\"Samples\")\n",
    "while k < N:\n",
    "    print(k, N)\n",
    "    _, nonfeasible_tree = sample_realistic_scene(fit_grammar, constraints, skip_physics_constraints=True)\n",
    "    if nonfeasible_tree is not None:\n",
    "        with open(dataset_save_file, \"a+b\") as f:\n",
    "            pickle.dump((None, nonfeasible_tree), f)\n",
    "        k += 1\n",
    "        pbar.update(k)\n",
    "pbar.close()"
   ]
  },
  {
   "cell_type": "code",
   "execution_count": 10,
   "metadata": {},
   "outputs": [
    {
     "name": "stdout",
     "output_type": "stream",
     "text": [
      "Saving state dict to  baseline_post_fit_grammar_state_dict.torch\n"
     ]
    },
    {
     "data": {
      "application/vnd.jupyter.widget-view+json": {
       "model_id": "73355abc110a4a21950e83fb045f4f69",
       "version_major": 2,
       "version_minor": 0
      },
      "text/plain": [
       "Samples:   0%|          | 0/30 [00:00<?, ?it/s]"
      ]
     },
     "metadata": {},
     "output_type": "display_data"
    },
    {
     "name": "stdout",
     "output_type": "stream",
     "text": [
      "Initial trace log prob:  tensor(-14581.0879)\n"
     ]
    },
    {
     "name": "stderr",
     "output_type": "stream",
     "text": [
      "Sample: 100%|██████████| 37/37 [00:21,  1.71it/s, step size=7.95e-04, acc. prob=0.852]\n"
     ]
    },
    {
     "name": "stdout",
     "output_type": "stream",
     "text": [
      "At iter 1\n",
      "Initial trace log prob:  tensor(-920.9405)\n"
     ]
    },
    {
     "name": "stderr",
     "output_type": "stream",
     "text": [
      "Sample: 100%|██████████| 37/37 [00:13,  2.69it/s, step size=7.91e-04, acc. prob=0.924]\n"
     ]
    },
    {
     "name": "stdout",
     "output_type": "stream",
     "text": [
      "At iter 2\n",
      "Initial trace log prob:  tensor(89.5903)\n"
     ]
    },
    {
     "name": "stderr",
     "output_type": "stream",
     "text": [
      "Sample: 100%|██████████| 37/37 [00:21,  1.74it/s, step size=6.76e-04, acc. prob=0.900]\n"
     ]
    },
    {
     "name": "stdout",
     "output_type": "stream",
     "text": [
      "At iter 3\n",
      "Initial trace log prob:  tensor(-27895.6590)\n"
     ]
    },
    {
     "name": "stderr",
     "output_type": "stream",
     "text": [
      "Sample: 100%|██████████| 37/37 [00:21,  1.71it/s, step size=6.24e-04, acc. prob=0.928]\n"
     ]
    },
    {
     "name": "stdout",
     "output_type": "stream",
     "text": [
      "At iter 4\n",
      "Initial trace log prob:  tensor(-7069.2128)\n"
     ]
    },
    {
     "name": "stderr",
     "output_type": "stream",
     "text": [
      "Sample: 100%|██████████| 37/37 [00:22,  1.63it/s, step size=6.71e-04, acc. prob=0.889]\n"
     ]
    },
    {
     "name": "stdout",
     "output_type": "stream",
     "text": [
      "At iter 5\n",
      "Initial trace log prob:  tensor(-10138.6743)\n"
     ]
    },
    {
     "name": "stderr",
     "output_type": "stream",
     "text": [
      "Sample: 100%|██████████| 37/37 [00:20,  1.81it/s, step size=8.57e-04, acc. prob=0.816]\n"
     ]
    },
    {
     "name": "stdout",
     "output_type": "stream",
     "text": [
      "At iter 6\n",
      "Initial trace log prob:  tensor(-8169.4532)\n"
     ]
    },
    {
     "name": "stderr",
     "output_type": "stream",
     "text": [
      "Sample: 100%|██████████| 37/37 [00:17,  2.09it/s, step size=9.11e-04, acc. prob=0.853]\n"
     ]
    },
    {
     "name": "stdout",
     "output_type": "stream",
     "text": [
      "At iter 7\n",
      "Initial trace log prob:  tensor(58.6740)\n"
     ]
    },
    {
     "name": "stderr",
     "output_type": "stream",
     "text": [
      "Sample: 100%|██████████| 37/37 [00:22,  1.65it/s, step size=6.24e-04, acc. prob=0.923]\n"
     ]
    },
    {
     "name": "stdout",
     "output_type": "stream",
     "text": [
      "At iter 8\n",
      "Initial trace log prob:  tensor(-1881.7105)\n"
     ]
    },
    {
     "name": "stderr",
     "output_type": "stream",
     "text": [
      "Sample: 100%|██████████| 37/37 [00:20,  1.84it/s, step size=7.96e-04, acc. prob=0.854]\n"
     ]
    },
    {
     "name": "stdout",
     "output_type": "stream",
     "text": [
      "At iter 9\n",
      "Initial trace log prob:  tensor(261.5454)\n"
     ]
    },
    {
     "name": "stderr",
     "output_type": "stream",
     "text": [
      "Sample: 100%|██████████| 37/37 [00:15,  2.42it/s, step size=7.05e-04, acc. prob=0.924]\n"
     ]
    },
    {
     "name": "stdout",
     "output_type": "stream",
     "text": [
      "At iter 10\n",
      "Initial trace log prob:  tensor(-2904.6683)\n"
     ]
    },
    {
     "name": "stderr",
     "output_type": "stream",
     "text": [
      "Sample: 100%|██████████| 37/37 [00:10,  3.37it/s, step size=1.12e-03, acc. prob=0.874]\n"
     ]
    },
    {
     "name": "stdout",
     "output_type": "stream",
     "text": [
      "At iter 11\n",
      "Initial trace log prob:  tensor(-975.2363)\n"
     ]
    },
    {
     "name": "stderr",
     "output_type": "stream",
     "text": [
      "Sample: 100%|██████████| 37/37 [00:19,  1.90it/s, step size=6.49e-04, acc. prob=0.931]\n"
     ]
    },
    {
     "name": "stdout",
     "output_type": "stream",
     "text": [
      "At iter 12\n",
      "Initial trace log prob:  tensor(184.3063)\n"
     ]
    },
    {
     "name": "stderr",
     "output_type": "stream",
     "text": [
      "Sample: 100%|██████████| 37/37 [00:18,  1.97it/s, step size=9.08e-04, acc. prob=0.873]\n"
     ]
    },
    {
     "name": "stdout",
     "output_type": "stream",
     "text": [
      "At iter 13\n",
      "Initial trace log prob:  tensor(-6004.2235)\n"
     ]
    },
    {
     "name": "stderr",
     "output_type": "stream",
     "text": [
      "Sample: 100%|██████████| 37/37 [00:18,  1.97it/s, step size=4.91e-04, acc. prob=0.967]\n"
     ]
    },
    {
     "name": "stdout",
     "output_type": "stream",
     "text": [
      "At iter 14\n",
      "Initial trace log prob:  tensor(-6192.3564)\n"
     ]
    },
    {
     "name": "stderr",
     "output_type": "stream",
     "text": [
      "Sample: 100%|██████████| 37/37 [00:15,  2.38it/s, step size=8.68e-04, acc. prob=0.869]\n"
     ]
    },
    {
     "name": "stdout",
     "output_type": "stream",
     "text": [
      "At iter 15\n",
      "Initial trace log prob:  tensor(-1996.0641)\n"
     ]
    },
    {
     "name": "stderr",
     "output_type": "stream",
     "text": [
      "Sample: 100%|██████████| 37/37 [00:18,  1.99it/s, step size=7.31e-04, acc. prob=0.887]\n"
     ]
    },
    {
     "name": "stdout",
     "output_type": "stream",
     "text": [
      "At iter 16\n",
      "Initial trace log prob:  tensor(333.7054)\n"
     ]
    },
    {
     "name": "stderr",
     "output_type": "stream",
     "text": [
      "Sample: 100%|██████████| 37/37 [00:18,  1.99it/s, step size=6.11e-04, acc. prob=0.917]\n"
     ]
    },
    {
     "name": "stdout",
     "output_type": "stream",
     "text": [
      "At iter 17\n",
      "Initial trace log prob:  tensor(-663.9833)\n"
     ]
    },
    {
     "name": "stderr",
     "output_type": "stream",
     "text": [
      "Sample: 100%|██████████| 37/37 [00:17,  2.06it/s, step size=6.02e-04, acc. prob=0.919]\n"
     ]
    },
    {
     "name": "stdout",
     "output_type": "stream",
     "text": [
      "At iter 18\n",
      "Initial trace log prob:  tensor(-1940.9352)\n"
     ]
    },
    {
     "name": "stderr",
     "output_type": "stream",
     "text": [
      "Sample: 100%|██████████| 37/37 [00:17,  2.08it/s, step size=8.72e-04, acc. prob=0.888]\n"
     ]
    },
    {
     "name": "stdout",
     "output_type": "stream",
     "text": [
      "At iter 19\n",
      "Initial trace log prob:  tensor(117.7765)\n"
     ]
    },
    {
     "name": "stderr",
     "output_type": "stream",
     "text": [
      "Sample: 100%|██████████| 37/37 [00:22,  1.67it/s, step size=6.52e-04, acc. prob=0.907]\n"
     ]
    },
    {
     "name": "stdout",
     "output_type": "stream",
     "text": [
      "At iter 20\n",
      "Initial trace log prob:  tensor(-2591.6460)\n"
     ]
    },
    {
     "name": "stderr",
     "output_type": "stream",
     "text": [
      "Sample: 100%|██████████| 37/37 [00:19,  1.93it/s, step size=8.89e-04, acc. prob=0.849]\n"
     ]
    },
    {
     "name": "stdout",
     "output_type": "stream",
     "text": [
      "At iter 21\n",
      "Initial trace log prob:  tensor(-4899.0385)\n"
     ]
    },
    {
     "name": "stderr",
     "output_type": "stream",
     "text": [
      "Sample: 100%|██████████| 37/37 [00:19,  1.92it/s, step size=6.21e-04, acc. prob=0.940]\n"
     ]
    },
    {
     "name": "stdout",
     "output_type": "stream",
     "text": [
      "At iter 22\n",
      "Initial trace log prob:  tensor(202.8407)\n"
     ]
    },
    {
     "name": "stderr",
     "output_type": "stream",
     "text": [
      "Sample: 100%|██████████| 37/37 [00:17,  2.18it/s, step size=7.51e-04, acc. prob=0.910]\n"
     ]
    },
    {
     "name": "stdout",
     "output_type": "stream",
     "text": [
      "At iter 23\n",
      "Initial trace log prob:  tensor(-1521.1819)\n"
     ]
    },
    {
     "name": "stderr",
     "output_type": "stream",
     "text": [
      "Sample: 100%|██████████| 37/37 [00:22,  1.63it/s, step size=9.72e-04, acc. prob=0.841]\n"
     ]
    },
    {
     "name": "stdout",
     "output_type": "stream",
     "text": [
      "At iter 24\n",
      "Initial trace log prob:  tensor(229.0027)\n"
     ]
    },
    {
     "name": "stderr",
     "output_type": "stream",
     "text": [
      "Sample: 100%|██████████| 37/37 [00:21,  1.72it/s, step size=1.01e-03, acc. prob=0.772]\n"
     ]
    },
    {
     "name": "stdout",
     "output_type": "stream",
     "text": [
      "At iter 25\n",
      "Initial trace log prob:  tensor(-2455.5355)\n"
     ]
    },
    {
     "name": "stderr",
     "output_type": "stream",
     "text": [
      "Sample: 100%|██████████| 37/37 [00:25,  1.43it/s, step size=9.62e-04, acc. prob=0.793]\n"
     ]
    }
   ],
   "source": [
    "# This one saves out the post-fit examples, before and after the physics projection step.\n",
    "fit_grammar.load_state_dict(em.grammar_iters[-1])\n",
    "state_dict_file = \"baseline_post_fit_grammar_state_dict.torch\"\n",
    "print(\"Saving state dict to \", state_dict_file)\n",
    "torch.save(fit_grammar.state_dict(), state_dict_file)\n",
    "# Try to collect a target number of examples, and save them out\n",
    "dataset_save_file = \"baseline_post_fit_grammar_draws.pickle\"\n",
    "N = 30\n",
    "k = 0\n",
    "pbar = tqdm(total=N, desc=\"Samples\")\n",
    "while k < N:\n",
    "    feasible_tree, nonfeasible_tree = sample_realistic_scene(fit_grammar, constraints, skip_physics_constraints=False)\n",
    "    if feasible_tree is not None:\n",
    "        with open(dataset_save_file, \"a+b\") as f:\n",
    "            pickle.dump((feasible_tree, nonfeasible_tree), f)\n",
    "        k = k + 1\n",
    "        pbar.update(k)\n",
    "        print(\"At iter %d\" % k)\n",
    "        draw_scene_tree_contents_meshcat(feasible_tree, zmq_url=vis.window.zmq_url,  prefix=\"test_tree/contents\")\n",
    "        draw_scene_tree_structure_meshcat(feasible_tree, zmq_url=vis.window.zmq_url,  prefix=\"test_tree/structure\")\n",
    "pbar.close()"
   ]
  },
  {
   "cell_type": "code",
   "execution_count": null,
   "metadata": {},
   "outputs": [],
   "source": []
  }
 ],
 "metadata": {
  "kernelspec": {
   "display_name": ".venv",
   "language": "python",
   "name": "python3"
  },
  "language_info": {
   "codemirror_mode": {
    "name": "ipython",
    "version": 3
   },
   "file_extension": ".py",
   "mimetype": "text/x-python",
   "name": "python",
   "nbconvert_exporter": "python",
   "pygments_lexer": "ipython3",
   "version": "3.10.12"
  }
 },
 "nbformat": 4,
 "nbformat_minor": 4
}
